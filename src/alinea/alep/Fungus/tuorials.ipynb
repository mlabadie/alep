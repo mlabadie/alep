{
 "cells": [
  {
   "cell_type": "markdown",
   "source": [
    "# Create of fungus"
   ],
   "metadata": {}
  },
  {
   "cell_type": "markdown",
   "source": [
    "Fungal population is composed of individual spores and lesions.\r\n",
    "Two biological forms of the fungus are identified: \r\n",
    "* (1) lesions, which display as symptoms on leaves and sporulate to produce newdispersal units\r\n",
    "* (2) the dispersal units, which are dispersed at the canopy level and infect the leaves\r\n",
    "\r\n",
    "                                                                    (Garin et al 2014)"
   ],
   "metadata": {}
  },
  {
   "cell_type": "markdown",
   "source": [
    "# Create a dispersal Unit"
   ],
   "metadata": {}
  },
  {
   "cell_type": "markdown",
   "source": [
    "One dispersal unit represents either one spore by wind, rain or one aggregate of spores (group_dus)\r\n",
    "One dispersal unit produces one single lesion after infection if specific environmental conditions are met.\r\n",
    "During an infection cycle spores germinate and the fungus penetrates the leaf, thus forming a lesion that will sporulate and emit a new generation of dispersal units."
   ],
   "metadata": {}
  },
  {
   "cell_type": "markdown",
   "source": [
    "Dispersal Unit Class is composed of:\r\n",
    "- infect: Compute the success of infection by the DU\r\n",
    "    - dt' (int): Time step of the simulation (in hours)\r\n",
    "    - 'leaf' (Leaf sector node of a MTG): A leaf sector with properties (e.g. area,green area, senescence, wetness, temperature, other DUs and lesions, ...)\r\n",
    "    - **kwds : optional arguments depending on fungus specifications\r\n",
    "\r\n",
    "- create_lesion: Create new lesions of same fungus type as DU, and disable self if no DU left in cohort\r\n",
    "    - 'nb_lesions' (int): Number of lesions to create from DU (or cohort of DU)\r\n",
    "    - 'leaf' (Leaf sector node of a MTG): A leaf sector with properties (e.g. area,green area, senescence,  wetness,    temperature, other DUs and lesions, ...)\r\n",
    "    - **kwds : optional arguments depending on fungus specifications\r\n",
    " \r\n",
    "- disable: Disable the dispersal unit ie: if spore is active or latant (True or False)\r\n",
    "- set_position: Set the position of the DU to position given in argument. Position of the DU: coordinates on the leaf axis\r\n",
    "- set_status :Set the status of the DU to given argument status is emmited of deposit\r\n",
    "- set_nb_dispersal_unit:Set the number of DUs in cohort to number given in argument Number of dispersal_units in the cohort"
   ],
   "metadata": {}
  },
  {
   "cell_type": "code",
   "execution_count": 1,
   "source": [
    "from alinea.alep.fungus import DispersalUnit"
   ],
   "outputs": [],
   "metadata": {}
  },
  {
   "cell_type": "code",
   "execution_count": 13,
   "source": [
    "class SimpleDUTuto(DispersalUnit): \r\n",
    "    def __init__(self, mutable=False):\r\n",
    "        super(SimpleDUTuto, self).__init__(mutable=mutable)\r\n",
    "        self.is_active = True\r\n",
    "        self.status = 'emitted'\r\n",
    "        self.nb_dispersal_units = 1\r\n",
    "\r\n",
    "    def infect(self, dt=1, leaf=None, **kwds):\r\n",
    "        if self.is_active: \r\n",
    "\r\n",
    "            # property of leaf element of MTG\r\n",
    "            if leaf.green_area == 0: \r\n",
    "                self.disable()\r\n",
    "                return\r\n",
    "            \r\n",
    "            if self.nb_dispersal_units == 0. or self.nb_spores == 0.: \r\n",
    "                self.disable()\r\n",
    "                return\r\n"
   ],
   "outputs": [],
   "metadata": {}
  },
  {
   "cell_type": "code",
   "execution_count": 16,
   "source": [
    "from alinea.alep.fungus import Fungus\r\n",
    "fungus=Fungus(Lesion=1,DispersalUnit=1)\r\n",
    "    \r\n",
    "fungus.lesion()\r\n",
    "\r\n",
    "    "
   ],
   "outputs": [
    {
     "output_type": "error",
     "ename": "AttributeError",
     "evalue": "'int' object has no attribute 'fungus'",
     "traceback": [
      "\u001b[1;31m---------------------------------------------------------------------------\u001b[0m",
      "\u001b[1;31mAttributeError\u001b[0m                            Traceback (most recent call last)",
      "\u001b[1;32m<ipython-input-16-8bd07971d48b>\u001b[0m in \u001b[0;36m<module>\u001b[1;34m\u001b[0m\n\u001b[0;32m      2\u001b[0m \u001b[0mfungus\u001b[0m\u001b[1;33m=\u001b[0m\u001b[0mFungus\u001b[0m\u001b[1;33m(\u001b[0m\u001b[0mLesion\u001b[0m\u001b[1;33m=\u001b[0m\u001b[1;36m1\u001b[0m\u001b[1;33m,\u001b[0m\u001b[0mDispersalUnit\u001b[0m\u001b[1;33m=\u001b[0m\u001b[1;36m1\u001b[0m\u001b[1;33m)\u001b[0m\u001b[1;33m\u001b[0m\u001b[1;33m\u001b[0m\u001b[0m\n\u001b[0;32m      3\u001b[0m \u001b[1;33m\u001b[0m\u001b[0m\n\u001b[1;32m----> 4\u001b[1;33m \u001b[0mfungus\u001b[0m\u001b[1;33m.\u001b[0m\u001b[0mlesion\u001b[0m\u001b[1;33m(\u001b[0m\u001b[1;33m)\u001b[0m\u001b[1;33m\u001b[0m\u001b[1;33m\u001b[0m\u001b[0m\n\u001b[0m\u001b[0;32m      5\u001b[0m \u001b[1;33m\u001b[0m\u001b[0m\n\u001b[0;32m      6\u001b[0m \u001b[1;33m\u001b[0m\u001b[0m\n",
      "\u001b[1;32m~\\Documents\\GitHub\\openalea-incubator\\alep\\src\\alinea\\alep\\fungus.py\u001b[0m in \u001b[0;36mlesion\u001b[1;34m(self, mutable, **kwds)\u001b[0m\n\u001b[0;32m    313\u001b[0m         \"\"\"\n\u001b[0;32m    314\u001b[0m         \u001b[0mself\u001b[0m\u001b[1;33m.\u001b[0m\u001b[0mupdate_parameters\u001b[0m\u001b[1;33m(\u001b[0m\u001b[1;33m**\u001b[0m\u001b[0mkwds\u001b[0m\u001b[1;33m)\u001b[0m\u001b[1;33m\u001b[0m\u001b[1;33m\u001b[0m\u001b[0m\n\u001b[1;32m--> 315\u001b[1;33m         \u001b[0mself\u001b[0m\u001b[1;33m.\u001b[0m\u001b[0mLesion_class\u001b[0m\u001b[1;33m.\u001b[0m\u001b[0mfungus\u001b[0m \u001b[1;33m=\u001b[0m \u001b[0mself\u001b[0m\u001b[1;33m\u001b[0m\u001b[1;33m\u001b[0m\u001b[0m\n\u001b[0m\u001b[0;32m    316\u001b[0m         \u001b[0minstance\u001b[0m \u001b[1;33m=\u001b[0m \u001b[0mself\u001b[0m\u001b[1;33m.\u001b[0m\u001b[0mLesion_class\u001b[0m\u001b[1;33m(\u001b[0m\u001b[0mmutable\u001b[0m\u001b[1;33m=\u001b[0m\u001b[0mmutable\u001b[0m\u001b[1;33m)\u001b[0m\u001b[1;33m\u001b[0m\u001b[1;33m\u001b[0m\u001b[0m\n\u001b[0;32m    317\u001b[0m         \u001b[1;32mreturn\u001b[0m \u001b[0minstance\u001b[0m\u001b[1;33m\u001b[0m\u001b[1;33m\u001b[0m\u001b[0m\n",
      "\u001b[1;31mAttributeError\u001b[0m: 'int' object has no attribute 'fungus'"
     ]
    }
   ],
   "metadata": {}
  },
  {
   "cell_type": "markdown",
   "source": [
    "# Create a lesion"
   ],
   "metadata": {}
  },
  {
   "cell_type": "markdown",
   "source": [
    "To implement a dispersal unit for a specific fungus, you can override the following methods:\r\n",
    "- update()\r\n",
    "- control_growth()\r\n",
    "- emission()\r\n",
    "- senescence_response()"
   ],
   "metadata": {}
  },
  {
   "cell_type": "code",
   "execution_count": 17,
   "source": [
    "fungus_name=\"tuto_marc\"\r\n",
    "\r\n",
    "class LesionTutoMarc(Lesion): \r\n",
    "    def __init__(self, mutable=False):\r\n",
    "        super().__init__(mutable=mutable)\r\n",
    "        self.fungus.name = fungus_name\r\n",
    "\r\n",
    "    def update(): \r\n",
    "        pass\r\n",
    "    \r\n",
    "    def control_growth(): \r\n",
    "        pass \r\n",
    "\r\n",
    "    def emmision(): \r\n",
    "        return 1\r\n",
    "    \r\n",
    "\r\n",
    "    \r\n"
   ],
   "outputs": [],
   "metadata": {}
  },
  {
   "cell_type": "code",
   "execution_count": 10,
   "source": [],
   "outputs": [
    {
     "output_type": "error",
     "ename": "AttributeError",
     "evalue": "'Fungus' object has no attribute 'rain_events_to_empty'",
     "traceback": [
      "\u001b[1;31m---------------------------------------------------------------------------\u001b[0m",
      "\u001b[1;31mAttributeError\u001b[0m                            Traceback (most recent call last)",
      "\u001b[1;32m<ipython-input-10-92001f11390f>\u001b[0m in \u001b[0;36m<module>\u001b[1;34m\u001b[0m\n\u001b[1;32m----> 1\u001b[1;33m \u001b[0msource_lesion\u001b[0m \u001b[1;33m=\u001b[0m \u001b[0mSeptoFungus\u001b[0m\u001b[1;33m.\u001b[0m\u001b[0mlesion\u001b[0m\u001b[1;33m(\u001b[0m\u001b[1;33m)\u001b[0m\u001b[1;33m\u001b[0m\u001b[1;33m\u001b[0m\u001b[0m\n\u001b[0m",
      "\u001b[1;32m~\\Documents\\GitHub\\openalea-incubator\\alep\\src\\alinea\\alep\\fungus.py\u001b[0m in \u001b[0;36mlesion\u001b[1;34m(self, mutable, **kwds)\u001b[0m\n\u001b[0;32m    314\u001b[0m         \u001b[0mself\u001b[0m\u001b[1;33m.\u001b[0m\u001b[0mupdate_parameters\u001b[0m\u001b[1;33m(\u001b[0m\u001b[1;33m**\u001b[0m\u001b[0mkwds\u001b[0m\u001b[1;33m)\u001b[0m\u001b[1;33m\u001b[0m\u001b[1;33m\u001b[0m\u001b[0m\n\u001b[0;32m    315\u001b[0m         \u001b[0mself\u001b[0m\u001b[1;33m.\u001b[0m\u001b[0mLesion_class\u001b[0m\u001b[1;33m.\u001b[0m\u001b[0mfungus\u001b[0m \u001b[1;33m=\u001b[0m \u001b[0mself\u001b[0m\u001b[1;33m\u001b[0m\u001b[1;33m\u001b[0m\u001b[0m\n\u001b[1;32m--> 316\u001b[1;33m         \u001b[0minstance\u001b[0m \u001b[1;33m=\u001b[0m \u001b[0mself\u001b[0m\u001b[1;33m.\u001b[0m\u001b[0mLesion_class\u001b[0m\u001b[1;33m(\u001b[0m\u001b[0mmutable\u001b[0m\u001b[1;33m=\u001b[0m\u001b[0mmutable\u001b[0m\u001b[1;33m)\u001b[0m\u001b[1;33m\u001b[0m\u001b[1;33m\u001b[0m\u001b[0m\n\u001b[0m\u001b[0;32m    317\u001b[0m         \u001b[1;32mreturn\u001b[0m \u001b[0minstance\u001b[0m\u001b[1;33m\u001b[0m\u001b[1;33m\u001b[0m\u001b[0m\n",
      "\u001b[1;32m~\\Documents\\GitHub\\openalea-incubator\\alep\\src\\alinea\\alep\\septo3d_v2.py\u001b[0m in \u001b[0;36m__init__\u001b[1;34m(self, mutable)\u001b[0m\n\u001b[0;32m    186\u001b[0m         \u001b[0msuper\u001b[0m\u001b[1;33m(\u001b[0m\u001b[0mSeptoriaLesion\u001b[0m\u001b[1;33m,\u001b[0m \u001b[0mself\u001b[0m\u001b[1;33m)\u001b[0m\u001b[1;33m.\u001b[0m\u001b[0m__init__\u001b[0m\u001b[1;33m(\u001b[0m\u001b[0mmutable\u001b[0m\u001b[1;33m=\u001b[0m\u001b[0mmutable\u001b[0m\u001b[1;33m)\u001b[0m\u001b[1;33m\u001b[0m\u001b[1;33m\u001b[0m\u001b[0m\n\u001b[0;32m    187\u001b[0m         \u001b[1;31m# Calculate parameter for emission from other parameters\u001b[0m\u001b[1;33m\u001b[0m\u001b[1;33m\u001b[0m\u001b[1;33m\u001b[0m\u001b[0m\n\u001b[1;32m--> 188\u001b[1;33m         \u001b[0mself\u001b[0m\u001b[1;33m.\u001b[0m\u001b[0mdensity_dus_emitted_max\u001b[0m \u001b[1;33m=\u001b[0m \u001b[0mnp\u001b[0m\u001b[1;33m.\u001b[0m\u001b[0marray\u001b[0m\u001b[1;33m(\u001b[0m\u001b[1;33m[\u001b[0m\u001b[0mself\u001b[0m\u001b[1;33m.\u001b[0m\u001b[0mfungus\u001b[0m\u001b[1;33m.\u001b[0m\u001b[0mdensity_dus_emitted_ref\u001b[0m\u001b[1;33m*\u001b[0m\u001b[1;33m(\u001b[0m\u001b[1;33m(\u001b[0m\u001b[1;36m1\u001b[0m\u001b[1;33m-\u001b[0m\u001b[0mself\u001b[0m\u001b[1;33m.\u001b[0m\u001b[0mfungus\u001b[0m\u001b[1;33m.\u001b[0m\u001b[0mreduction_by_rain\u001b[0m\u001b[1;33m)\u001b[0m\u001b[1;33m**\u001b[0m\u001b[0mind\u001b[0m\u001b[1;33m)\u001b[0m \u001b[1;32mfor\u001b[0m \u001b[0mind\u001b[0m \u001b[1;32min\u001b[0m \u001b[0mrange\u001b[0m\u001b[1;33m(\u001b[0m\u001b[0mself\u001b[0m\u001b[1;33m.\u001b[0m\u001b[0mfungus\u001b[0m\u001b[1;33m.\u001b[0m\u001b[0mrain_events_to_empty\u001b[0m\u001b[1;33m)\u001b[0m\u001b[1;33m]\u001b[0m\u001b[1;33m)\u001b[0m\u001b[1;33m\u001b[0m\u001b[1;33m\u001b[0m\u001b[0m\n\u001b[0m\u001b[0;32m    189\u001b[0m         \u001b[1;31m# Status of the center of the lesion\u001b[0m\u001b[1;33m\u001b[0m\u001b[1;33m\u001b[0m\u001b[1;33m\u001b[0m\u001b[0m\n\u001b[0;32m    190\u001b[0m         \u001b[0mself\u001b[0m\u001b[1;33m.\u001b[0m\u001b[0mstatus\u001b[0m \u001b[1;33m=\u001b[0m \u001b[0mself\u001b[0m\u001b[1;33m.\u001b[0m\u001b[0mfungus\u001b[0m\u001b[1;33m.\u001b[0m\u001b[0mINCUBATING\u001b[0m\u001b[1;33m\u001b[0m\u001b[1;33m\u001b[0m\u001b[0m\n",
      "\u001b[1;31mAttributeError\u001b[0m: 'Fungus' object has no attribute 'rain_events_to_empty'"
     ]
    }
   ],
   "metadata": {}
  },
  {
   "cell_type": "code",
   "execution_count": null,
   "source": [],
   "outputs": [],
   "metadata": {}
  }
 ],
 "metadata": {
  "orig_nbformat": 4,
  "language_info": {
   "name": "python",
   "version": "3.8.10",
   "mimetype": "text/x-python",
   "codemirror_mode": {
    "name": "ipython",
    "version": 3
   },
   "pygments_lexer": "ipython3",
   "nbconvert_exporter": "python",
   "file_extension": ".py"
  },
  "kernelspec": {
   "name": "python3",
   "display_name": "Python 3.8.10 64-bit ('openalea3': conda)"
  },
  "interpreter": {
   "hash": "15760ed624cc1cdbeee8899cf2ab79828e6c6fae370f4f721d521e8137f9eafe"
  }
 },
 "nbformat": 4,
 "nbformat_minor": 2
}