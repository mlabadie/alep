{
 "cells": [
  {
   "cell_type": "markdown",
   "source": [
    "# Tutorial by Marc LABADIE for software paper rebuild echap loop with adel protocol after conversion in python3"
   ],
   "metadata": {}
  },
  {
   "cell_type": "markdown",
   "source": [
    "## 1. Adel:\r\n",
    "Allows to simulate the 3D architectural development of the shoot of gramineaous plant. \r\n",
    "* Adel-Maize (Fournier & Andrieu, 1998)\r\n",
    "* Adel-Wheat (Fournier et al. 2003) models"
   ],
   "metadata": {}
  },
  {
   "cell_type": "markdown",
   "source": [
    "### 1.1 Create a wheat architectural model with geometry at a given development stage and visualize wheat"
   ],
   "metadata": {}
  },
  {
   "cell_type": "code",
   "execution_count": 9,
   "source": [
    "from alinea.adel.astk_interface import AdelWheat\r\n",
    "import openalea.plantgl.all as pgl\r\n",
    "from oawidgets.plantgl import PlantGL\r\n",
    "\r\n",
    "%gui qt\r\n",
    "#%pdb"
   ],
   "outputs": [],
   "metadata": {}
  },
  {
   "cell_type": "code",
   "execution_count": null,
   "source": [
    "adel = AdelWheat(nplants=2) # load architectural rule and parameters of wheat\r\n",
    "g = adel.setup_canopy(age=1500) # Select the age of wheat, age represent degree days\r\n",
    "adel.plot(g)\r\n"
   ],
   "outputs": [],
   "metadata": {}
  },
  {
   "cell_type": "markdown",
   "source": [
    "### 1.2 Create an wheat architectural model at given developmental stage from data (Echap data)"
   ],
   "metadata": {}
  },
  {
   "cell_type": "code",
   "execution_count": 10,
   "source": [
    "from alinea.echap.architectural_reconstructions import EchapReconstructions\r\n",
    "\r\n",
    "echap = EchapReconstructions() # load architectural parameter reconstruction with echap data\r\n",
    "\r\n",
    "# load reconstruction of Mercia variaty at 1500 degree days\r\n",
    "wheat_Mercia = echap.get_reconstruction(name=\"Mercia\", nplants=1,seed=0)\r\n",
    "g_Mercia= wheat_Mercia.setup_canopy(age=1500)\r\n",
    "PlantGL(wheat_Mercia.plot(g_Mercia), group_by_color=False)"
   ],
   "outputs": [
    {
     "output_type": "stream",
     "name": "stderr",
     "text": [
      "C:\\Users\\mlabadie\\miniconda3\\envs\\openalea3\\lib\\site-packages\\pandas\\core\\indexing.py:1676: SettingWithCopyWarning: \n",
      "A value is trying to be set on a copy of a slice from a DataFrame.\n",
      "Try using .loc[row_indexer,col_indexer] = value instead\n",
      "\n",
      "See the caveats in the documentation: https://pandas.pydata.org/pandas-docs/stable/user_guide/indexing.html#returning-a-view-versus-a-copy\n",
      "  self._setitem_single_column(ilocs[0], value, pi)\n",
      "C:\\Users\\mlabadie\\miniconda3\\envs\\openalea3\\lib\\site-packages\\pandas\\core\\indexing.py:1676: SettingWithCopyWarning: \n",
      "A value is trying to be set on a copy of a slice from a DataFrame.\n",
      "Try using .loc[row_indexer,col_indexer] = value instead\n",
      "\n",
      "See the caveats in the documentation: https://pandas.pydata.org/pandas-docs/stable/user_guide/indexing.html#returning-a-view-versus-a-copy\n",
      "  self._setitem_single_column(ilocs[0], value, pi)\n",
      "C:\\Users\\mlabadie\\miniconda3\\envs\\openalea3\\lib\\site-packages\\pandas\\core\\indexing.py:1676: SettingWithCopyWarning: \n",
      "A value is trying to be set on a copy of a slice from a DataFrame.\n",
      "Try using .loc[row_indexer,col_indexer] = value instead\n",
      "\n",
      "See the caveats in the documentation: https://pandas.pydata.org/pandas-docs/stable/user_guide/indexing.html#returning-a-view-versus-a-copy\n",
      "  self._setitem_single_column(ilocs[0], value, pi)\n",
      "C:\\Users\\mlabadie\\miniconda3\\envs\\openalea3\\lib\\site-packages\\pandas\\core\\indexing.py:1676: SettingWithCopyWarning: \n",
      "A value is trying to be set on a copy of a slice from a DataFrame.\n",
      "Try using .loc[row_indexer,col_indexer] = value instead\n",
      "\n",
      "See the caveats in the documentation: https://pandas.pydata.org/pandas-docs/stable/user_guide/indexing.html#returning-a-view-versus-a-copy\n",
      "  self._setitem_single_column(ilocs[0], value, pi)\n",
      "C:\\Users\\mlabadie\\Documents\\GitHub\\openalea-incubator\\echap\\src\\alinea\\echap\\architectural_reconstructions.py:442: RuntimeWarning: divide by zero encountered in true_divide\n",
      "  r = Li / pred\n",
      "C:\\Users\\mlabadie\\miniconda3\\envs\\openalea3\\lib\\site-packages\\pandas\\core\\indexing.py:1676: SettingWithCopyWarning: \n",
      "A value is trying to be set on a copy of a slice from a DataFrame.\n",
      "Try using .loc[row_indexer,col_indexer] = value instead\n",
      "\n",
      "See the caveats in the documentation: https://pandas.pydata.org/pandas-docs/stable/user_guide/indexing.html#returning-a-view-versus-a-copy\n",
      "  self._setitem_single_column(ilocs[0], value, pi)\n",
      "C:\\Users\\mlabadie\\miniconda3\\envs\\openalea3\\lib\\site-packages\\numpy\\core\\_asarray.py:102: VisibleDeprecationWarning: Creating an ndarray from ragged nested sequences (which is a list-or-tuple of lists-or-tuples-or ndarrays with different lengths or shapes) is deprecated. If you meant to do this, you must specify 'dtype=object' when creating the ndarray.\n",
      "  return array(a, dtype, copy=False, order=order)\n",
      "C:\\Users\\mlabadie\\miniconda3\\envs\\openalea3\\lib\\site-packages\\scipy\\interpolate\\interpolate.py:446: VisibleDeprecationWarning: Creating an ndarray from ragged nested sequences (which is a list-or-tuple of lists-or-tuples-or ndarrays with different lengths or shapes) is deprecated. If you meant to do this, you must specify 'dtype=object' when creating the ndarray.\n",
      "  y = array(y, copy=self.copy)\n",
      "C:\\Users\\mlabadie\\miniconda3\\envs\\openalea3\\lib\\site-packages\\numpy\\core\\_asarray.py:171: VisibleDeprecationWarning: Creating an ndarray from ragged nested sequences (which is a list-or-tuple of lists-or-tuples-or ndarrays with different lengths or shapes) is deprecated. If you meant to do this, you must specify 'dtype=object' when creating the ndarray.\n",
      "  return array(a, dtype, copy=False, order=order, subok=True)\n"
     ]
    },
    {
     "output_type": "display_data",
     "data": {
      "application/vnd.jupyter.widget-view+json": {
       "version_major": 2,
       "version_minor": 0,
       "model_id": "54730fbcbb594e959f753eddd9679376"
      },
      "text/plain": [
       "Plot(antialias=3, axes=['x', 'y', 'z'], axes_helper=1.0, background_color=16777215, camera_animation=[], camer…"
      ]
     },
     "metadata": {}
    }
   ],
   "metadata": {}
  },
  {
   "cell_type": "code",
   "execution_count": null,
   "source": [
    "# load reconstruction of Tremie12 variaty at 1500 degree days\r\n",
    "wheat_Tremie12 = echap.get_reconstruction(name=\"Tremie12\", nplants=1,seed=0)\r\n",
    "g_Tremie12= wheat_Tremie12.setup_canopy(age=1500)\r\n",
    "PlantGL(wheat_Tremie12.plot(g_Tremie12), group_by_color=False)"
   ],
   "outputs": [],
   "metadata": {}
  },
  {
   "cell_type": "markdown",
   "source": [
    "### 1.3 It possible to simulate grow canopy using different age of the canopy or directely using weather data (temperature)"
   ],
   "metadata": {}
  },
  {
   "cell_type": "markdown",
   "source": [
    "#### 1.3.1 Using canopy age:\r\n",
    "\r\n",
    "* canopy_age initiat at 100 degree days\r\n",
    "* grow_cycle: number of grow cycle\r\n",
    "* grow_time: interval of degree days between each cycle (100)"
   ],
   "metadata": {}
  },
  {
   "cell_type": "code",
   "execution_count": null,
   "source": [
    "canopy_age= 100 # age of canopy at start\r\n",
    "grow_cycles =20 # nb of growth cycle\r\n",
    "grow_time = 100 #degree day, time interval between each cycle\r\n",
    "\r\n",
    "wheat = echap.get_reconstruction(name=\"Tremie12\", nplants=2,seed=0) # init a wheat mtg\r\n",
    "\r\n",
    "for cycle in range(grow_cycles):\r\n",
    "    canopy_age = canopy_age\r\n",
    "    # update canopy\r\n",
    "    new_g = wheat.setup_canopy(age=canopy_age)\r\n",
    "    wheat.plot(new_g)\r\n",
    "    canopy_age = canopy_age + grow_time"
   ],
   "outputs": [],
   "metadata": {}
  },
  {
   "cell_type": "markdown",
   "source": [
    "#### 1.3.2 With weather data issue from echap project\r\n",
    "\r\n",
    "**selection of Weather parameter**\r\n",
    "\r\n",
    "Based on weather data:\r\n",
    "* weather_time_index: selection of the period where is applied simulation\r\n",
    "* every_dd: among the period selected filter data by step of the thermal time here each 15 degree days "
   ],
   "metadata": {}
  },
  {
   "cell_type": "code",
   "execution_count": null,
   "source": [
    "from alinea.echap.weather_data import get_weather\r\n",
    "\r\n",
    "from alinea.alep.mini_models import linear_degree_days\r\n",
    "from alinea.alep.protocol import update\r\n",
    "from alinea.alep.growth_control import NoPriorityGrowthControl\r\n",
    "\r\n",
    "from alinea.astk.TimeControl import DegreeDayModel, thermal_time_filter\r\n",
    "from alinea.astk.TimeControl import IterWithDelays , time_control\r\n",
    "\r\n",
    "import pandas"
   ],
   "outputs": [],
   "metadata": {}
  },
  {
   "cell_type": "code",
   "execution_count": null,
   "source": [
    "# import weather data\r\n",
    "weather = get_weather(variety=\"Mercia\") # get weather data from echap for Mercia variety\r\n",
    "\r\n",
    "#check weather data and add degree day variable using linear degree day model\r\n",
    "weather.check([\"degree_days\",'temperature_air', 'PPFD', 'relative_humidity', 'wind_speed', 'rain', 'global_radiation', 'vapor_pressure'],models={'degree_days':linear_degree_days})\r\n",
    "\r\n",
    "# weather index selection\r\n",
    "weather_time_index = pandas.date_range(start =\"2010-11-02\", end='2011-05-09', freq='H')  # Range date index. among weather data select weather period for simulation\r\n",
    "\r\n",
    "# filter degree days\r\n",
    "TTmodel = DegreeDayModel(Tbase = 0) # Thermal times model\r\n",
    "every_dd = thermal_time_filter(time_sequence=weather_time_index, weather=weather, model=TTmodel, delay = 15) # allows to filter thermal time data here each 15 degree day\r\n",
    "canopy_timing = IterWithDelays(*time_control(time_sequence=weather_time_index, eval_filter=every_dd, data=weather.data)) # create data from weatherdata according to filter\r\n",
    "\r\n",
    "# growth control\r\n",
    "growth_controler = NoPriorityGrowthControl()"
   ],
   "outputs": [],
   "metadata": {}
  },
  {
   "cell_type": "code",
   "execution_count": null,
   "source": [
    "wheat = echap.get_reconstruction(name=\"Mercia\", nplants=2,seed=0)\r\n",
    "g = wheat.setup_canopy(age=500)\r\n",
    "\r\n",
    "for i,controls in enumerate(canopy_timing):\r\n",
    "    canopy_iter = controls\r\n",
    "\r\n",
    "    if canopy_iter.eval:\r\n",
    "        print('--', canopy_iter.value.index[-1], '--')\r\n",
    "        print('-- update microclimate / canopy --')\r\n",
    "        g = wheat.grow(g, canopy_iter.value)\r\n",
    "        _=update(g, canopy_iter.dt, growth_controler)\r\n",
    "        wheat.plot(g)\r\n"
   ],
   "outputs": [],
   "metadata": {}
  },
  {
   "cell_type": "markdown",
   "source": [
    "## 2. Model Pesticide interception"
   ],
   "metadata": {}
  },
  {
   "cell_type": "code",
   "execution_count": 11,
   "source": [
    "from matplotlib import cm"
   ],
   "outputs": [],
   "metadata": {}
  },
  {
   "cell_type": "code",
   "execution_count": 19,
   "source": [
    "from alinea.echap.interception_leaf import pesticide_applications, InterceptModel\r\n",
    "from alinea.echap.interfaces import pesticide_interception\r\n",
    "from alinea.echap.tests_nodes import plot_pesticide"
   ],
   "outputs": [],
   "metadata": {}
  },
  {
   "cell_type": "code",
   "execution_count": 14,
   "source": [
    "application_data = \"\"\"date,dose, product_name\r\n",
    "2010-11-02 00:00:00, 0, bug\r\n",
    "2010-11-02 1:00:00, 100, Opus\r\n",
    "2010-11-02 2:00:00, 0, bug\r\n",
    "2010-04-29 10:00:00, 100, Opus\r\n",
    "2010-04-29 11:00:00, 0, bug\r\n",
    "2010-05-22 10:00:00, 100, Opus\r\n",
    "2010-05-22 11:00:00, 0, bug\r\n",
    "\"\"\"\r\n",
    "pest_calendar = pesticide_applications(application_data)\r\n",
    "pest_calendar"
   ],
   "outputs": [
    {
     "output_type": "execute_result",
     "data": {
      "text/html": [
       "<div>\n",
       "<style scoped>\n",
       "    .dataframe tbody tr th:only-of-type {\n",
       "        vertical-align: middle;\n",
       "    }\n",
       "\n",
       "    .dataframe tbody tr th {\n",
       "        vertical-align: top;\n",
       "    }\n",
       "\n",
       "    .dataframe thead th {\n",
       "        text-align: right;\n",
       "    }\n",
       "</style>\n",
       "<table border=\"1\" class=\"dataframe\">\n",
       "  <thead>\n",
       "    <tr style=\"text-align: right;\">\n",
       "      <th></th>\n",
       "      <th>date</th>\n",
       "      <th>dose</th>\n",
       "      <th>product_name</th>\n",
       "    </tr>\n",
       "    <tr>\n",
       "      <th>date</th>\n",
       "      <th></th>\n",
       "      <th></th>\n",
       "      <th></th>\n",
       "    </tr>\n",
       "  </thead>\n",
       "  <tbody>\n",
       "    <tr>\n",
       "      <th>2010-04-29 10:00:00</th>\n",
       "      <td>2010-04-29 10:00:00</td>\n",
       "      <td>100</td>\n",
       "      <td>Opus</td>\n",
       "    </tr>\n",
       "    <tr>\n",
       "      <th>2010-04-29 11:00:00</th>\n",
       "      <td>2010-04-29 11:00:00</td>\n",
       "      <td>0</td>\n",
       "      <td>bug</td>\n",
       "    </tr>\n",
       "    <tr>\n",
       "      <th>2010-05-22 10:00:00</th>\n",
       "      <td>2010-05-22 10:00:00</td>\n",
       "      <td>100</td>\n",
       "      <td>Opus</td>\n",
       "    </tr>\n",
       "    <tr>\n",
       "      <th>2010-05-22 11:00:00</th>\n",
       "      <td>2010-05-22 11:00:00</td>\n",
       "      <td>0</td>\n",
       "      <td>bug</td>\n",
       "    </tr>\n",
       "    <tr>\n",
       "      <th>2010-11-02 00:00:00</th>\n",
       "      <td>2010-11-02 00:00:00</td>\n",
       "      <td>0</td>\n",
       "      <td>bug</td>\n",
       "    </tr>\n",
       "    <tr>\n",
       "      <th>2010-11-02 01:00:00</th>\n",
       "      <td>2010-11-02 1:00:00</td>\n",
       "      <td>100</td>\n",
       "      <td>Opus</td>\n",
       "    </tr>\n",
       "    <tr>\n",
       "      <th>2010-11-02 02:00:00</th>\n",
       "      <td>2010-11-02 2:00:00</td>\n",
       "      <td>0</td>\n",
       "      <td>bug</td>\n",
       "    </tr>\n",
       "  </tbody>\n",
       "</table>\n",
       "</div>"
      ],
      "text/plain": [
       "                                    date  dose product_name\n",
       "date                                                       \n",
       "2010-04-29 10:00:00  2010-04-29 10:00:00   100         Opus\n",
       "2010-04-29 11:00:00  2010-04-29 11:00:00     0          bug\n",
       "2010-05-22 10:00:00  2010-05-22 10:00:00   100         Opus\n",
       "2010-05-22 11:00:00  2010-05-22 11:00:00     0          bug\n",
       "2010-11-02 00:00:00  2010-11-02 00:00:00     0          bug\n",
       "2010-11-02 01:00:00   2010-11-02 1:00:00   100         Opus\n",
       "2010-11-02 02:00:00   2010-11-02 2:00:00     0          bug"
      ]
     },
     "metadata": {},
     "execution_count": 14
    }
   ],
   "metadata": {}
  },
  {
   "cell_type": "code",
   "execution_count": 15,
   "source": [
    "\r\n",
    "productsDB={'Opus': {'Epoxiconazole': 125}, 'Banko 500': {'Chlorothalonil': 500}} # name of application: molecule component and application dose\r\n",
    "interception = InterceptModel(productsDB) # Model of pesitide appplication\r\n",
    "interception"
   ],
   "outputs": [
    {
     "output_type": "execute_result",
     "data": {
      "text/plain": [
       "<alinea.echap.interception_leaf.InterceptModel at 0x256324888e0>"
      ]
     },
     "metadata": {},
     "execution_count": 15
    }
   ],
   "metadata": {}
  },
  {
   "cell_type": "code",
   "execution_count": 21,
   "source": [
    "# canopy\r\n",
    "wheat=echap.get_reconstruction(name=\"Mercia\",nplants=2)\r\n",
    "g = wheat.setup_canopy(age=1500)\r\n",
    "\r\n",
    "# pesticide interception\r\n",
    "pesticide_interception(g=g, interception_model= interception, application_data=pest_calendar, label='LeafElement')\r\n",
    "scene=plot_pesticide(g,colmap=cm.winter_r)\r\n",
    "PlantGL(scene,group_by_color=False)"
   ],
   "outputs": [
    {
     "output_type": "stream",
     "name": "stderr",
     "text": [
      "C:\\Users\\mlabadie\\miniconda3\\envs\\openalea3\\lib\\site-packages\\numpy\\core\\_asarray.py:102: VisibleDeprecationWarning: Creating an ndarray from ragged nested sequences (which is a list-or-tuple of lists-or-tuples-or ndarrays with different lengths or shapes) is deprecated. If you meant to do this, you must specify 'dtype=object' when creating the ndarray.\n",
      "  return array(a, dtype, copy=False, order=order)\n",
      "C:\\Users\\mlabadie\\miniconda3\\envs\\openalea3\\lib\\site-packages\\scipy\\interpolate\\interpolate.py:446: VisibleDeprecationWarning: Creating an ndarray from ragged nested sequences (which is a list-or-tuple of lists-or-tuples-or ndarrays with different lengths or shapes) is deprecated. If you meant to do this, you must specify 'dtype=object' when creating the ndarray.\n",
      "  y = array(y, copy=self.copy)\n",
      "C:\\Users\\mlabadie\\miniconda3\\envs\\openalea3\\lib\\site-packages\\numpy\\core\\_asarray.py:171: VisibleDeprecationWarning: Creating an ndarray from ragged nested sequences (which is a list-or-tuple of lists-or-tuples-or ndarrays with different lengths or shapes) is deprecated. If you meant to do this, you must specify 'dtype=object' when creating the ndarray.\n",
      "  return array(a, dtype, copy=False, order=order, subok=True)\n",
      "C:\\Users\\mlabadie\\miniconda3\\envs\\openalea3\\lib\\site-packages\\numpy\\core\\_asarray.py:102: VisibleDeprecationWarning: Creating an ndarray from ragged nested sequences (which is a list-or-tuple of lists-or-tuples-or ndarrays with different lengths or shapes) is deprecated. If you meant to do this, you must specify 'dtype=object' when creating the ndarray.\n",
      "  return array(a, dtype, copy=False, order=order)\n",
      "C:\\Users\\mlabadie\\miniconda3\\envs\\openalea3\\lib\\site-packages\\scipy\\interpolate\\interpolate.py:446: VisibleDeprecationWarning: Creating an ndarray from ragged nested sequences (which is a list-or-tuple of lists-or-tuples-or ndarrays with different lengths or shapes) is deprecated. If you meant to do this, you must specify 'dtype=object' when creating the ndarray.\n",
      "  y = array(y, copy=self.copy)\n",
      "C:\\Users\\mlabadie\\miniconda3\\envs\\openalea3\\lib\\site-packages\\numpy\\core\\_asarray.py:171: VisibleDeprecationWarning: Creating an ndarray from ragged nested sequences (which is a list-or-tuple of lists-or-tuples-or ndarrays with different lengths or shapes) is deprecated. If you meant to do this, you must specify 'dtype=object' when creating the ndarray.\n",
      "  return array(a, dtype, copy=False, order=order, subok=True)\n"
     ]
    },
    {
     "output_type": "display_data",
     "data": {
      "application/vnd.jupyter.widget-view+json": {
       "version_major": 2,
       "version_minor": 0,
       "model_id": "5429cfbb8dd24bbbaf8373edb40294c4"
      },
      "text/plain": [
       "Plot(antialias=3, axes=['x', 'y', 'z'], axes_helper=1.0, background_color=16777215, camera_animation=[], camer…"
      ]
     },
     "metadata": {}
    }
   ],
   "metadata": {}
  },
  {
   "cell_type": "markdown",
   "source": [
    "#### Simulation canopy, growth and pesticide interception using weather data"
   ],
   "metadata": {}
  },
  {
   "cell_type": "code",
   "execution_count": 22,
   "source": [
    "import pandas\r\n",
    "from matplotlib import cm"
   ],
   "outputs": [],
   "metadata": {}
  },
  {
   "cell_type": "code",
   "execution_count": 24,
   "source": [
    "# canopy import\r\n",
    "from alinea.echap.architectural_reconstructions import EchapReconstructions\r\n",
    "\r\n",
    "# Weather import\r\n",
    "from alinea.echap.weather_data import get_weather\r\n",
    "\r\n",
    "from alinea.alep.mini_models import linear_degree_days\r\n",
    "from alinea.alep.protocol import update\r\n",
    "from alinea.alep.growth_control import NoPriorityGrowthControl\r\n",
    "\r\n",
    "from alinea.astk.TimeControl import DegreeDayModel, thermal_time_filter, date_filter\r\n",
    "from alinea.astk.TimeControl import IterWithDelays , time_control\r\n",
    "\r\n",
    "# Pesticide import\r\n",
    "from alinea.echap.interception_leaf import pesticide_applications, InterceptModel\r\n",
    "from alinea.echap.interfaces import pesticide_interception\r\n",
    "from alinea.echap.tests_nodes import plot_pesticide\r\n"
   ],
   "outputs": [],
   "metadata": {}
  },
  {
   "cell_type": "code",
   "execution_count": 25,
   "source": [
    "# Weather parameter\r\n",
    "\r\n",
    "## import weather data\r\n",
    "weather = get_weather(variety=\"Mercia\") # get weather data from echap for Mercia variety\r\n",
    "\r\n",
    "##check weather data and add degree day variable using linear degree day model\r\n",
    "weather.check([\"degree_days\",'temperature_air', 'PPFD', 'relative_humidity', 'wind_speed', 'rain', 'global_radiation', 'vapor_pressure'],models={'degree_days':linear_degree_days})\r\n",
    "\r\n",
    "## weather index selection\r\n",
    "weather_time_index = pandas.date_range(start =\"2010-11-02\", end='2011-05-09', freq='H')  # Range date index. among weather data select weather period for simulation\r\n",
    "\r\n",
    "## canopy timing using degree day\r\n",
    "TTmodel = DegreeDayModel(Tbase = 0) # Thermal times model\r\n",
    "every_dd = thermal_time_filter(time_sequence=weather_time_index, weather=weather, model=TTmodel, delay = 15) # allows to filter thermal time data here each 15 degree day\r\n",
    "canopy_timing = IterWithDelays(*time_control(time_sequence=weather_time_index, eval_filter=every_dd, data=weather.data)) # create data from weatherdata according to filter\r\n",
    "\r\n",
    "# Pesticide model\r\n",
    "# Pesticide data and interception model\r\n",
    "application_data = \"\"\"date,dose, product_name\r\n",
    "2010-11-02 00:00:00, 0, bug\r\n",
    "2010-11-02 1:00:00, 100, Opus\r\n",
    "2010-11-02 2:00:00, 0, bug\r\n",
    "2010-04-29 10:00:00, 100, Opus\r\n",
    "2010-04-29 11:00:00, 0, bug\r\n",
    "2010-05-22 10:00:00, 100, Opus\r\n",
    "2010-05-22 11:00:00, 0, bug\r\n",
    "\"\"\"\r\n",
    "productsDB={'Opus': {'Epoxiconazole': 125}, 'Banko 500': {'Chlorothalonil': 500}} # name of application: molecule component and application dose\r\n",
    "interception = InterceptModel(productsDB) # Model of pesitide appplication\r\n",
    "\r\n",
    "#pest timing\r\n",
    "pest_calendar = pesticide_applications(application_data)\r\n",
    "every_pest = date_filter(time_sequence=weather_time_index, time_data=pest_calendar)\r\n",
    "pest_timing = IterWithDelays(*time_control(time_sequence=weather_time_index, eval_filter=every_pest, data=pest_calendar))\r\n",
    "\r\n",
    "# growth control\r\n",
    "growth_controler = NoPriorityGrowthControl()"
   ],
   "outputs": [
    {
     "output_type": "stream",
     "name": "stderr",
     "text": [
      "C:\\Users\\mlabadie\\miniconda3\\envs\\openalea3\\lib\\site-packages\\pandas\\core\\indexing.py:1124: FutureWarning: Indexing a timezone-aware DatetimeIndex with a timezone-naive datetime is deprecated and will raise KeyError in a future version.  Use a timezone-aware object instead.\n",
      "  return self._get_label(key, axis=axis)\n",
      "C:\\Users\\mlabadie\\miniconda3\\envs\\openalea3\\lib\\site-packages\\pandas\\core\\indexes\\base.py:5277: FutureWarning: Indexing a timezone-aware DatetimeIndex with a timezone-naive datetime is deprecated and will raise KeyError in a future version.  Use a timezone-aware object instead.\n",
      "  start_slice, end_slice = self.slice_locs(start, end, step=step, kind=kind)\n"
     ]
    }
   ],
   "metadata": {}
  },
  {
   "cell_type": "code",
   "execution_count": 27,
   "source": [
    "echap = EchapReconstructions() # load architectural parameter reconstruction with echap data\r\n",
    "wheat = echap.get_reconstruction(name=\"Mercia\", nplants=2,seed=0)\r\n",
    "g = wheat.setup_canopy(age=500)\r\n",
    "\r\n",
    "for i,controls in enumerate(zip(canopy_timing, pest_timing)):\r\n",
    "    canopy_iter, pest_iter = controls\r\n",
    "    \r\n",
    "    if canopy_iter.eval:\r\n",
    "        print('--', canopy_iter.value.index[-1], '--')\r\n",
    "        print('-- update microclimate / canopy --')\r\n",
    "        g = wheat.grow(g, canopy_iter.value)\r\n",
    "        _=update(g, canopy_iter.dt, growth_controler)\r\n",
    "        _=wheat.plot(g)\r\n",
    "\r\n",
    "    if pest_iter.eval:\r\n",
    "        print('--', pest_iter.value.index[-1], '--')\r\n",
    "        print('-- update microclimate / pesticide --')\r\n",
    "        \r\n",
    "        _=pesticide_interception(g, interception, pest_iter.value, label='LeafElement')\r\n",
    "        _=plot_pesticide(g)"
   ],
   "outputs": [
    {
     "output_type": "stream",
     "name": "stderr",
     "text": [
      "C:\\Users\\mlabadie\\miniconda3\\envs\\openalea3\\lib\\site-packages\\pandas\\core\\indexing.py:1676: SettingWithCopyWarning: \n",
      "A value is trying to be set on a copy of a slice from a DataFrame.\n",
      "Try using .loc[row_indexer,col_indexer] = value instead\n",
      "\n",
      "See the caveats in the documentation: https://pandas.pydata.org/pandas-docs/stable/user_guide/indexing.html#returning-a-view-versus-a-copy\n",
      "  self._setitem_single_column(ilocs[0], value, pi)\n",
      "C:\\Users\\mlabadie\\miniconda3\\envs\\openalea3\\lib\\site-packages\\pandas\\core\\indexing.py:1676: SettingWithCopyWarning: \n",
      "A value is trying to be set on a copy of a slice from a DataFrame.\n",
      "Try using .loc[row_indexer,col_indexer] = value instead\n",
      "\n",
      "See the caveats in the documentation: https://pandas.pydata.org/pandas-docs/stable/user_guide/indexing.html#returning-a-view-versus-a-copy\n",
      "  self._setitem_single_column(ilocs[0], value, pi)\n",
      "C:\\Users\\mlabadie\\miniconda3\\envs\\openalea3\\lib\\site-packages\\pandas\\core\\indexing.py:1676: SettingWithCopyWarning: \n",
      "A value is trying to be set on a copy of a slice from a DataFrame.\n",
      "Try using .loc[row_indexer,col_indexer] = value instead\n",
      "\n",
      "See the caveats in the documentation: https://pandas.pydata.org/pandas-docs/stable/user_guide/indexing.html#returning-a-view-versus-a-copy\n",
      "  self._setitem_single_column(ilocs[0], value, pi)\n",
      "C:\\Users\\mlabadie\\miniconda3\\envs\\openalea3\\lib\\site-packages\\pandas\\core\\indexing.py:1676: SettingWithCopyWarning: \n",
      "A value is trying to be set on a copy of a slice from a DataFrame.\n",
      "Try using .loc[row_indexer,col_indexer] = value instead\n",
      "\n",
      "See the caveats in the documentation: https://pandas.pydata.org/pandas-docs/stable/user_guide/indexing.html#returning-a-view-versus-a-copy\n",
      "  self._setitem_single_column(ilocs[0], value, pi)\n",
      "C:\\Users\\mlabadie\\Documents\\GitHub\\openalea-incubator\\echap\\src\\alinea\\echap\\architectural_reconstructions.py:442: RuntimeWarning: divide by zero encountered in true_divide\n",
      "  r = Li / pred\n",
      "C:\\Users\\mlabadie\\miniconda3\\envs\\openalea3\\lib\\site-packages\\pandas\\core\\indexing.py:1676: SettingWithCopyWarning: \n",
      "A value is trying to be set on a copy of a slice from a DataFrame.\n",
      "Try using .loc[row_indexer,col_indexer] = value instead\n",
      "\n",
      "See the caveats in the documentation: https://pandas.pydata.org/pandas-docs/stable/user_guide/indexing.html#returning-a-view-versus-a-copy\n",
      "  self._setitem_single_column(ilocs[0], value, pi)\n",
      "C:\\Users\\mlabadie\\miniconda3\\envs\\openalea3\\lib\\site-packages\\numpy\\core\\_asarray.py:102: VisibleDeprecationWarning: Creating an ndarray from ragged nested sequences (which is a list-or-tuple of lists-or-tuples-or ndarrays with different lengths or shapes) is deprecated. If you meant to do this, you must specify 'dtype=object' when creating the ndarray.\n",
      "  return array(a, dtype, copy=False, order=order)\n",
      "C:\\Users\\mlabadie\\miniconda3\\envs\\openalea3\\lib\\site-packages\\scipy\\interpolate\\interpolate.py:446: VisibleDeprecationWarning: Creating an ndarray from ragged nested sequences (which is a list-or-tuple of lists-or-tuples-or ndarrays with different lengths or shapes) is deprecated. If you meant to do this, you must specify 'dtype=object' when creating the ndarray.\n",
      "  y = array(y, copy=self.copy)\n",
      "C:\\Users\\mlabadie\\miniconda3\\envs\\openalea3\\lib\\site-packages\\numpy\\core\\_asarray.py:171: VisibleDeprecationWarning: Creating an ndarray from ragged nested sequences (which is a list-or-tuple of lists-or-tuples-or ndarrays with different lengths or shapes) is deprecated. If you meant to do this, you must specify 'dtype=object' when creating the ndarray.\n",
      "  return array(a, dtype, copy=False, order=order, subok=True)\n",
      "C:\\Users\\mlabadie\\miniconda3\\envs\\openalea3\\lib\\site-packages\\numpy\\core\\_asarray.py:102: VisibleDeprecationWarning: Creating an ndarray from ragged nested sequences (which is a list-or-tuple of lists-or-tuples-or ndarrays with different lengths or shapes) is deprecated. If you meant to do this, you must specify 'dtype=object' when creating the ndarray.\n",
      "  return array(a, dtype, copy=False, order=order)\n",
      "C:\\Users\\mlabadie\\miniconda3\\envs\\openalea3\\lib\\site-packages\\scipy\\interpolate\\interpolate.py:446: VisibleDeprecationWarning: Creating an ndarray from ragged nested sequences (which is a list-or-tuple of lists-or-tuples-or ndarrays with different lengths or shapes) is deprecated. If you meant to do this, you must specify 'dtype=object' when creating the ndarray.\n",
      "  y = array(y, copy=self.copy)\n",
      "C:\\Users\\mlabadie\\miniconda3\\envs\\openalea3\\lib\\site-packages\\numpy\\core\\_asarray.py:171: VisibleDeprecationWarning: Creating an ndarray from ragged nested sequences (which is a list-or-tuple of lists-or-tuples-or ndarrays with different lengths or shapes) is deprecated. If you meant to do this, you must specify 'dtype=object' when creating the ndarray.\n",
      "  return array(a, dtype, copy=False, order=order, subok=True)\n"
     ]
    },
    {
     "output_type": "stream",
     "name": "stdout",
     "text": [
      "-- 2010-11-03 09:00:00+00:00 --\n",
      "-- update microclimate / canopy --\n",
      "-- 2010-11-02 00:00:00 --\n",
      "-- update microclimate / pesticide --\n",
      "-- 2010-11-02 01:00:00 --\n",
      "-- update microclimate / pesticide --\n",
      "-- 2010-11-02 02:00:00 --\n",
      "-- update microclimate / pesticide --\n",
      "-- 2010-11-04 10:00:00+00:00 --\n",
      "-- update microclimate / canopy --\n",
      "-- 2010-11-05 12:00:00+00:00 --\n",
      "-- update microclimate / canopy --\n",
      "-- 2010-11-06 20:00:00+00:00 --\n",
      "-- update microclimate / canopy --\n",
      "-- 2010-11-09 03:00:00+00:00 --\n",
      "-- update microclimate / canopy --\n",
      "-- 2010-11-11 13:00:00+00:00 --\n",
      "-- update microclimate / canopy --\n",
      "-- 2010-11-12 17:00:00+00:00 --\n",
      "-- update microclimate / canopy --\n",
      "-- 2010-11-13 18:00:00+00:00 --\n",
      "-- update microclimate / canopy --\n",
      "-- 2010-11-14 23:00:00+00:00 --\n",
      "-- update microclimate / canopy --\n",
      "-- 2010-11-17 13:00:00+00:00 --\n",
      "-- update microclimate / canopy --\n",
      "-- 2010-11-20 01:00:00+00:00 --\n",
      "-- update microclimate / canopy --\n",
      "-- 2010-11-22 17:00:00+00:00 --\n",
      "-- update microclimate / canopy --\n",
      "-- 2010-12-10 23:00:00+00:00 --\n",
      "-- update microclimate / canopy --\n",
      "-- 2010-12-21 02:00:00+00:00 --\n",
      "-- update microclimate / canopy --\n",
      "-- 2011-01-05 14:00:00+00:00 --\n",
      "-- update microclimate / canopy --\n",
      "-- 2011-01-07 06:00:00+00:00 --\n",
      "-- update microclimate / canopy --\n",
      "-- 2011-01-08 14:00:00+00:00 --\n",
      "-- update microclimate / canopy --\n",
      "-- 2011-01-11 15:00:00+00:00 --\n",
      "-- update microclimate / canopy --\n",
      "-- 2011-01-13 09:00:00+00:00 --\n",
      "-- update microclimate / canopy --\n",
      "-- 2011-01-14 17:00:00+00:00 --\n",
      "-- update microclimate / canopy --\n",
      "-- 2011-01-16 15:00:00+00:00 --\n",
      "-- update microclimate / canopy --\n",
      "-- 2011-01-18 23:00:00+00:00 --\n",
      "-- update microclimate / canopy --\n",
      "-- 2011-01-25 00:00:00+00:00 --\n",
      "-- update microclimate / canopy --\n",
      "-- 2011-02-03 18:00:00+00:00 --\n",
      "-- update microclimate / canopy --\n",
      "-- 2011-02-05 16:00:00+00:00 --\n",
      "-- update microclimate / canopy --\n",
      "-- 2011-02-08 04:00:00+00:00 --\n",
      "-- update microclimate / canopy --\n",
      "-- 2011-02-10 14:00:00+00:00 --\n",
      "-- update microclimate / canopy --\n",
      "-- 2011-02-11 22:00:00+00:00 --\n",
      "-- update microclimate / canopy --\n",
      "-- 2011-02-14 05:00:00+00:00 --\n",
      "-- update microclimate / canopy --\n",
      "-- 2011-02-17 02:00:00+00:00 --\n",
      "-- update microclimate / canopy --\n",
      "-- 2011-02-20 19:00:00+00:00 --\n",
      "-- update microclimate / canopy --\n",
      "-- 2011-02-24 07:00:00+00:00 --\n",
      "-- update microclimate / canopy --\n",
      "-- 2011-02-25 21:00:00+00:00 --\n",
      "-- update microclimate / canopy --\n",
      "-- 2011-02-28 11:00:00+00:00 --\n",
      "-- update microclimate / canopy --\n",
      "-- 2011-03-03 19:00:00+00:00 --\n",
      "-- update microclimate / canopy --\n",
      "-- 2011-03-07 19:00:00+00:00 --\n",
      "-- update microclimate / canopy --\n",
      "-- 2011-03-09 18:00:00+00:00 --\n",
      "-- update microclimate / canopy --\n",
      "-- 2011-03-11 16:00:00+00:00 --\n",
      "-- update microclimate / canopy --\n",
      "-- 2011-03-13 11:00:00+00:00 --\n",
      "-- update microclimate / canopy --\n",
      "-- 2011-03-15 00:00:00+00:00 --\n",
      "-- update microclimate / canopy --\n",
      "-- 2011-03-16 04:00:00+00:00 --\n",
      "-- update microclimate / canopy --\n",
      "-- 2011-03-17 13:00:00+00:00 --\n",
      "-- update microclimate / canopy --\n",
      "-- 2011-03-19 10:00:00+00:00 --\n",
      "-- update microclimate / canopy --\n",
      "-- 2011-03-21 15:00:00+00:00 --\n",
      "-- update microclimate / canopy --\n",
      "-- 2011-03-23 09:00:00+00:00 --\n",
      "-- update microclimate / canopy --\n",
      "-- 2011-03-24 13:00:00+00:00 --\n",
      "-- update microclimate / canopy --\n",
      "-- 2011-03-25 17:00:00+00:00 --\n",
      "-- update microclimate / canopy --\n",
      "-- 2011-03-26 21:00:00+00:00 --\n",
      "-- update microclimate / canopy --\n",
      "-- 2011-03-28 05:00:00+00:00 --\n",
      "-- update microclimate / canopy --\n",
      "-- 2011-03-29 13:00:00+00:00 --\n",
      "-- update microclimate / canopy --\n",
      "-- 2011-03-30 22:00:00+00:00 --\n",
      "-- update microclimate / canopy --\n",
      "-- 2011-04-01 02:00:00+00:00 --\n",
      "-- update microclimate / canopy --\n",
      "-- 2011-04-02 08:00:00+00:00 --\n",
      "-- update microclimate / canopy --\n",
      "-- 2011-04-03 06:00:00+00:00 --\n",
      "-- update microclimate / canopy --\n",
      "-- 2011-04-04 18:00:00+00:00 --\n",
      "-- update microclimate / canopy --\n",
      "-- 2011-04-06 07:00:00+00:00 --\n",
      "-- update microclimate / canopy --\n",
      "-- 2011-04-07 04:00:00+00:00 --\n",
      "-- update microclimate / canopy --\n",
      "-- 2011-04-08 00:00:00+00:00 --\n",
      "-- update microclimate / canopy --\n",
      "-- 2011-04-09 01:00:00+00:00 --\n",
      "-- update microclimate / canopy --\n",
      "-- 2011-04-10 01:00:00+00:00 --\n",
      "-- update microclimate / canopy --\n",
      "-- 2011-04-10 23:00:00+00:00 --\n",
      "-- update microclimate / canopy --\n",
      "-- 2011-04-11 23:00:00+00:00 --\n",
      "-- update microclimate / canopy --\n",
      "-- 2011-04-13 18:00:00+00:00 --\n",
      "-- update microclimate / canopy --\n",
      "-- 2011-04-15 08:00:00+00:00 --\n",
      "-- update microclimate / canopy --\n",
      "-- 2011-04-16 17:00:00+00:00 --\n",
      "-- update microclimate / canopy --\n",
      "-- 2011-04-18 06:00:00+00:00 --\n",
      "-- update microclimate / canopy --\n",
      "-- 2011-04-19 07:00:00+00:00 --\n",
      "-- update microclimate / canopy --\n",
      "-- 2011-04-20 05:00:00+00:00 --\n",
      "-- update microclimate / canopy --\n",
      "-- 2011-04-21 01:00:00+00:00 --\n",
      "-- update microclimate / canopy --\n",
      "-- 2011-04-21 23:00:00+00:00 --\n",
      "-- update microclimate / canopy --\n",
      "-- 2011-04-22 20:00:00+00:00 --\n",
      "-- update microclimate / canopy --\n",
      "-- 2011-04-23 16:00:00+00:00 --\n",
      "-- update microclimate / canopy --\n",
      "-- 2011-04-24 14:00:00+00:00 --\n",
      "-- update microclimate / canopy --\n",
      "-- 2011-04-25 12:00:00+00:00 --\n",
      "-- update microclimate / canopy --\n",
      "-- 2011-04-26 10:00:00+00:00 --\n",
      "-- update microclimate / canopy --\n",
      "-- 2011-04-27 10:00:00+00:00 --\n",
      "-- update microclimate / canopy --\n",
      "-- 2011-04-28 16:00:00+00:00 --\n",
      "-- update microclimate / canopy --\n",
      "-- 2011-04-30 01:00:00+00:00 --\n",
      "-- update microclimate / canopy --\n",
      "-- 2011-05-01 04:00:00+00:00 --\n",
      "-- update microclimate / canopy --\n",
      "-- 2011-05-02 00:00:00+00:00 --\n",
      "-- update microclimate / canopy --\n",
      "-- 2011-05-03 00:00:00+00:00 --\n",
      "-- update microclimate / canopy --\n",
      "-- 2011-05-04 11:00:00+00:00 --\n",
      "-- update microclimate / canopy --\n",
      "-- 2011-05-05 15:00:00+00:00 --\n",
      "-- update microclimate / canopy --\n",
      "-- 2011-05-06 14:00:00+00:00 --\n",
      "-- update microclimate / canopy --\n",
      "-- 2011-05-07 11:00:00+00:00 --\n",
      "-- update microclimate / canopy --\n",
      "-- 2011-05-08 05:00:00+00:00 --\n",
      "-- update microclimate / canopy --\n",
      "-- 2011-05-09 00:00:00+00:00 --\n",
      "-- update microclimate / canopy --\n"
     ]
    }
   ],
   "metadata": {}
  },
  {
   "cell_type": "markdown",
   "source": [
    "# Modele Maladie septo"
   ],
   "metadata": {}
  },
  {
   "cell_type": "code",
   "execution_count": null,
   "source": [
    "from alinea.alep.septo3d_v2 import plugin_septoria"
   ],
   "outputs": [],
   "metadata": {}
  },
  {
   "cell_type": "code",
   "execution_count": null,
   "source": [
    "septoria= plugin_septoria()\r\n",
    "\r\n",
    "wheat = echap.get_reconstruction(name=\"Mercia\", nplants=2,seed=0)\r\n",
    "g = wheat.setup_canopy(age=500)\r\n",
    "\r\n",
    "g = disperse(g, emitter, transporter, \"septoria\", label='LeafElement')"
   ],
   "outputs": [],
   "metadata": {}
  },
  {
   "cell_type": "markdown",
   "source": [
    "# pesticide Interception"
   ],
   "metadata": {}
  },
  {
   "cell_type": "code",
   "execution_count": null,
   "source": [
    "import pandas\r\n",
    "\r\n",
    "from alinea.echap.interfaces import pesticide_interception\r\n",
    "from alinea.echap.interception_leaf import pesticide_applications, InterceptModel\r\n",
    "from alinea.echap.weather_data import get_weather\r\n",
    "\r\n",
    "from alinea.astk.TimeControl import time_filter , rain_filter, thermal_time_filter, DegreeDayModel"
   ],
   "outputs": [],
   "metadata": {}
  },
  {
   "cell_type": "markdown",
   "source": [
    "### Set weather data and init weather variable\r\n",
    "\r\n",
    "* get wheater data"
   ],
   "metadata": {}
  },
  {
   "cell_type": "code",
   "execution_count": null,
   "source": [
    "weather= get_weather(variety=\"Mercia\")\r\n",
    "weather.data"
   ],
   "outputs": [],
   "metadata": {}
  },
  {
   "cell_type": "markdown",
   "source": [
    "* init weather parameter for pesticide model"
   ],
   "metadata": {}
  },
  {
   "cell_type": "code",
   "execution_count": null,
   "source": [
    "periods = 5 # 5000 pour le cycle complet\r\n",
    "seq = pandas.date_range(start = \"2010-11-02\", periods=periods, freq='H')\r\n",
    "TTmodel = DegreeDayModel(Tbase = 150)\r\n",
    "\r\n",
    "every_rain = rain_filter(seq, weather)\r\n",
    "every_h = time_filter(seq, delay = 6)\r\n",
    "every_dd = thermal_time_filter(seq, weather, TTmodel, delay = 15)"
   ],
   "outputs": [],
   "metadata": {}
  },
  {
   "cell_type": "markdown",
   "source": [
    "### set application and interception model"
   ],
   "metadata": {}
  },
  {
   "cell_type": "markdown",
   "source": [
    "* Set application data"
   ],
   "metadata": {}
  },
  {
   "cell_type": "code",
   "execution_count": null,
   "source": [
    "applications = \"\"\"date,dose, product_name\r\n",
    "2010-11-02 00:00:00, 0, bug\r\n",
    "2010-11-02 1:00:00, 1, Opus\r\n",
    "2010-11-02 2:00:00, 0, bug\r\n",
    "2010-04-29 10:00:00, 1, Opus\r\n",
    "2010-04-29 11:00:00, 0, bug\r\n",
    "2010-05-22 10:00:00, 1, Opus\r\n",
    "2010-05-22 11:00:00, 0, bug\r\n",
    "\"\"\"\r\n",
    "pesticide_calendar=pesticide_applications(applications)\r\n",
    "\r\n",
    "ProductsDB={'Opus': {'Epoxiconazole': 125}, 'Banko 500': {'Chlorothalonil': 500}}\r\n",
    "\r\n",
    "interception = InterceptModel(ProductsDB)"
   ],
   "outputs": [],
   "metadata": {}
  },
  {
   "cell_type": "code",
   "execution_count": null,
   "source": [
    "for cycle in range(grow_cycles):\r\n",
    "    canopy_age = canopy_age\r\n",
    "    # update canopy\r\n",
    "    new_g = wheat.setup_canopy(age=canopy_age)\r\n",
    "    pesticide_interception(new_g,interception_model=interception,application_data=pesticide_calendar,label='LeafElement')\r\n",
    "    canopy_age = canopy_age + grow_time\r\n"
   ],
   "outputs": [],
   "metadata": {}
  },
  {
   "cell_type": "code",
   "execution_count": null,
   "source": [],
   "outputs": [],
   "metadata": {}
  }
 ],
 "metadata": {
  "interpreter": {
   "hash": "15760ed624cc1cdbeee8899cf2ab79828e6c6fae370f4f721d521e8137f9eafe"
  },
  "kernelspec": {
   "name": "python3",
   "display_name": "Python 3.8.10 64-bit ('openalea3': conda)"
  },
  "language_info": {
   "codemirror_mode": {
    "name": "ipython",
    "version": 3
   },
   "file_extension": ".py",
   "mimetype": "text/x-python",
   "name": "python",
   "nbconvert_exporter": "python",
   "pygments_lexer": "ipython3",
   "version": "3.8.10"
  }
 },
 "nbformat": 4,
 "nbformat_minor": 2
}