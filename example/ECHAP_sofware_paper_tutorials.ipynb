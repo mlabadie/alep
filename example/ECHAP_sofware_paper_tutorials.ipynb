{
 "cells": [
  {
   "cell_type": "markdown",
   "source": [
    "# Tutorial by Marc LABADIE for software paper rebuild echap loop with adel protocol after conversion in python3"
   ],
   "metadata": {}
  },
  {
   "cell_type": "markdown",
   "source": [
    "## Create a wheat architectural model with geometry at a given development stage "
   ],
   "metadata": {}
  },
  {
   "cell_type": "code",
   "execution_count": 1,
   "source": [
    "from alinea.echap.architectural_reconstructions import EchapReconstructions\r\n",
    "import openalea.plantgl.all as pgl\r\n",
    "from oawidgets.plantgl import PlantGL"
   ],
   "outputs": [],
   "metadata": {}
  },
  {
   "cell_type": "code",
   "execution_count": 2,
   "source": [
    "%gui qt"
   ],
   "outputs": [],
   "metadata": {}
  },
  {
   "cell_type": "markdown",
   "source": [
    "### Initiate the MTG  Echap reconstruction"
   ],
   "metadata": {}
  },
  {
   "cell_type": "code",
   "execution_count": 3,
   "source": [
    "echap = EchapReconstructions()"
   ],
   "outputs": [
    {
     "output_type": "stream",
     "name": "stderr",
     "text": [
      "C:\\Users\\mlabadie\\miniconda3\\envs\\openalea3\\lib\\site-packages\\pandas\\core\\indexing.py:1676: SettingWithCopyWarning: \n",
      "A value is trying to be set on a copy of a slice from a DataFrame.\n",
      "Try using .loc[row_indexer,col_indexer] = value instead\n",
      "\n",
      "See the caveats in the documentation: https://pandas.pydata.org/pandas-docs/stable/user_guide/indexing.html#returning-a-view-versus-a-copy\n",
      "  self._setitem_single_column(ilocs[0], value, pi)\n",
      "C:\\Users\\mlabadie\\miniconda3\\envs\\openalea3\\lib\\site-packages\\pandas\\core\\indexing.py:1676: SettingWithCopyWarning: \n",
      "A value is trying to be set on a copy of a slice from a DataFrame.\n",
      "Try using .loc[row_indexer,col_indexer] = value instead\n",
      "\n",
      "See the caveats in the documentation: https://pandas.pydata.org/pandas-docs/stable/user_guide/indexing.html#returning-a-view-versus-a-copy\n",
      "  self._setitem_single_column(ilocs[0], value, pi)\n",
      "C:\\Users\\mlabadie\\miniconda3\\envs\\openalea3\\lib\\site-packages\\pandas\\core\\indexing.py:1676: SettingWithCopyWarning: \n",
      "A value is trying to be set on a copy of a slice from a DataFrame.\n",
      "Try using .loc[row_indexer,col_indexer] = value instead\n",
      "\n",
      "See the caveats in the documentation: https://pandas.pydata.org/pandas-docs/stable/user_guide/indexing.html#returning-a-view-versus-a-copy\n",
      "  self._setitem_single_column(ilocs[0], value, pi)\n",
      "C:\\Users\\mlabadie\\miniconda3\\envs\\openalea3\\lib\\site-packages\\pandas\\core\\indexing.py:1676: SettingWithCopyWarning: \n",
      "A value is trying to be set on a copy of a slice from a DataFrame.\n",
      "Try using .loc[row_indexer,col_indexer] = value instead\n",
      "\n",
      "See the caveats in the documentation: https://pandas.pydata.org/pandas-docs/stable/user_guide/indexing.html#returning-a-view-versus-a-copy\n",
      "  self._setitem_single_column(ilocs[0], value, pi)\n",
      "C:\\Users\\mlabadie\\Documents\\GitHub\\openalea-incubator\\echap\\src\\alinea\\echap\\architectural_reconstructions.py:442: RuntimeWarning: divide by zero encountered in true_divide\n",
      "  r = Li / pred\n",
      "C:\\Users\\mlabadie\\miniconda3\\envs\\openalea3\\lib\\site-packages\\pandas\\core\\indexing.py:1676: SettingWithCopyWarning: \n",
      "A value is trying to be set on a copy of a slice from a DataFrame.\n",
      "Try using .loc[row_indexer,col_indexer] = value instead\n",
      "\n",
      "See the caveats in the documentation: https://pandas.pydata.org/pandas-docs/stable/user_guide/indexing.html#returning-a-view-versus-a-copy\n",
      "  self._setitem_single_column(ilocs[0], value, pi)\n"
     ]
    }
   ],
   "metadata": {}
  },
  {
   "cell_type": "markdown",
   "source": [
    "### Get reconstruction according to variety, nb plant and age of the canopy"
   ],
   "metadata": {}
  },
  {
   "cell_type": "code",
   "execution_count": 5,
   "source": [
    "wheat = echap.get_reconstruction(name=\"Mercia\", nplants=2,seed=0)\r\n",
    "g= wheat.setup_canopy(age=2000)"
   ],
   "outputs": [
    {
     "output_type": "stream",
     "name": "stderr",
     "text": [
      "C:\\Users\\mlabadie\\miniconda3\\envs\\openalea3\\lib\\site-packages\\numpy\\core\\_asarray.py:102: VisibleDeprecationWarning: Creating an ndarray from ragged nested sequences (which is a list-or-tuple of lists-or-tuples-or ndarrays with different lengths or shapes) is deprecated. If you meant to do this, you must specify 'dtype=object' when creating the ndarray.\n",
      "  return array(a, dtype, copy=False, order=order)\n",
      "C:\\Users\\mlabadie\\miniconda3\\envs\\openalea3\\lib\\site-packages\\scipy\\interpolate\\interpolate.py:446: VisibleDeprecationWarning: Creating an ndarray from ragged nested sequences (which is a list-or-tuple of lists-or-tuples-or ndarrays with different lengths or shapes) is deprecated. If you meant to do this, you must specify 'dtype=object' when creating the ndarray.\n",
      "  y = array(y, copy=self.copy)\n",
      "C:\\Users\\mlabadie\\miniconda3\\envs\\openalea3\\lib\\site-packages\\numpy\\core\\_asarray.py:171: VisibleDeprecationWarning: Creating an ndarray from ragged nested sequences (which is a list-or-tuple of lists-or-tuples-or ndarrays with different lengths or shapes) is deprecated. If you meant to do this, you must specify 'dtype=object' when creating the ndarray.\n",
      "  return array(a, dtype, copy=False, order=order, subok=True)\n",
      "C:\\Users\\mlabadie\\miniconda3\\envs\\openalea3\\lib\\site-packages\\numpy\\core\\_asarray.py:102: VisibleDeprecationWarning: Creating an ndarray from ragged nested sequences (which is a list-or-tuple of lists-or-tuples-or ndarrays with different lengths or shapes) is deprecated. If you meant to do this, you must specify 'dtype=object' when creating the ndarray.\n",
      "  return array(a, dtype, copy=False, order=order)\n",
      "C:\\Users\\mlabadie\\miniconda3\\envs\\openalea3\\lib\\site-packages\\scipy\\interpolate\\interpolate.py:446: VisibleDeprecationWarning: Creating an ndarray from ragged nested sequences (which is a list-or-tuple of lists-or-tuples-or ndarrays with different lengths or shapes) is deprecated. If you meant to do this, you must specify 'dtype=object' when creating the ndarray.\n",
      "  y = array(y, copy=self.copy)\n",
      "C:\\Users\\mlabadie\\miniconda3\\envs\\openalea3\\lib\\site-packages\\numpy\\core\\_asarray.py:171: VisibleDeprecationWarning: Creating an ndarray from ragged nested sequences (which is a list-or-tuple of lists-or-tuples-or ndarrays with different lengths or shapes) is deprecated. If you meant to do this, you must specify 'dtype=object' when creating the ndarray.\n",
      "  return array(a, dtype, copy=False, order=order, subok=True)\n"
     ]
    }
   ],
   "metadata": {}
  },
  {
   "cell_type": "markdown",
   "source": [
    "###  Plot the 3D plant"
   ],
   "metadata": {}
  },
  {
   "cell_type": "code",
   "execution_count": 6,
   "source": [
    "scene= wheat.plot(g)"
   ],
   "outputs": [],
   "metadata": {}
  },
  {
   "cell_type": "code",
   "execution_count": 7,
   "source": [
    "PlantGL(scene,group_by_color=False)"
   ],
   "outputs": [
    {
     "output_type": "display_data",
     "data": {
      "text/plain": [
       "Plot(antialias=3, axes=['x', 'y', 'z'], axes_helper=1.0, background_color=16777215, camera_animation=[], camer…"
      ],
      "application/vnd.jupyter.widget-view+json": {
       "version_major": 2,
       "version_minor": 0,
       "model_id": "d10a03a8c1cb4300940a2b9365278c07"
      }
     },
     "metadata": {}
    }
   ],
   "metadata": {}
  },
  {
   "cell_type": "markdown",
   "source": [
    "## Grow canopy"
   ],
   "metadata": {}
  },
  {
   "cell_type": "code",
   "execution_count": 13,
   "source": [
    "canopy_age= 100 # age of canopy at start\r\n",
    "grow_cycles =20 # nb of growth cycle\r\n",
    "grow_time = 100 #degree day, time interval between each cycle\r\n",
    "\r\n",
    "wheat = echap.get_reconstruction(name=\"Tremie12\", nplants=2,seed=0) # init a wheat mtg\r\n",
    "\r\n",
    "for cycle in range(grow_cycles):\r\n",
    "    canopy_age = canopy_age\r\n",
    "    # update canopy\r\n",
    "    new_g = wheat.setup_canopy(age=canopy_age)\r\n",
    "    scene= wheat.plot(new_g)\r\n",
    "    #PlantGL(scene,group_by_color=False) Error:max() arg is an empty sequence\r\n",
    "    canopy_age = canopy_age + grow_time"
   ],
   "outputs": [
    {
     "output_type": "stream",
     "name": "stderr",
     "text": [
      "C:\\Users\\mlabadie\\miniconda3\\envs\\openalea3\\lib\\site-packages\\numpy\\core\\_asarray.py:102: VisibleDeprecationWarning: Creating an ndarray from ragged nested sequences (which is a list-or-tuple of lists-or-tuples-or ndarrays with different lengths or shapes) is deprecated. If you meant to do this, you must specify 'dtype=object' when creating the ndarray.\n",
      "  return array(a, dtype, copy=False, order=order)\n",
      "C:\\Users\\mlabadie\\miniconda3\\envs\\openalea3\\lib\\site-packages\\scipy\\interpolate\\interpolate.py:446: VisibleDeprecationWarning: Creating an ndarray from ragged nested sequences (which is a list-or-tuple of lists-or-tuples-or ndarrays with different lengths or shapes) is deprecated. If you meant to do this, you must specify 'dtype=object' when creating the ndarray.\n",
      "  y = array(y, copy=self.copy)\n",
      "C:\\Users\\mlabadie\\miniconda3\\envs\\openalea3\\lib\\site-packages\\numpy\\core\\_asarray.py:171: VisibleDeprecationWarning: Creating an ndarray from ragged nested sequences (which is a list-or-tuple of lists-or-tuples-or ndarrays with different lengths or shapes) is deprecated. If you meant to do this, you must specify 'dtype=object' when creating the ndarray.\n",
      "  return array(a, dtype, copy=False, order=order, subok=True)\n",
      "C:\\Users\\mlabadie\\miniconda3\\envs\\openalea3\\lib\\site-packages\\numpy\\core\\_asarray.py:102: VisibleDeprecationWarning: Creating an ndarray from ragged nested sequences (which is a list-or-tuple of lists-or-tuples-or ndarrays with different lengths or shapes) is deprecated. If you meant to do this, you must specify 'dtype=object' when creating the ndarray.\n",
      "  return array(a, dtype, copy=False, order=order)\n",
      "C:\\Users\\mlabadie\\miniconda3\\envs\\openalea3\\lib\\site-packages\\scipy\\interpolate\\interpolate.py:446: VisibleDeprecationWarning: Creating an ndarray from ragged nested sequences (which is a list-or-tuple of lists-or-tuples-or ndarrays with different lengths or shapes) is deprecated. If you meant to do this, you must specify 'dtype=object' when creating the ndarray.\n",
      "  y = array(y, copy=self.copy)\n",
      "C:\\Users\\mlabadie\\miniconda3\\envs\\openalea3\\lib\\site-packages\\numpy\\core\\_asarray.py:171: VisibleDeprecationWarning: Creating an ndarray from ragged nested sequences (which is a list-or-tuple of lists-or-tuples-or ndarrays with different lengths or shapes) is deprecated. If you meant to do this, you must specify 'dtype=object' when creating the ndarray.\n",
      "  return array(a, dtype, copy=False, order=order, subok=True)\n"
     ]
    }
   ],
   "metadata": {}
  },
  {
   "cell_type": "markdown",
   "source": [
    "# pesticide Interception"
   ],
   "metadata": {}
  },
  {
   "cell_type": "code",
   "execution_count": 46,
   "source": [
    "import pandas\r\n",
    "\r\n",
    "from alinea.echap.interfaces import pesticide_interception\r\n",
    "from alinea.echap.interception_leaf import pesticide_applications, InterceptModel\r\n",
    "from alinea.echap.weather_data import get_weather\r\n",
    "\r\n",
    "from alinea.astk.TimeControl import time_filter , rain_filter, thermal_time_filter, DegreeDayModel"
   ],
   "outputs": [],
   "metadata": {}
  },
  {
   "cell_type": "markdown",
   "source": [
    "### Set weather data and init weather variable\r\n",
    "\r\n",
    "* get wheater data"
   ],
   "metadata": {}
  },
  {
   "cell_type": "code",
   "execution_count": 42,
   "source": [
    "weather= get_weather(variety=\"Mercia\")\r\n",
    "weather.data"
   ],
   "outputs": [
    {
     "output_type": "execute_result",
     "data": {
      "text/plain": [
       "                                         date      h  temperature_air  \\\n",
       "date_utc                                                                \n",
       "2010-09-01 00:00:00+00:00 2010-09-01 00:00:00  00:00             10.1   \n",
       "2010-09-01 01:00:00+00:00 2010-09-01 01:00:00  01:00              9.4   \n",
       "2010-09-01 02:00:00+00:00 2010-09-01 02:00:00  02:00              8.9   \n",
       "2010-09-01 03:00:00+00:00 2010-09-01 03:00:00  03:00              9.0   \n",
       "2010-09-01 04:00:00+00:00 2010-09-01 04:00:00  04:00              8.6   \n",
       "...                                       ...    ...              ...   \n",
       "2011-08-31 19:00:00+00:00 2011-08-31 19:00:00  19:00             17.8   \n",
       "2011-08-31 20:00:00+00:00 2011-08-31 20:00:00  20:00             16.8   \n",
       "2011-08-31 21:00:00+00:00 2011-08-31 21:00:00  21:00             16.0   \n",
       "2011-08-31 22:00:00+00:00 2011-08-31 22:00:00  22:00             15.3   \n",
       "2011-08-31 23:00:00+00:00 2011-08-31 23:00:00  23:00             15.0   \n",
       "\n",
       "                           relative_humidity  rain  wind_speed  \\\n",
       "date_utc                                                         \n",
       "2010-09-01 00:00:00+00:00               87.0   0.0    1.666667   \n",
       "2010-09-01 01:00:00+00:00               90.5   0.0    0.833333   \n",
       "2010-09-01 02:00:00+00:00               91.5   0.0    1.111111   \n",
       "2010-09-01 03:00:00+00:00               92.0   0.0    1.666667   \n",
       "2010-09-01 04:00:00+00:00               93.0   0.0    1.388889   \n",
       "...                                      ...   ...         ...   \n",
       "2011-08-31 19:00:00+00:00               59.0   0.0    1.388889   \n",
       "2011-08-31 20:00:00+00:00               68.0   0.0    1.944444   \n",
       "2011-08-31 21:00:00+00:00               72.0   0.2    2.222222   \n",
       "2011-08-31 22:00:00+00:00               76.0   0.0    1.111111   \n",
       "2011-08-31 23:00:00+00:00               78.5   0.0    1.944444   \n",
       "\n",
       "                           global_radiation  PPFD  vapor_pressure  \n",
       "date_utc                                                           \n",
       "2010-09-01 00:00:00+00:00               0.0   0.0        1.075508  \n",
       "2010-09-01 01:00:00+00:00               0.0   0.0        1.067407  \n",
       "2010-09-01 02:00:00+00:00               0.0   0.0        1.043400  \n",
       "2010-09-01 03:00:00+00:00               0.0   0.0        1.056216  \n",
       "2010-09-01 04:00:00+00:00               0.0   0.0        1.039185  \n",
       "...                                     ...   ...             ...  \n",
       "2011-08-31 19:00:00+00:00               0.0   0.0        1.202524  \n",
       "2011-08-31 20:00:00+00:00               0.0   0.0        1.301048  \n",
       "2011-08-31 21:00:00+00:00               0.0   0.0        1.309166  \n",
       "2011-08-31 22:00:00+00:00               0.0   0.0        1.321309  \n",
       "2011-08-31 23:00:00+00:00               0.0   0.0        1.338697  \n",
       "\n",
       "[8760 rows x 9 columns]"
      ],
      "text/html": [
       "<div>\n",
       "<style scoped>\n",
       "    .dataframe tbody tr th:only-of-type {\n",
       "        vertical-align: middle;\n",
       "    }\n",
       "\n",
       "    .dataframe tbody tr th {\n",
       "        vertical-align: top;\n",
       "    }\n",
       "\n",
       "    .dataframe thead th {\n",
       "        text-align: right;\n",
       "    }\n",
       "</style>\n",
       "<table border=\"1\" class=\"dataframe\">\n",
       "  <thead>\n",
       "    <tr style=\"text-align: right;\">\n",
       "      <th></th>\n",
       "      <th>date</th>\n",
       "      <th>h</th>\n",
       "      <th>temperature_air</th>\n",
       "      <th>relative_humidity</th>\n",
       "      <th>rain</th>\n",
       "      <th>wind_speed</th>\n",
       "      <th>global_radiation</th>\n",
       "      <th>PPFD</th>\n",
       "      <th>vapor_pressure</th>\n",
       "    </tr>\n",
       "    <tr>\n",
       "      <th>date_utc</th>\n",
       "      <th></th>\n",
       "      <th></th>\n",
       "      <th></th>\n",
       "      <th></th>\n",
       "      <th></th>\n",
       "      <th></th>\n",
       "      <th></th>\n",
       "      <th></th>\n",
       "      <th></th>\n",
       "    </tr>\n",
       "  </thead>\n",
       "  <tbody>\n",
       "    <tr>\n",
       "      <th>2010-09-01 00:00:00+00:00</th>\n",
       "      <td>2010-09-01 00:00:00</td>\n",
       "      <td>00:00</td>\n",
       "      <td>10.1</td>\n",
       "      <td>87.0</td>\n",
       "      <td>0.0</td>\n",
       "      <td>1.666667</td>\n",
       "      <td>0.0</td>\n",
       "      <td>0.0</td>\n",
       "      <td>1.075508</td>\n",
       "    </tr>\n",
       "    <tr>\n",
       "      <th>2010-09-01 01:00:00+00:00</th>\n",
       "      <td>2010-09-01 01:00:00</td>\n",
       "      <td>01:00</td>\n",
       "      <td>9.4</td>\n",
       "      <td>90.5</td>\n",
       "      <td>0.0</td>\n",
       "      <td>0.833333</td>\n",
       "      <td>0.0</td>\n",
       "      <td>0.0</td>\n",
       "      <td>1.067407</td>\n",
       "    </tr>\n",
       "    <tr>\n",
       "      <th>2010-09-01 02:00:00+00:00</th>\n",
       "      <td>2010-09-01 02:00:00</td>\n",
       "      <td>02:00</td>\n",
       "      <td>8.9</td>\n",
       "      <td>91.5</td>\n",
       "      <td>0.0</td>\n",
       "      <td>1.111111</td>\n",
       "      <td>0.0</td>\n",
       "      <td>0.0</td>\n",
       "      <td>1.043400</td>\n",
       "    </tr>\n",
       "    <tr>\n",
       "      <th>2010-09-01 03:00:00+00:00</th>\n",
       "      <td>2010-09-01 03:00:00</td>\n",
       "      <td>03:00</td>\n",
       "      <td>9.0</td>\n",
       "      <td>92.0</td>\n",
       "      <td>0.0</td>\n",
       "      <td>1.666667</td>\n",
       "      <td>0.0</td>\n",
       "      <td>0.0</td>\n",
       "      <td>1.056216</td>\n",
       "    </tr>\n",
       "    <tr>\n",
       "      <th>2010-09-01 04:00:00+00:00</th>\n",
       "      <td>2010-09-01 04:00:00</td>\n",
       "      <td>04:00</td>\n",
       "      <td>8.6</td>\n",
       "      <td>93.0</td>\n",
       "      <td>0.0</td>\n",
       "      <td>1.388889</td>\n",
       "      <td>0.0</td>\n",
       "      <td>0.0</td>\n",
       "      <td>1.039185</td>\n",
       "    </tr>\n",
       "    <tr>\n",
       "      <th>...</th>\n",
       "      <td>...</td>\n",
       "      <td>...</td>\n",
       "      <td>...</td>\n",
       "      <td>...</td>\n",
       "      <td>...</td>\n",
       "      <td>...</td>\n",
       "      <td>...</td>\n",
       "      <td>...</td>\n",
       "      <td>...</td>\n",
       "    </tr>\n",
       "    <tr>\n",
       "      <th>2011-08-31 19:00:00+00:00</th>\n",
       "      <td>2011-08-31 19:00:00</td>\n",
       "      <td>19:00</td>\n",
       "      <td>17.8</td>\n",
       "      <td>59.0</td>\n",
       "      <td>0.0</td>\n",
       "      <td>1.388889</td>\n",
       "      <td>0.0</td>\n",
       "      <td>0.0</td>\n",
       "      <td>1.202524</td>\n",
       "    </tr>\n",
       "    <tr>\n",
       "      <th>2011-08-31 20:00:00+00:00</th>\n",
       "      <td>2011-08-31 20:00:00</td>\n",
       "      <td>20:00</td>\n",
       "      <td>16.8</td>\n",
       "      <td>68.0</td>\n",
       "      <td>0.0</td>\n",
       "      <td>1.944444</td>\n",
       "      <td>0.0</td>\n",
       "      <td>0.0</td>\n",
       "      <td>1.301048</td>\n",
       "    </tr>\n",
       "    <tr>\n",
       "      <th>2011-08-31 21:00:00+00:00</th>\n",
       "      <td>2011-08-31 21:00:00</td>\n",
       "      <td>21:00</td>\n",
       "      <td>16.0</td>\n",
       "      <td>72.0</td>\n",
       "      <td>0.2</td>\n",
       "      <td>2.222222</td>\n",
       "      <td>0.0</td>\n",
       "      <td>0.0</td>\n",
       "      <td>1.309166</td>\n",
       "    </tr>\n",
       "    <tr>\n",
       "      <th>2011-08-31 22:00:00+00:00</th>\n",
       "      <td>2011-08-31 22:00:00</td>\n",
       "      <td>22:00</td>\n",
       "      <td>15.3</td>\n",
       "      <td>76.0</td>\n",
       "      <td>0.0</td>\n",
       "      <td>1.111111</td>\n",
       "      <td>0.0</td>\n",
       "      <td>0.0</td>\n",
       "      <td>1.321309</td>\n",
       "    </tr>\n",
       "    <tr>\n",
       "      <th>2011-08-31 23:00:00+00:00</th>\n",
       "      <td>2011-08-31 23:00:00</td>\n",
       "      <td>23:00</td>\n",
       "      <td>15.0</td>\n",
       "      <td>78.5</td>\n",
       "      <td>0.0</td>\n",
       "      <td>1.944444</td>\n",
       "      <td>0.0</td>\n",
       "      <td>0.0</td>\n",
       "      <td>1.338697</td>\n",
       "    </tr>\n",
       "  </tbody>\n",
       "</table>\n",
       "<p>8760 rows × 9 columns</p>\n",
       "</div>"
      ]
     },
     "metadata": {},
     "execution_count": 42
    }
   ],
   "metadata": {}
  },
  {
   "cell_type": "markdown",
   "source": [
    "* init weather parameter for pesticide model"
   ],
   "metadata": {}
  },
  {
   "cell_type": "code",
   "execution_count": 47,
   "source": [
    "periods = 5 # 5000 pour le cycle complet\r\n",
    "seq = pandas.date_range(start = \"2010-11-02\", periods=periods, freq='H')\r\n",
    "TTmodel = DegreeDayModel(Tbase = 150)\r\n",
    "\r\n",
    "every_rain = rain_filter(seq, weather)\r\n",
    "every_h = time_filter(seq, delay = 6)\r\n",
    "every_dd = thermal_time_filter(seq, weather, TTmodel, delay = 15)"
   ],
   "outputs": [
    {
     "output_type": "stream",
     "name": "stderr",
     "text": [
      "C:\\Users\\mlabadie\\miniconda3\\envs\\openalea3\\lib\\site-packages\\pandas\\core\\indexing.py:1124: FutureWarning: Indexing a timezone-aware DatetimeIndex with a timezone-naive datetime is deprecated and will raise KeyError in a future version.  Use a timezone-aware object instead.\n",
      "  return self._get_label(key, axis=axis)\n"
     ]
    }
   ],
   "metadata": {}
  },
  {
   "cell_type": "markdown",
   "source": [
    "### set application and interception model"
   ],
   "metadata": {}
  },
  {
   "cell_type": "markdown",
   "source": [
    "* Set application data"
   ],
   "metadata": {}
  },
  {
   "cell_type": "code",
   "execution_count": 48,
   "source": [
    "applications = \"\"\"date,dose, product_name\r\n",
    "2010-11-02 00:00:00, 0, bug\r\n",
    "2010-11-02 1:00:00, 1, Opus\r\n",
    "2010-11-02 2:00:00, 0, bug\r\n",
    "2010-04-29 10:00:00, 1, Opus\r\n",
    "2010-04-29 11:00:00, 0, bug\r\n",
    "2010-05-22 10:00:00, 1, Opus\r\n",
    "2010-05-22 11:00:00, 0, bug\r\n",
    "\"\"\"\r\n",
    "pesticide_calendar=pesticide_applications(applications)\r\n",
    "\r\n",
    "ProductsDB={'Opus': {'Epoxiconazole': 125}, 'Banko 500': {'Chlorothalonil': 500}}\r\n",
    "\r\n",
    "interception = InterceptModel(ProductsDB)"
   ],
   "outputs": [],
   "metadata": {}
  },
  {
   "cell_type": "code",
   "execution_count": 49,
   "source": [
    "for cycle in range(grow_cycles):\r\n",
    "    canopy_age = canopy_age\r\n",
    "    # update canopy\r\n",
    "    new_g = wheat.setup_canopy(age=canopy_age)\r\n",
    "    pesticide_interception(new_g,interception_model=interception,application_data=pesticide_calendar,label='LeafElement')\r\n",
    "    canopy_age = canopy_age + grow_time\r\n"
   ],
   "outputs": [
    {
     "output_type": "error",
     "ename": "IndexError",
     "evalue": "list index out of range",
     "traceback": [
      "\u001b[1;31m---------------------------------------------------------------------------\u001b[0m",
      "\u001b[1;31mIndexError\u001b[0m                                Traceback (most recent call last)",
      "\u001b[1;32m<ipython-input-49-921e82760572>\u001b[0m in \u001b[0;36m<module>\u001b[1;34m\u001b[0m\n\u001b[0;32m      3\u001b[0m     \u001b[1;31m# update canopy\u001b[0m\u001b[1;33m\u001b[0m\u001b[1;33m\u001b[0m\u001b[1;33m\u001b[0m\u001b[0m\n\u001b[0;32m      4\u001b[0m     \u001b[0mnew_g\u001b[0m \u001b[1;33m=\u001b[0m \u001b[0mwheat\u001b[0m\u001b[1;33m.\u001b[0m\u001b[0msetup_canopy\u001b[0m\u001b[1;33m(\u001b[0m\u001b[0mage\u001b[0m\u001b[1;33m=\u001b[0m\u001b[0mcanopy_age\u001b[0m\u001b[1;33m)\u001b[0m\u001b[1;33m\u001b[0m\u001b[1;33m\u001b[0m\u001b[0m\n\u001b[1;32m----> 5\u001b[1;33m     \u001b[0mpesticide_interception\u001b[0m\u001b[1;33m(\u001b[0m\u001b[0mnew_g\u001b[0m\u001b[1;33m,\u001b[0m\u001b[0minterception_model\u001b[0m\u001b[1;33m=\u001b[0m\u001b[0minterception\u001b[0m\u001b[1;33m,\u001b[0m\u001b[0mapplication_data\u001b[0m\u001b[1;33m=\u001b[0m\u001b[0mpesticide_calendar\u001b[0m\u001b[1;33m,\u001b[0m\u001b[0mlabel\u001b[0m\u001b[1;33m=\u001b[0m\u001b[1;34m'LeafElement'\u001b[0m\u001b[1;33m)\u001b[0m\u001b[1;33m\u001b[0m\u001b[1;33m\u001b[0m\u001b[0m\n\u001b[0m\u001b[0;32m      6\u001b[0m     \u001b[0mcanopy_age\u001b[0m \u001b[1;33m=\u001b[0m \u001b[0mcanopy_age\u001b[0m \u001b[1;33m+\u001b[0m \u001b[0mgrow_time\u001b[0m\u001b[1;33m\u001b[0m\u001b[1;33m\u001b[0m\u001b[0m\n",
      "\u001b[1;32m~\\Documents\\GitHub\\openalea-incubator\\echap\\src\\alinea\\echap\\interfaces.py\u001b[0m in \u001b[0;36mpesticide_interception\u001b[1;34m(g, interception_model, application_data, label, **kwds)\u001b[0m\n\u001b[0;32m     38\u001b[0m     \u001b[1;32mif\u001b[0m \u001b[0mdose\u001b[0m \u001b[1;33m>\u001b[0m \u001b[1;36m0\u001b[0m\u001b[1;33m:\u001b[0m\u001b[1;33m\u001b[0m\u001b[1;33m\u001b[0m\u001b[0m\n\u001b[0;32m     39\u001b[0m         \u001b[0mproduct_name\u001b[0m \u001b[1;33m=\u001b[0m \u001b[0mapplication_data\u001b[0m\u001b[1;33m[\u001b[0m\u001b[1;33m[\u001b[0m\u001b[1;34m'product_name'\u001b[0m\u001b[1;33m]\u001b[0m\u001b[1;33m]\u001b[0m\u001b[1;33m.\u001b[0m\u001b[0mvalues\u001b[0m\u001b[1;33m[\u001b[0m\u001b[1;36m0\u001b[0m\u001b[1;33m]\u001b[0m\u001b[1;33m[\u001b[0m\u001b[1;36m0\u001b[0m\u001b[1;33m]\u001b[0m\u001b[1;33m\u001b[0m\u001b[1;33m\u001b[0m\u001b[0m\n\u001b[1;32m---> 40\u001b[1;33m         \u001b[0msurf_dose\u001b[0m \u001b[1;33m=\u001b[0m \u001b[0minterception_model\u001b[0m\u001b[1;33m.\u001b[0m\u001b[0mintercept\u001b[0m\u001b[1;33m(\u001b[0m\u001b[0mg\u001b[0m\u001b[1;33m,\u001b[0m \u001b[0mproduct_name\u001b[0m\u001b[1;33m,\u001b[0m \u001b[0mdose\u001b[0m\u001b[1;33m,\u001b[0m \u001b[1;33m**\u001b[0m\u001b[0mkwds\u001b[0m\u001b[1;33m)\u001b[0m\u001b[1;33m\u001b[0m\u001b[1;33m\u001b[0m\u001b[0m\n\u001b[0m\u001b[0;32m     41\u001b[0m         \u001b[1;32mif\u001b[0m \u001b[1;32mnot\u001b[0m \u001b[1;34m'penetrated_doses'\u001b[0m \u001b[1;32min\u001b[0m \u001b[0mg\u001b[0m\u001b[1;33m.\u001b[0m\u001b[0mproperties\u001b[0m\u001b[1;33m(\u001b[0m\u001b[1;33m)\u001b[0m\u001b[1;33m:\u001b[0m\u001b[1;33m\u001b[0m\u001b[1;33m\u001b[0m\u001b[0m\n\u001b[0;32m     42\u001b[0m             \u001b[0mg\u001b[0m\u001b[1;33m.\u001b[0m\u001b[0madd_property\u001b[0m\u001b[1;33m(\u001b[0m\u001b[1;34m'penetrated_doses'\u001b[0m\u001b[1;33m)\u001b[0m\u001b[1;33m\u001b[0m\u001b[1;33m\u001b[0m\u001b[0m\n",
      "\u001b[1;32m~\\Documents\\GitHub\\openalea-incubator\\echap\\src\\alinea\\echap\\interception_leaf.py\u001b[0m in \u001b[0;36mintercept\u001b[1;34m(self, g, product_name, dose, domain, convUnit, label)\u001b[0m\n\u001b[0;32m    132\u001b[0m         \u001b[0mdoses\u001b[0m\u001b[1;33m=\u001b[0m\u001b[1;33m{\u001b[0m\u001b[1;33m}\u001b[0m\u001b[1;33m\u001b[0m\u001b[1;33m\u001b[0m\u001b[0m\n\u001b[0;32m    133\u001b[0m         \u001b[1;32mif\u001b[0m \u001b[1;32mnot\u001b[0m \u001b[1;34m'rain_star'\u001b[0m \u001b[1;32min\u001b[0m \u001b[0mg\u001b[0m\u001b[1;33m.\u001b[0m\u001b[0mproperties\u001b[0m\u001b[1;33m(\u001b[0m\u001b[1;33m)\u001b[0m\u001b[1;33m:\u001b[0m\u001b[1;33m\u001b[0m\u001b[1;33m\u001b[0m\u001b[0m\n\u001b[1;32m--> 134\u001b[1;33m             \u001b[0mg\u001b[0m \u001b[1;33m=\u001b[0m \u001b[0mcaribu_rain_star\u001b[0m\u001b[1;33m(\u001b[0m\u001b[0mg\u001b[0m\u001b[1;33m,\u001b[0m \u001b[0moutput_by_triangle\u001b[0m \u001b[1;33m=\u001b[0m \u001b[1;32mFalse\u001b[0m\u001b[1;33m,\u001b[0m \u001b[0mdomain\u001b[0m \u001b[1;33m=\u001b[0m \u001b[0mdomain\u001b[0m\u001b[1;33m,\u001b[0m \u001b[0mconvUnit\u001b[0m \u001b[1;33m=\u001b[0m \u001b[0mconvUnit\u001b[0m\u001b[1;33m,\u001b[0m \u001b[0mdt\u001b[0m \u001b[1;33m=\u001b[0m \u001b[1;36m1\u001b[0m\u001b[1;33m)\u001b[0m\u001b[1;33m\u001b[0m\u001b[1;33m\u001b[0m\u001b[0m\n\u001b[0m\u001b[0;32m    135\u001b[0m         \u001b[0mrain_star\u001b[0m \u001b[1;33m=\u001b[0m \u001b[0mg\u001b[0m\u001b[1;33m.\u001b[0m\u001b[0mproperty\u001b[0m\u001b[1;33m(\u001b[0m\u001b[1;34m'rain_star'\u001b[0m\u001b[1;33m)\u001b[0m\u001b[1;33m\u001b[0m\u001b[1;33m\u001b[0m\u001b[0m\n\u001b[0;32m    136\u001b[0m         \u001b[1;32mfor\u001b[0m \u001b[0mvid\u001b[0m \u001b[1;32min\u001b[0m \u001b[0mg\u001b[0m\u001b[1;33m:\u001b[0m\u001b[1;33m\u001b[0m\u001b[1;33m\u001b[0m\u001b[0m\n",
      "\u001b[1;32mc:\\users\\mlabadie\\miniconda3\\envs\\openalea3\\lib\\site-packages\\alinea.caribu-8.0.7-py3.8.egg\\alinea\\caribu\\caribu_star.py\u001b[0m in \u001b[0;36mcaribu_rain_star\u001b[1;34m(g, output_by_triangle, domain, convUnit, dt)\u001b[0m\n\u001b[0;32m     74\u001b[0m \u001b[1;32mdef\u001b[0m \u001b[0mcaribu_rain_star\u001b[0m\u001b[1;33m(\u001b[0m\u001b[0mg\u001b[0m\u001b[1;33m,\u001b[0m \u001b[0moutput_by_triangle\u001b[0m\u001b[1;33m=\u001b[0m\u001b[1;32mFalse\u001b[0m\u001b[1;33m,\u001b[0m \u001b[0mdomain\u001b[0m\u001b[1;33m=\u001b[0m\u001b[1;32mNone\u001b[0m\u001b[1;33m,\u001b[0m \u001b[0mconvUnit\u001b[0m\u001b[1;33m=\u001b[0m\u001b[1;36m0.01\u001b[0m\u001b[1;33m,\u001b[0m \u001b[0mdt\u001b[0m\u001b[1;33m=\u001b[0m\u001b[1;36m1\u001b[0m\u001b[1;33m)\u001b[0m\u001b[1;33m:\u001b[0m\u001b[1;33m\u001b[0m\u001b[1;33m\u001b[0m\u001b[0m\n\u001b[0;32m     75\u001b[0m     \u001b[0mgeom\u001b[0m \u001b[1;33m=\u001b[0m \u001b[0mg\u001b[0m\u001b[1;33m.\u001b[0m\u001b[0mproperty\u001b[0m\u001b[1;33m(\u001b[0m\u001b[1;34m'geometry'\u001b[0m\u001b[1;33m)\u001b[0m\u001b[1;33m\u001b[0m\u001b[1;33m\u001b[0m\u001b[0m\n\u001b[1;32m---> 76\u001b[1;33m     rain_star, rain_exposed_area = caribu_star(geom, directions=1, output_by_triangle=output_by_triangle,\n\u001b[0m\u001b[0;32m     77\u001b[0m                                                convUnit=convUnit, domain=domain)\n\u001b[0;32m     78\u001b[0m     \u001b[1;32mif\u001b[0m \u001b[1;34m'rain_exposed_area'\u001b[0m \u001b[1;32mnot\u001b[0m \u001b[1;32min\u001b[0m \u001b[0mg\u001b[0m\u001b[1;33m.\u001b[0m\u001b[0mproperties\u001b[0m\u001b[1;33m(\u001b[0m\u001b[1;33m)\u001b[0m\u001b[1;33m:\u001b[0m\u001b[1;33m\u001b[0m\u001b[1;33m\u001b[0m\u001b[0m\n",
      "\u001b[1;32mc:\\users\\mlabadie\\miniconda3\\envs\\openalea3\\lib\\site-packages\\alinea.caribu-8.0.7-py3.8.egg\\alinea\\caribu\\caribu_star.py\u001b[0m in \u001b[0;36mcaribu_star\u001b[1;34m(scene_geometry, directions, output_by_triangle, domain, convUnit)\u001b[0m\n\u001b[0;32m     59\u001b[0m     \u001b[1;31m# TODO : check that sources are okay for star (energy of emisssion should be the one normalised)\u001b[0m\u001b[1;33m\u001b[0m\u001b[1;33m\u001b[0m\u001b[1;33m\u001b[0m\u001b[0m\n\u001b[0;32m     60\u001b[0m \u001b[1;33m\u001b[0m\u001b[0m\n\u001b[1;32m---> 61\u001b[1;33m     \u001b[0mc_scene\u001b[0m\u001b[1;33m,\u001b[0m \u001b[0mraw\u001b[0m\u001b[1;33m,\u001b[0m \u001b[0maggregated\u001b[0m \u001b[1;33m=\u001b[0m \u001b[0m_caribu_call\u001b[0m\u001b[1;33m(\u001b[0m\u001b[0mscene_geometry\u001b[0m\u001b[1;33m,\u001b[0m \u001b[0mstr\u001b[0m\u001b[1;33m(\u001b[0m\u001b[0mdirections\u001b[0m\u001b[1;33m)\u001b[0m\u001b[1;33m,\u001b[0m \u001b[0mdomain\u001b[0m\u001b[1;33m=\u001b[0m\u001b[0mdomain\u001b[0m\u001b[1;33m,\u001b[0m \u001b[0mconvUnit\u001b[0m\u001b[1;33m=\u001b[0m\u001b[0mconvUnit\u001b[0m\u001b[1;33m)\u001b[0m\u001b[1;33m\u001b[0m\u001b[1;33m\u001b[0m\u001b[0m\n\u001b[0m\u001b[0;32m     62\u001b[0m     \u001b[1;32mif\u001b[0m \u001b[0moutput_by_triangle\u001b[0m\u001b[1;33m:\u001b[0m\u001b[1;33m\u001b[0m\u001b[1;33m\u001b[0m\u001b[0m\n\u001b[0;32m     63\u001b[0m         \u001b[0mstar\u001b[0m \u001b[1;33m=\u001b[0m \u001b[0mraw\u001b[0m\u001b[1;33m[\u001b[0m\u001b[1;34m'Ei'\u001b[0m\u001b[1;33m]\u001b[0m\u001b[1;33m\u001b[0m\u001b[1;33m\u001b[0m\u001b[0m\n",
      "\u001b[1;32mc:\\users\\mlabadie\\miniconda3\\envs\\openalea3\\lib\\site-packages\\alinea.caribu-8.0.7-py3.8.egg\\alinea\\caribu\\caribu_star.py\u001b[0m in \u001b[0;36m_caribu_call\u001b[1;34m(scene, directions, opt, domain, convUnit)\u001b[0m\n\u001b[0;32m     21\u001b[0m     \u001b[0msources\u001b[0m \u001b[1;33m=\u001b[0m \u001b[0mlist\u001b[0m\u001b[1;33m(\u001b[0m\u001b[0mzip\u001b[0m\u001b[1;33m(\u001b[0m\u001b[0menergie\u001b[0m\u001b[1;33m,\u001b[0m \u001b[0mdirection\u001b[0m\u001b[1;33m)\u001b[0m\u001b[1;33m)\u001b[0m\u001b[1;33m\u001b[0m\u001b[1;33m\u001b[0m\u001b[0m\n\u001b[0;32m     22\u001b[0m \u001b[1;33m\u001b[0m\u001b[0m\n\u001b[1;32m---> 23\u001b[1;33m     \u001b[0mc_scene\u001b[0m \u001b[1;33m=\u001b[0m \u001b[0mCaribuScene\u001b[0m\u001b[1;33m(\u001b[0m\u001b[0mscene\u001b[0m\u001b[1;33m=\u001b[0m\u001b[0mscene\u001b[0m\u001b[1;33m,\u001b[0m \u001b[0mlight\u001b[0m\u001b[1;33m=\u001b[0m\u001b[0msources\u001b[0m\u001b[1;33m,\u001b[0m \u001b[0mopt\u001b[0m\u001b[1;33m=\u001b[0m\u001b[0mopt\u001b[0m\u001b[1;33m,\u001b[0m \u001b[0mpattern\u001b[0m\u001b[1;33m=\u001b[0m\u001b[0mdomain\u001b[0m\u001b[1;33m)\u001b[0m\u001b[1;33m\u001b[0m\u001b[1;33m\u001b[0m\u001b[0m\n\u001b[0m\u001b[0;32m     24\u001b[0m     \u001b[1;32mif\u001b[0m \u001b[0mconvUnit\u001b[0m \u001b[1;32mis\u001b[0m \u001b[1;32mnot\u001b[0m \u001b[1;32mNone\u001b[0m\u001b[1;33m:\u001b[0m\u001b[1;33m\u001b[0m\u001b[1;33m\u001b[0m\u001b[0m\n\u001b[0;32m     25\u001b[0m         \u001b[0mc_scene\u001b[0m\u001b[1;33m.\u001b[0m\u001b[0mconv_unit\u001b[0m \u001b[1;33m=\u001b[0m \u001b[0mconvUnit\u001b[0m\u001b[1;33m\u001b[0m\u001b[1;33m\u001b[0m\u001b[0m\n",
      "\u001b[1;32mc:\\users\\mlabadie\\miniconda3\\envs\\openalea3\\lib\\site-packages\\alinea.caribu-8.0.7-py3.8.egg\\alinea\\caribu\\CaribuScene.py\u001b[0m in \u001b[0;36m__init__\u001b[1;34m(self, scene, light, pattern, opt, soil_reflectance, soil_mesh, z_soil, scene_unit, debug, filecache)\u001b[0m\n\u001b[0;32m    173\u001b[0m         \u001b[1;32mif\u001b[0m \u001b[0mscene\u001b[0m \u001b[1;32mis\u001b[0m \u001b[1;32mnot\u001b[0m \u001b[1;32mNone\u001b[0m\u001b[1;33m:\u001b[0m\u001b[1;33m\u001b[0m\u001b[1;33m\u001b[0m\u001b[0m\n\u001b[0;32m    174\u001b[0m             \u001b[1;32mif\u001b[0m \u001b[0misinstance\u001b[0m\u001b[1;33m(\u001b[0m\u001b[0mscene\u001b[0m\u001b[1;33m,\u001b[0m \u001b[0mdict\u001b[0m\u001b[1;33m)\u001b[0m\u001b[1;33m:\u001b[0m\u001b[1;33m\u001b[0m\u001b[1;33m\u001b[0m\u001b[0m\n\u001b[1;32m--> 175\u001b[1;33m                 \u001b[0melt\u001b[0m \u001b[1;33m=\u001b[0m \u001b[0mscene\u001b[0m\u001b[1;33m[\u001b[0m\u001b[0mlist\u001b[0m\u001b[1;33m(\u001b[0m\u001b[0mscene\u001b[0m\u001b[1;33m.\u001b[0m\u001b[0mkeys\u001b[0m\u001b[1;33m(\u001b[0m\u001b[1;33m)\u001b[0m\u001b[1;33m)\u001b[0m\u001b[1;33m[\u001b[0m\u001b[1;36m0\u001b[0m\u001b[1;33m]\u001b[0m\u001b[1;33m]\u001b[0m\u001b[1;33m\u001b[0m\u001b[1;33m\u001b[0m\u001b[0m\n\u001b[0m\u001b[0;32m    176\u001b[0m                 \u001b[1;32mtry\u001b[0m\u001b[1;33m:\u001b[0m\u001b[1;33m\u001b[0m\u001b[1;33m\u001b[0m\u001b[0m\n\u001b[0;32m    177\u001b[0m                     \u001b[1;32massert\u001b[0m \u001b[0misinstance\u001b[0m\u001b[1;33m(\u001b[0m\u001b[0melt\u001b[0m\u001b[1;33m,\u001b[0m \u001b[0mlist\u001b[0m\u001b[1;33m)\u001b[0m\u001b[1;33m\u001b[0m\u001b[1;33m\u001b[0m\u001b[0m\n",
      "\u001b[1;31mIndexError\u001b[0m: list index out of range"
     ]
    }
   ],
   "metadata": {}
  },
  {
   "cell_type": "code",
   "execution_count": null,
   "source": [],
   "outputs": [],
   "metadata": {}
  }
 ],
 "metadata": {
  "interpreter": {
   "hash": "15760ed624cc1cdbeee8899cf2ab79828e6c6fae370f4f721d521e8137f9eafe"
  },
  "kernelspec": {
   "name": "python3",
   "display_name": "Python 3.8.10 64-bit ('openalea3': conda)"
  },
  "language_info": {
   "codemirror_mode": {
    "name": "ipython",
    "version": 3
   },
   "file_extension": ".py",
   "mimetype": "text/x-python",
   "name": "python",
   "nbconvert_exporter": "python",
   "pygments_lexer": "ipython3",
   "version": "3.8.10"
  }
 },
 "nbformat": 4,
 "nbformat_minor": 2
}