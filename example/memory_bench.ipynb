{
 "cells": [
  {
   "cell_type": "markdown",
   "id": "10e02fda",
   "metadata": {},
   "source": [
    "# Bench the Alep model in parallel"
   ]
  },
  {
   "cell_type": "code",
   "execution_count": 1,
   "id": "01e76aaf",
   "metadata": {},
   "outputs": [],
   "source": [
    "%run benchmark.ipynb"
   ]
  },
  {
   "cell_type": "markdown",
   "id": "df245170",
   "metadata": {},
   "source": [
    "## Parallel computing interface"
   ]
  },
  {
   "cell_type": "code",
   "execution_count": 2,
   "id": "fb3511f2",
   "metadata": {},
   "outputs": [],
   "source": [
    "from IPython.parallel import Client"
   ]
  },
  {
   "cell_type": "code",
   "execution_count": 3,
   "id": "5e9eb250",
   "metadata": {},
   "outputs": [],
   "source": [
    "c = Client()\n",
    "v = c.load_balanced_view()"
   ]
  },
  {
   "cell_type": "markdown",
   "id": "09357442",
   "metadata": {},
   "source": [
    "## Benchmark for various numbers of plants, phyto-elements by leaf, initial number of lesions by leaf"
   ]
  },
  {
   "cell_type": "code",
   "execution_count": 4,
   "id": "725f6087",
   "metadata": {},
   "outputs": [],
   "source": [
    "%px from pympler.asizeof import asizeof\n",
    "%px mo=1024*1024.\n",
    "\n",
    "def memory_bench(plant, phy, lesion):\n",
    "    repeat = 1\n",
    "    from IPython.kernel.zmq.datapub import publish_data\n",
    "    t, g = measure(plant,phy,lesion)\n",
    "    mem = asizeof(g)/mo\n",
    "    publish_data(dict(plant=plant, phytomer=phy,lesion=lesion, memory=mem))\n"
   ]
  },
  {
   "cell_type": "code",
   "execution_count": 5,
   "id": "2582dafe",
   "metadata": {},
   "outputs": [],
   "source": [
    "# results\n",
    "async_results = []\n",
    "%px %run benchmark.ipynb"
   ]
  },
  {
   "cell_type": "code",
   "execution_count": 7,
   "id": "8487e87e",
   "metadata": {},
   "outputs": [],
   "source": [
    "for plant in (1,): #(1,2,5):\n",
    "        for phy in (4,5,6): #(1,3,5):\n",
    "            for les in (1,):#(1,5,10):\n",
    "                ar = v.apply_async(memory_bench, plant, phy,les)\n",
    "                async_results.append(ar)\n",
    "c.wait(async_results)\n",
    "results = [ar.data for ar in async_results]\n",
    "\n",
    "mmerge(results)"
   ]
  },
  {
   "cell_type": "code",
   "execution_count": 13,
   "id": "85799e84",
   "metadata": {},
   "outputs": [
    {
     "data": {
      "text/plain": [
       "[{'lesion': 1, 'memory': 22.158042907714844, 'phytomer': 1, 'plant': 1},\n",
       " {'lesion': 2, 'memory': 20.740280151367188, 'phytomer': 1, 'plant': 1},\n",
       " {'lesion': 3, 'memory': 34.33277893066406, 'phytomer': 1, 'plant': 1},\n",
       " {'lesion': 1, 'memory': 42.96612548828125, 'phytomer': 3, 'plant': 1},\n",
       " {'lesion': 2, 'memory': 97.05835723876953, 'phytomer': 3, 'plant': 1},\n",
       " {'lesion': 1, 'memory': 51.774009704589844, 'phytomer': 1, 'plant': 2},\n",
       " {'lesion': 2, 'memory': 106.9139633178711, 'phytomer': 1, 'plant': 2},\n",
       " {'lesion': 3, 'memory': 142.03794860839844, 'phytomer': 1, 'plant': 2},\n",
       " {'lesion': 1, 'memory': 100.18649291992188, 'phytomer': 3, 'plant': 2},\n",
       " {'lesion': 1, 'memory': 82.1990966796875, 'phytomer': 1, 'plant': 3},\n",
       " {'lesion': 2, 'memory': 165.73113250732422, 'phytomer': 1, 'plant': 3},\n",
       " {'lesion': 3, 'memory': 139.4386215209961, 'phytomer': 1, 'plant': 3}]"
      ]
     },
     "execution_count": 13,
     "metadata": {},
     "output_type": "execute_result"
    }
   ],
   "source": [
    "#async_results\n",
    "results = [ar.data for ar in async_results]\n",
    "results = [r for r in results if r]\n",
    "#results\n",
    "mmerge(results)\n",
    "results"
   ]
  },
  {
   "cell_type": "code",
   "execution_count": 20,
   "id": "ea330ee3",
   "metadata": {},
   "outputs": [
    {
     "data": {
      "text/html": [
       "<div style=\"max-height:1000px;max-width:1500px;overflow:auto;\">\n",
       "<table border=\"1\" class=\"dataframe\">\n",
       "  <thead>\n",
       "    <tr style=\"text-align: right;\">\n",
       "      <th></th>\n",
       "      <th>plant</th>\n",
       "      <th>phytomer</th>\n",
       "      <th>lesion</th>\n",
       "      <th>memory</th>\n",
       "    </tr>\n",
       "  </thead>\n",
       "  <tbody>\n",
       "    <tr>\n",
       "      <th>3 </th>\n",
       "      <td> 1</td>\n",
       "      <td> 1</td>\n",
       "      <td>  1</td>\n",
       "      <td>  22.158043</td>\n",
       "    </tr>\n",
       "    <tr>\n",
       "      <th>4 </th>\n",
       "      <td> 1</td>\n",
       "      <td> 1</td>\n",
       "      <td>  2</td>\n",
       "      <td>  20.740280</td>\n",
       "    </tr>\n",
       "    <tr>\n",
       "      <th>5 </th>\n",
       "      <td> 1</td>\n",
       "      <td> 1</td>\n",
       "      <td>  3</td>\n",
       "      <td>  34.332779</td>\n",
       "    </tr>\n",
       "    <tr>\n",
       "      <th>0 </th>\n",
       "      <td> 1</td>\n",
       "      <td> 1</td>\n",
       "      <td>  5</td>\n",
       "      <td>  53.732018</td>\n",
       "    </tr>\n",
       "    <tr>\n",
       "      <th>1 </th>\n",
       "      <td> 1</td>\n",
       "      <td> 1</td>\n",
       "      <td> 10</td>\n",
       "      <td>  71.079529</td>\n",
       "    </tr>\n",
       "    <tr>\n",
       "      <th>6 </th>\n",
       "      <td> 1</td>\n",
       "      <td> 3</td>\n",
       "      <td>  1</td>\n",
       "      <td>  42.966125</td>\n",
       "    </tr>\n",
       "    <tr>\n",
       "      <th>7 </th>\n",
       "      <td> 1</td>\n",
       "      <td> 3</td>\n",
       "      <td>  2</td>\n",
       "      <td>  97.058357</td>\n",
       "    </tr>\n",
       "    <tr>\n",
       "      <th>2 </th>\n",
       "      <td> 1</td>\n",
       "      <td> 5</td>\n",
       "      <td>  1</td>\n",
       "      <td>  78.974052</td>\n",
       "    </tr>\n",
       "    <tr>\n",
       "      <th>8 </th>\n",
       "      <td> 2</td>\n",
       "      <td> 1</td>\n",
       "      <td>  1</td>\n",
       "      <td>  51.774010</td>\n",
       "    </tr>\n",
       "    <tr>\n",
       "      <th>9 </th>\n",
       "      <td> 2</td>\n",
       "      <td> 1</td>\n",
       "      <td>  2</td>\n",
       "      <td> 106.913963</td>\n",
       "    </tr>\n",
       "    <tr>\n",
       "      <th>10</th>\n",
       "      <td> 2</td>\n",
       "      <td> 1</td>\n",
       "      <td>  3</td>\n",
       "      <td> 142.037949</td>\n",
       "    </tr>\n",
       "    <tr>\n",
       "      <th>11</th>\n",
       "      <td> 2</td>\n",
       "      <td> 3</td>\n",
       "      <td>  1</td>\n",
       "      <td> 100.186493</td>\n",
       "    </tr>\n",
       "    <tr>\n",
       "      <th>12</th>\n",
       "      <td> 3</td>\n",
       "      <td> 1</td>\n",
       "      <td>  1</td>\n",
       "      <td>  82.199097</td>\n",
       "    </tr>\n",
       "    <tr>\n",
       "      <th>13</th>\n",
       "      <td> 3</td>\n",
       "      <td> 1</td>\n",
       "      <td>  2</td>\n",
       "      <td> 165.731133</td>\n",
       "    </tr>\n",
       "    <tr>\n",
       "      <th>14</th>\n",
       "      <td> 3</td>\n",
       "      <td> 1</td>\n",
       "      <td>  3</td>\n",
       "      <td> 139.438622</td>\n",
       "    </tr>\n",
       "  </tbody>\n",
       "</table>\n",
       "<p>15 rows × 4 columns</p>\n",
       "</div>"
      ],
      "text/plain": [
       "    plant  phytomer  lesion      memory\n",
       "3       1         1       1   22.158043\n",
       "4       1         1       2   20.740280\n",
       "5       1         1       3   34.332779\n",
       "0       1         1       5   53.732018\n",
       "1       1         1      10   71.079529\n",
       "6       1         3       1   42.966125\n",
       "7       1         3       2   97.058357\n",
       "2       1         5       1   78.974052\n",
       "8       2         1       1   51.774010\n",
       "9       2         1       2  106.913963\n",
       "10      2         1       3  142.037949\n",
       "11      2         3       1  100.186493\n",
       "12      3         1       1   82.199097\n",
       "13      3         1       2  165.731133\n",
       "14      3         1       3  139.438622\n",
       "\n",
       "[15 rows x 4 columns]"
      ]
     },
     "execution_count": 20,
     "metadata": {},
     "output_type": "execute_result"
    }
   ],
   "source": [
    "df = pd.DataFrame.from_csv('bench_mem.txt',sep=',',index_col=None)\n",
    "df.sort(['plant', 'phytomer','lesion'])"
   ]
  },
  {
   "cell_type": "code",
   "execution_count": 37,
   "id": "5e11ad8c",
   "metadata": {},
   "outputs": [
    {
     "data": {
      "text/plain": [
       "phytomer\n",
       "1           Axes(0.125,0.125;0.775x0.775)\n",
       "3           Axes(0.125,0.125;0.775x0.775)\n",
       "5           Axes(0.125,0.125;0.775x0.775)\n",
       "dtype: object"
      ]
     },
     "execution_count": 37,
     "metadata": {},
     "output_type": "execute_result"
    },
    {
     "data": {
      "image/png": "[encoded data removed]",
      "text/plain": [
       "<matplotlib.figure.Figure at 0x1112e9d50>"
      ]
     },
     "metadata": {},
     "output_type": "display_data"
    },
    {
     "data": {
      "image/png": "[encoded data removed]",
      "text/plain": [
       "<matplotlib.figure.Figure at 0x1112e9b90>"
      ]
     },
     "metadata": {},
     "output_type": "display_data"
    },
    {
     "data": {
      "image/png": "[encoded data removed]",
      "text/plain": [
       "<matplotlib.figure.Figure at 0x111571d90>"
      ]
     },
     "metadata": {},
     "output_type": "display_data"
    }
   ],
   "source": [
    "%matplotlib inline\n",
    "\n",
    "#df['ppl']=df.ppl\n",
    "#df.sort('ppl')\n",
    "#df.plot(x='ppl',y='time',kind='scatter')\n",
    "df[df.plant==1].groupby('phytomer').plot(x='lesion',y='memory',style='o-',kind='scatter')"
   ]
  },
  {
   "cell_type": "code",
   "execution_count": 103,
   "id": "aebf1536",
   "metadata": {},
   "outputs": [
    {
     "data": {
      "text/plain": [
       "0      52.616385\n",
       "1      75.555154\n",
       "12    233.297552\n",
       "13    240.503890\n",
       "14    223.256205\n",
       "30    248.206798\n",
       "31    204.005225\n",
       "dtype: float64"
      ]
     },
     "execution_count": 103,
     "metadata": {},
     "output_type": "execute_result"
    }
   ],
   "source": [
    "#dfl = df.groupby('lesion')\n",
    "#dfp = df.groupby('plant')\n",
    "dfp1= df[df.lesion==1]\n",
    "dfp1.time/dfp1.plant\n"
   ]
  },
  {
   "cell_type": "code",
   "execution_count": 129,
   "id": "37a8ff2c",
   "metadata": {},
   "outputs": [],
   "source": [
    "%qtconsole"
   ]
  },
  {
   "cell_type": "code",
   "execution_count": 10,
   "id": "88188ff6",
   "metadata": {},
   "outputs": [
    {
     "name": "stdout",
     "output_type": "stream",
     "text": [
      "!!!!!!!!!!!WARNING !!!!!!!!!!: Septo3DSplash class is deprecated, and will be remove in future verions, use alinea.septo3d.dispersion.alep_interfaces instead\n"
     ]
    }
   ],
   "source": [
    "t,g=measure(1,1,1)"
   ]
  },
  {
   "cell_type": "code",
   "execution_count": 24,
   "id": "5cf1cd85",
   "metadata": {},
   "outputs": [
    {
     "data": {
      "text/plain": [
       "14"
      ]
     },
     "execution_count": 24,
     "metadata": {},
     "output_type": "execute_result"
    }
   ],
   "source": [
    "len(g.Trunk(1,Scale=4))"
   ]
  },
  {
   "cell_type": "code",
   "execution_count": 25,
   "id": "397cfce4",
   "metadata": {},
   "outputs": [
    {
     "data": {
      "text/plain": [
       "64"
      ]
     },
     "execution_count": 25,
     "metadata": {},
     "output_type": "execute_result"
    }
   ],
   "source": [
    "from sys import getsizeof\n",
    "g.nbyte"
   ]
  },
  {
   "cell_type": "code",
   "execution_count": 26,
   "id": "8b08a8f6",
   "metadata": {},
   "outputs": [
    {
     "data": {
      "text/plain": [
       "133.33333333333334"
      ]
     },
     "execution_count": 26,
     "metadata": {},
     "output_type": "execute_result"
    }
   ],
   "source": [
    "8000./60"
   ]
  },
  {
   "cell_type": "code",
   "execution_count": 42,
   "id": "51ddff72",
   "metadata": {},
   "outputs": [
    {
     "data": {
      "text/plain": [
       "168"
      ]
     },
     "execution_count": 42,
     "metadata": {},
     "output_type": "execute_result"
    }
   ],
   "source": [
    "les=g.properties()['lesions']\n",
    "g.nb_vertices(scale=4)"
   ]
  },
  {
   "cell_type": "code",
   "execution_count": 48,
   "id": "b776df27",
   "metadata": {},
   "outputs": [
    {
     "data": {
      "text/plain": [
       "23.164024343159838"
      ]
     },
     "execution_count": 48,
     "metadata": {},
     "output_type": "execute_result"
    }
   ],
   "source": [
    "from pympler.asizeof import asizeof\n",
    "mo=1024*1024\n",
    "asizeof(g)*9.53674316*10**-7"
   ]
  },
  {
   "cell_type": "code",
   "execution_count": 44,
   "id": "ea22af49",
   "metadata": {},
   "outputs": [
    {
     "data": {
      "text/plain": [
       "1048576"
      ]
     },
     "execution_count": 44,
     "metadata": {},
     "output_type": "execute_result"
    }
   ],
   "source": [
    "mo=1024*1024"
   ]
  },
  {
   "cell_type": "code",
   "execution_count": 47,
   "id": "284b0dd1",
   "metadata": {},
   "outputs": [
    {
     "data": {
      "text/plain": [
       "0.999999999574016"
      ]
     },
     "execution_count": 47,
     "metadata": {},
     "output_type": "execute_result"
    }
   ],
   "source": [
    "_*9.53674316*10**-7"
   ]
  },
  {
   "cell_type": "code",
   "execution_count": null,
   "id": "2fb677a9",
   "metadata": {},
   "outputs": [],
   "source": [
    "g, domain_area = adel_sample(nb_sect=nb_phyelts, d=1000, p=nb_plants)"
   ]
  },
  {
   "cell_type": "code",
   "execution_count": 6,
   "id": "3f0b3697",
   "metadata": {},
   "outputs": [],
   "source": [
    "%run benchmark.ipynb"
   ]
  },
  {
   "cell_type": "code",
   "execution_count": 7,
   "id": "0137481c",
   "metadata": {},
   "outputs": [],
   "source": [
    "minit(); msave()"
   ]
  },
  {
   "cell_type": "code",
   "execution_count": null,
   "id": "71790165",
   "metadata": {},
   "outputs": [],
   "source": []
  }
 ],
 "metadata": {
  "kernelspec": {
   "display_name": "Python 3 (ipykernel)",
   "language": "python",
   "name": "python3"
  },
  "language_info": {
   "codemirror_mode": {
    "name": "ipython",
    "version": 3
   },
   "file_extension": ".py",
   "mimetype": "text/x-python",
   "name": "python",
   "nbconvert_exporter": "python",
   "pygments_lexer": "ipython3",
   "version": "3.8.12"
  }
 },
 "nbformat": 4,
 "nbformat_minor": 1
}
