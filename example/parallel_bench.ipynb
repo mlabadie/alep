{
 "cells": [
  {
   "cell_type": "markdown",
   "id": "88477893",
   "metadata": {},
   "source": [
    "# Bench the Alep model in parallel"
   ]
  },
  {
   "cell_type": "code",
   "execution_count": 1,
   "id": "cf91c0e9",
   "metadata": {},
   "outputs": [],
   "source": [
    "%run benchmark.ipynb"
   ]
  },
  {
   "cell_type": "markdown",
   "id": "8d3bf4af",
   "metadata": {},
   "source": [
    "## Parallel computing interface"
   ]
  },
  {
   "cell_type": "code",
   "execution_count": 2,
   "id": "dc0fa1ee",
   "metadata": {},
   "outputs": [],
   "source": [
    "from IPython.parallel import Client"
   ]
  },
  {
   "cell_type": "code",
   "execution_count": 3,
   "id": "83b1310d",
   "metadata": {},
   "outputs": [],
   "source": [
    "c = Client()\n",
    "v = c.load_balanced_view()"
   ]
  },
  {
   "cell_type": "markdown",
   "id": "f03137c6",
   "metadata": {},
   "source": [
    "## Benchmark for various numbers of plants, phyto-elements by leaf, initial number of lesions by leaf"
   ]
  },
  {
   "cell_type": "code",
   "execution_count": 4,
   "id": "fb87b169",
   "metadata": {},
   "outputs": [],
   "source": [
    "def parallel_bench(plant, phy, les):\n",
    "    repeat = 1\n",
    "    from IPython.kernel.zmq.datapub import publish_data\n",
    "    times, gs=zip(*[measure(plant, phy, les) for i in range(repeat)])\n",
    "    _time =min(times)\n",
    "    print _time\n",
    "    publish_data(dict(plant=plant, phytomer=phy, lesion=les, time=_time))\n"
   ]
  },
  {
   "cell_type": "code",
   "execution_count": 5,
   "id": "c0666060",
   "metadata": {},
   "outputs": [],
   "source": [
    "# results\n",
    "async_results = []\n",
    "%px %run benchmark.ipynb"
   ]
  },
  {
   "cell_type": "code",
   "execution_count": 6,
   "id": "a48ad807",
   "metadata": {},
   "outputs": [],
   "source": [
    "for les in (3,):\n",
    "    for plant in (3,):\n",
    "        for phy in (1,):\n",
    "            ar = v.apply_async(parallel_bench, plant, phy, les)\n",
    "            async_results.append(ar)\n",
    "c.wait(async_results)\n",
    "results = [ar.data for ar in async_results]\n",
    "merge(results)"
   ]
  },
  {
   "cell_type": "code",
   "execution_count": 144,
   "id": "e658048a",
   "metadata": {},
   "outputs": [],
   "source": [
    "results = [ar.data for ar in async_results]\n",
    "results = [r for r in results if r]\n",
    "results\n",
    "del results[-2]\n",
    "results\n",
    "merge(results)\n"
   ]
  },
  {
   "cell_type": "code",
   "execution_count": 7,
   "id": "643e1505",
   "metadata": {},
   "outputs": [
    {
     "data": {
      "text/html": [
       "<div style=\"max-height:1000px;max-width:1500px;overflow:auto;\">\n",
       "<table border=\"1\" class=\"dataframe\">\n",
       "  <thead>\n",
       "    <tr style=\"text-align: right;\">\n",
       "      <th></th>\n",
       "      <th>plant</th>\n",
       "      <th>phytomer</th>\n",
       "      <th>lesion</th>\n",
       "      <th>time</th>\n",
       "    </tr>\n",
       "  </thead>\n",
       "  <tbody>\n",
       "    <tr>\n",
       "      <th>0 </th>\n",
       "      <td>  1</td>\n",
       "      <td>  1</td>\n",
       "      <td>  1</td>\n",
       "      <td>   52.616385</td>\n",
       "    </tr>\n",
       "    <tr>\n",
       "      <th>1 </th>\n",
       "      <td>  2</td>\n",
       "      <td>  1</td>\n",
       "      <td>  1</td>\n",
       "      <td>  151.110308</td>\n",
       "    </tr>\n",
       "    <tr>\n",
       "      <th>2 </th>\n",
       "      <td>  1</td>\n",
       "      <td>  1</td>\n",
       "      <td>  2</td>\n",
       "      <td>  185.221284</td>\n",
       "    </tr>\n",
       "    <tr>\n",
       "      <th>3 </th>\n",
       "      <td>  2</td>\n",
       "      <td>  1</td>\n",
       "      <td>  2</td>\n",
       "      <td>  263.577027</td>\n",
       "    </tr>\n",
       "    <tr>\n",
       "      <th>4 </th>\n",
       "      <td>  1</td>\n",
       "      <td>  1</td>\n",
       "      <td>  3</td>\n",
       "      <td>  196.352517</td>\n",
       "    </tr>\n",
       "    <tr>\n",
       "      <th>5 </th>\n",
       "      <td>  1</td>\n",
       "      <td>  1</td>\n",
       "      <td>  4</td>\n",
       "      <td>  217.332566</td>\n",
       "    </tr>\n",
       "    <tr>\n",
       "      <th>6 </th>\n",
       "      <td>  2</td>\n",
       "      <td>  1</td>\n",
       "      <td>  4</td>\n",
       "      <td>  376.497868</td>\n",
       "    </tr>\n",
       "    <tr>\n",
       "      <th>7 </th>\n",
       "      <td>  1</td>\n",
       "      <td>  1</td>\n",
       "      <td>  5</td>\n",
       "      <td>  274.339585</td>\n",
       "    </tr>\n",
       "    <tr>\n",
       "      <th>8 </th>\n",
       "      <td>  2</td>\n",
       "      <td>  1</td>\n",
       "      <td>  5</td>\n",
       "      <td>  483.802772</td>\n",
       "    </tr>\n",
       "    <tr>\n",
       "      <th>9 </th>\n",
       "      <td>  1</td>\n",
       "      <td>  1</td>\n",
       "      <td> 10</td>\n",
       "      <td>  362.732985</td>\n",
       "    </tr>\n",
       "    <tr>\n",
       "      <th>10</th>\n",
       "      <td>  2</td>\n",
       "      <td>  1</td>\n",
       "      <td> 10</td>\n",
       "      <td>  745.901678</td>\n",
       "    </tr>\n",
       "    <tr>\n",
       "      <th>11</th>\n",
       "      <td>  3</td>\n",
       "      <td>  1</td>\n",
       "      <td>  1</td>\n",
       "      <td>  699.892657</td>\n",
       "    </tr>\n",
       "    <tr>\n",
       "      <th>12</th>\n",
       "      <td>  4</td>\n",
       "      <td>  1</td>\n",
       "      <td>  1</td>\n",
       "      <td>  962.015559</td>\n",
       "    </tr>\n",
       "    <tr>\n",
       "      <th>13</th>\n",
       "      <td>  5</td>\n",
       "      <td>  1</td>\n",
       "      <td>  1</td>\n",
       "      <td> 1116.281023</td>\n",
       "    </tr>\n",
       "    <tr>\n",
       "      <th>14</th>\n",
       "      <td>  3</td>\n",
       "      <td>  1</td>\n",
       "      <td>  2</td>\n",
       "      <td>  917.889568</td>\n",
       "    </tr>\n",
       "    <tr>\n",
       "      <th>15</th>\n",
       "      <td>  4</td>\n",
       "      <td>  1</td>\n",
       "      <td>  2</td>\n",
       "      <td> 1124.708023</td>\n",
       "    </tr>\n",
       "    <tr>\n",
       "      <th>16</th>\n",
       "      <td>  5</td>\n",
       "      <td>  1</td>\n",
       "      <td>  2</td>\n",
       "      <td> 1710.204880</td>\n",
       "    </tr>\n",
       "    <tr>\n",
       "      <th>17</th>\n",
       "      <td>  4</td>\n",
       "      <td>  1</td>\n",
       "      <td>  3</td>\n",
       "      <td> 1562.571566</td>\n",
       "    </tr>\n",
       "    <tr>\n",
       "      <th>18</th>\n",
       "      <td>  5</td>\n",
       "      <td>  1</td>\n",
       "      <td>  3</td>\n",
       "      <td> 1855.431061</td>\n",
       "    </tr>\n",
       "    <tr>\n",
       "      <th>19</th>\n",
       "      <td>  3</td>\n",
       "      <td>  1</td>\n",
       "      <td>  4</td>\n",
       "      <td> 1401.032676</td>\n",
       "    </tr>\n",
       "    <tr>\n",
       "      <th>20</th>\n",
       "      <td>  4</td>\n",
       "      <td>  1</td>\n",
       "      <td>  4</td>\n",
       "      <td> 1652.886452</td>\n",
       "    </tr>\n",
       "    <tr>\n",
       "      <th>21</th>\n",
       "      <td>  5</td>\n",
       "      <td>  1</td>\n",
       "      <td>  4</td>\n",
       "      <td> 2152.609635</td>\n",
       "    </tr>\n",
       "    <tr>\n",
       "      <th>22</th>\n",
       "      <td>  3</td>\n",
       "      <td>  1</td>\n",
       "      <td>  5</td>\n",
       "      <td> 1643.862712</td>\n",
       "    </tr>\n",
       "    <tr>\n",
       "      <th>23</th>\n",
       "      <td>  4</td>\n",
       "      <td>  1</td>\n",
       "      <td>  5</td>\n",
       "      <td> 1721.604758</td>\n",
       "    </tr>\n",
       "    <tr>\n",
       "      <th>24</th>\n",
       "      <td>  5</td>\n",
       "      <td>  1</td>\n",
       "      <td>  5</td>\n",
       "      <td> 1954.623514</td>\n",
       "    </tr>\n",
       "    <tr>\n",
       "      <th>25</th>\n",
       "      <td>  3</td>\n",
       "      <td>  1</td>\n",
       "      <td> 10</td>\n",
       "      <td> 1668.678012</td>\n",
       "    </tr>\n",
       "    <tr>\n",
       "      <th>26</th>\n",
       "      <td>  4</td>\n",
       "      <td>  1</td>\n",
       "      <td> 10</td>\n",
       "      <td> 1721.181873</td>\n",
       "    </tr>\n",
       "    <tr>\n",
       "      <th>27</th>\n",
       "      <td>  5</td>\n",
       "      <td>  1</td>\n",
       "      <td> 10</td>\n",
       "      <td> 1887.445377</td>\n",
       "    </tr>\n",
       "    <tr>\n",
       "      <th>28</th>\n",
       "      <td> 10</td>\n",
       "      <td>  1</td>\n",
       "      <td>  1</td>\n",
       "      <td> 2482.067981</td>\n",
       "    </tr>\n",
       "    <tr>\n",
       "      <th>29</th>\n",
       "      <td> 20</td>\n",
       "      <td>  1</td>\n",
       "      <td>  1</td>\n",
       "      <td> 4080.104507</td>\n",
       "    </tr>\n",
       "    <tr>\n",
       "      <th>30</th>\n",
       "      <td> 10</td>\n",
       "      <td>  1</td>\n",
       "      <td>  2</td>\n",
       "      <td> 2695.590068</td>\n",
       "    </tr>\n",
       "    <tr>\n",
       "      <th>31</th>\n",
       "      <td> 20</td>\n",
       "      <td>  1</td>\n",
       "      <td>  2</td>\n",
       "      <td> 4803.047765</td>\n",
       "    </tr>\n",
       "    <tr>\n",
       "      <th>32</th>\n",
       "      <td> 10</td>\n",
       "      <td>  1</td>\n",
       "      <td>  3</td>\n",
       "      <td> 3084.635194</td>\n",
       "    </tr>\n",
       "    <tr>\n",
       "      <th>33</th>\n",
       "      <td> 20</td>\n",
       "      <td>  1</td>\n",
       "      <td>  3</td>\n",
       "      <td> 4921.652758</td>\n",
       "    </tr>\n",
       "    <tr>\n",
       "      <th>34</th>\n",
       "      <td> 10</td>\n",
       "      <td>  1</td>\n",
       "      <td>  4</td>\n",
       "      <td> 3398.102003</td>\n",
       "    </tr>\n",
       "    <tr>\n",
       "      <th>35</th>\n",
       "      <td> 20</td>\n",
       "      <td>  1</td>\n",
       "      <td>  4</td>\n",
       "      <td> 6235.175777</td>\n",
       "    </tr>\n",
       "    <tr>\n",
       "      <th>36</th>\n",
       "      <td> 10</td>\n",
       "      <td>  1</td>\n",
       "      <td>  5</td>\n",
       "      <td> 3931.022879</td>\n",
       "    </tr>\n",
       "    <tr>\n",
       "      <th>37</th>\n",
       "      <td> 20</td>\n",
       "      <td>  1</td>\n",
       "      <td>  5</td>\n",
       "      <td> 6674.406327</td>\n",
       "    </tr>\n",
       "    <tr>\n",
       "      <th>38</th>\n",
       "      <td> 10</td>\n",
       "      <td>  1</td>\n",
       "      <td> 10</td>\n",
       "      <td> 4921.252146</td>\n",
       "    </tr>\n",
       "    <tr>\n",
       "      <th>39</th>\n",
       "      <td> 20</td>\n",
       "      <td>  1</td>\n",
       "      <td> 10</td>\n",
       "      <td> 8566.694451</td>\n",
       "    </tr>\n",
       "    <tr>\n",
       "      <th>40</th>\n",
       "      <td>  1</td>\n",
       "      <td>  4</td>\n",
       "      <td>  3</td>\n",
       "      <td>  679.455057</td>\n",
       "    </tr>\n",
       "    <tr>\n",
       "      <th>41</th>\n",
       "      <td>  1</td>\n",
       "      <td>  5</td>\n",
       "      <td>  3</td>\n",
       "      <td>  805.253789</td>\n",
       "    </tr>\n",
       "    <tr>\n",
       "      <th>42</th>\n",
       "      <td>  1</td>\n",
       "      <td> 10</td>\n",
       "      <td>  3</td>\n",
       "      <td> 1525.118101</td>\n",
       "    </tr>\n",
       "    <tr>\n",
       "      <th>43</th>\n",
       "      <td>  1</td>\n",
       "      <td> 20</td>\n",
       "      <td>  3</td>\n",
       "      <td> 2427.388019</td>\n",
       "    </tr>\n",
       "    <tr>\n",
       "      <th>44</th>\n",
       "      <td>  2</td>\n",
       "      <td>  1</td>\n",
       "      <td>  3</td>\n",
       "      <td>  444.018755</td>\n",
       "    </tr>\n",
       "    <tr>\n",
       "      <th>45</th>\n",
       "      <td>  2</td>\n",
       "      <td> 10</td>\n",
       "      <td>  3</td>\n",
       "      <td> 2192.697881</td>\n",
       "    </tr>\n",
       "    <tr>\n",
       "      <th>46</th>\n",
       "      <td>  3</td>\n",
       "      <td>  1</td>\n",
       "      <td>  3</td>\n",
       "      <td>  481.013149</td>\n",
       "    </tr>\n",
       "  </tbody>\n",
       "</table>\n",
       "<p>47 rows × 4 columns</p>\n",
       "</div>"
      ],
      "text/plain": [
       "    plant  phytomer  lesion         time\n",
       "0       1         1       1    52.616385\n",
       "1       2         1       1   151.110308\n",
       "2       1         1       2   185.221284\n",
       "3       2         1       2   263.577027\n",
       "4       1         1       3   196.352517\n",
       "5       1         1       4   217.332566\n",
       "6       2         1       4   376.497868\n",
       "7       1         1       5   274.339585\n",
       "8       2         1       5   483.802772\n",
       "9       1         1      10   362.732985\n",
       "10      2         1      10   745.901678\n",
       "11      3         1       1   699.892657\n",
       "12      4         1       1   962.015559\n",
       "13      5         1       1  1116.281023\n",
       "14      3         1       2   917.889568\n",
       "15      4         1       2  1124.708023\n",
       "16      5         1       2  1710.204880\n",
       "17      4         1       3  1562.571566\n",
       "18      5         1       3  1855.431061\n",
       "19      3         1       4  1401.032676\n",
       "20      4         1       4  1652.886452\n",
       "21      5         1       4  2152.609635\n",
       "22      3         1       5  1643.862712\n",
       "23      4         1       5  1721.604758\n",
       "24      5         1       5  1954.623514\n",
       "25      3         1      10  1668.678012\n",
       "26      4         1      10  1721.181873\n",
       "27      5         1      10  1887.445377\n",
       "28     10         1       1  2482.067981\n",
       "29     20         1       1  4080.104507\n",
       "30     10         1       2  2695.590068\n",
       "31     20         1       2  4803.047765\n",
       "32     10         1       3  3084.635194\n",
       "33     20         1       3  4921.652758\n",
       "34     10         1       4  3398.102003\n",
       "35     20         1       4  6235.175777\n",
       "36     10         1       5  3931.022879\n",
       "37     20         1       5  6674.406327\n",
       "38     10         1      10  4921.252146\n",
       "39     20         1      10  8566.694451\n",
       "40      1         4       3   679.455057\n",
       "41      1         5       3   805.253789\n",
       "42      1        10       3  1525.118101\n",
       "43      1        20       3  2427.388019\n",
       "44      2         1       3   444.018755\n",
       "45      2        10       3  2192.697881\n",
       "46      3         1       3   481.013149\n",
       "\n",
       "[47 rows x 4 columns]"
      ]
     },
     "execution_count": 7,
     "metadata": {},
     "output_type": "execute_result"
    }
   ],
   "source": [
    "df = pd.DataFrame.from_csv('bench.txt',sep=',',index_col=None)\n",
    "df"
   ]
  },
  {
   "cell_type": "code",
   "execution_count": 28,
   "id": "517fed2b",
   "metadata": {},
   "outputs": [],
   "source": [
    "df = pd.DataFrame.from_csv('bench.txt',sep=',',index_col=None)"
   ]
  },
  {
   "cell_type": "code",
   "execution_count": 146,
   "id": "b699a459",
   "metadata": {},
   "outputs": [
    {
     "data": {
      "text/plain": [
       "plant\n",
       "1        Axes(0.125,0.125;0.775x0.775)\n",
       "2        Axes(0.125,0.125;0.775x0.775)\n",
       "3        Axes(0.125,0.125;0.775x0.775)\n",
       "4        Axes(0.125,0.125;0.775x0.775)\n",
       "5        Axes(0.125,0.125;0.775x0.775)\n",
       "10       Axes(0.125,0.125;0.775x0.775)\n",
       "20       Axes(0.125,0.125;0.775x0.775)\n",
       "dtype: object"
      ]
     },
     "execution_count": 146,
     "metadata": {},
     "output_type": "execute_result"
    },
    {
     "data": {
      "image/png": "[encoded data removed]",
      "text/plain": [
       "<matplotlib.figure.Figure at 0x112809b90>"
      ]
     },
     "metadata": {},
     "output_type": "display_data"
    }
   ],
   "source": [
    "%matplotlib inline\n",
    "df.tp= df.time/df.plant\n",
    "df.tl= df.time/df.lesion\n",
    "df['tp']=df.tp\n",
    "df['tl']=df.tl\n",
    "\n",
    "#df['ppl']=df.ppl\n",
    "#df.sort('ppl')\n",
    "#df.plot(x='ppl',y='time',kind='scatter')\n",
    "df.groupby('plant').plot(x='time',y='tl')"
   ]
  },
  {
   "cell_type": "code",
   "execution_count": 103,
   "id": "62887ba5",
   "metadata": {},
   "outputs": [
    {
     "data": {
      "text/plain": [
       "0      52.616385\n",
       "1      75.555154\n",
       "12    233.297552\n",
       "13    240.503890\n",
       "14    223.256205\n",
       "30    248.206798\n",
       "31    204.005225\n",
       "dtype: float64"
      ]
     },
     "execution_count": 103,
     "metadata": {},
     "output_type": "execute_result"
    }
   ],
   "source": [
    "#dfl = df.groupby('lesion')\n",
    "#dfp = df.groupby('plant')\n",
    "dfp1= df[df.lesion==1]\n",
    "dfp1.time/dfp1.plant\n"
   ]
  },
  {
   "cell_type": "code",
   "execution_count": 129,
   "id": "c364550d",
   "metadata": {},
   "outputs": [],
   "source": [
    "%qtconsole"
   ]
  },
  {
   "cell_type": "code",
   "execution_count": 10,
   "id": "341d1206",
   "metadata": {},
   "outputs": [
    {
     "name": "stdout",
     "output_type": "stream",
     "text": [
      "!!!!!!!!!!!WARNING !!!!!!!!!!: Septo3DSplash class is deprecated, and will be remove in future verions, use alinea.septo3d.dispersion.alep_interfaces instead\n"
     ]
    }
   ],
   "source": [
    "t,g=measure(1,1,1)"
   ]
  },
  {
   "cell_type": "code",
   "execution_count": 24,
   "id": "87928947",
   "metadata": {},
   "outputs": [
    {
     "data": {
      "text/plain": [
       "14"
      ]
     },
     "execution_count": 24,
     "metadata": {},
     "output_type": "execute_result"
    }
   ],
   "source": [
    "len(g.Trunk(1,Scale=4))"
   ]
  },
  {
   "cell_type": "code",
   "execution_count": 25,
   "id": "bab2b2c4",
   "metadata": {},
   "outputs": [
    {
     "data": {
      "text/plain": [
       "64"
      ]
     },
     "execution_count": 25,
     "metadata": {},
     "output_type": "execute_result"
    }
   ],
   "source": [
    "from sys import getsizeof\n",
    "g.nbyte"
   ]
  },
  {
   "cell_type": "code",
   "execution_count": 26,
   "id": "f262b77d",
   "metadata": {},
   "outputs": [
    {
     "data": {
      "text/plain": [
       "133.33333333333334"
      ]
     },
     "execution_count": 26,
     "metadata": {},
     "output_type": "execute_result"
    }
   ],
   "source": [
    "8000./60"
   ]
  },
  {
   "cell_type": "code",
   "execution_count": 42,
   "id": "e860d48e",
   "metadata": {},
   "outputs": [
    {
     "data": {
      "text/plain": [
       "168"
      ]
     },
     "execution_count": 42,
     "metadata": {},
     "output_type": "execute_result"
    }
   ],
   "source": [
    "les=g.properties()['lesions']\n",
    "g.nb_vertices(scale=4)"
   ]
  },
  {
   "cell_type": "code",
   "execution_count": 48,
   "id": "2fba282e",
   "metadata": {},
   "outputs": [
    {
     "data": {
      "text/plain": [
       "23.164024343159838"
      ]
     },
     "execution_count": 48,
     "metadata": {},
     "output_type": "execute_result"
    }
   ],
   "source": [
    "from pympler.asizeof import asizeof\n",
    "mo=1024*1024\n",
    "asizeof(g)*9.53674316*10**-7"
   ]
  },
  {
   "cell_type": "code",
   "execution_count": 44,
   "id": "691b494a",
   "metadata": {},
   "outputs": [
    {
     "data": {
      "text/plain": [
       "1048576"
      ]
     },
     "execution_count": 44,
     "metadata": {},
     "output_type": "execute_result"
    }
   ],
   "source": [
    "mo=1024*1024"
   ]
  },
  {
   "cell_type": "code",
   "execution_count": 47,
   "id": "cf0dc97c",
   "metadata": {},
   "outputs": [
    {
     "data": {
      "text/plain": [
       "0.999999999574016"
      ]
     },
     "execution_count": 47,
     "metadata": {},
     "output_type": "execute_result"
    }
   ],
   "source": [
    "_*9.53674316*10**-7"
   ]
  },
  {
   "cell_type": "code",
   "execution_count": null,
   "id": "8efe2746",
   "metadata": {},
   "outputs": [],
   "source": [
    "g, domain_area = adel_sample(nb_sect=nb_phyelts, d=1000, p=nb_plants)"
   ]
  }
 ],
 "metadata": {
  "kernelspec": {
   "display_name": "Python 3 (ipykernel)",
   "language": "python",
   "name": "python3"
  },
  "language_info": {
   "codemirror_mode": {
    "name": "ipython",
    "version": 3
   },
   "file_extension": ".py",
   "mimetype": "text/x-python",
   "name": "python",
   "nbconvert_exporter": "python",
   "pygments_lexer": "ipython3",
   "version": "3.8.12"
  }
 },
 "nbformat": 4,
 "nbformat_minor": 1
}
