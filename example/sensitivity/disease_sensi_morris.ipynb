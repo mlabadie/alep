{
 "cells": [
  {
   "cell_type": "markdown",
   "id": "18694017",
   "metadata": {},
   "source": [
    "# Procedure of sensitivity analysis for the septoria model: Method of Morris"
   ]
  },
  {
   "cell_type": "code",
   "execution_count": 1,
   "id": "ecdbad76",
   "metadata": {},
   "outputs": [
    {
     "name": "stderr",
     "output_type": "stream",
     "text": [
      "C:\\Python27\\lib\\site-packages\\pandas\\core\\indexing.py:389: SettingWithCopyWarning: A value is trying to be set on a copy of a slice from a DataFrame.\n",
      "Try using .loc[row_index,col_indexer] = value instead\n",
      "  self.obj[item] = s\n"
     ]
    }
   ],
   "source": [
    "import sys\n",
    "sys.path.append(\"..\")\n",
    "import numpy as np\n",
    "import random as rd\n",
    "import pandas as pd\n",
    "import itertools\n",
    "from collections import OrderedDict\n",
    "from SALib.sample.morris import sample\n",
    "from SALib.util import scale_samples, read_param_file\n",
    "from SALib.analyze import morris\n",
    "from openalea.multiprocessing.parallel import pymap\n",
    "from septo_decomposed import run_disease, make_canopy\n",
    "from alinea.alep.disease_outputs import get_recorder, mean_by_leaf, mean_audpc_by_leaf\n",
    "try:\n",
    "    import cPickle as pickle\n",
    "except:\n",
    "    import pickle"
   ]
  },
  {
   "cell_type": "markdown",
   "id": "fc21d049",
   "metadata": {},
   "source": [
    "## Generation of parameter set"
   ]
  },
  {
   "cell_type": "code",
   "execution_count": 2,
   "id": "0a01b6e1",
   "metadata": {},
   "outputs": [],
   "source": [
    "def add_parameter(parameter_name = 'sporulating_fraction', interval = [1e-6, 1e-2], filename = 'param_range_SA.txt'):\n",
    "    \"\"\" Add a new line with parameter name and interval of variation in parameter range file.\n",
    "    \"\"\"\n",
    "    f = open(filename, \"a\")\n",
    "    s = parameter_name + ' %f %f' % tuple(float(i) for i in interval)\n",
    "    f.writelines(s + '\\n')\n",
    "    f.close()"
   ]
  },
  {
   "cell_type": "code",
   "execution_count": 3,
   "id": "316556a1",
   "metadata": {},
   "outputs": [],
   "source": [
    "def generate_parameter_range_file(filename = 'param_range_SA.txt'):\n",
    "    \"\"\" Generate the file with range of variation for all tested parameters.\n",
    "    \"\"\"\n",
    "    for parameter_name, interval in quantitative_parameters.iteritems():\n",
    "        add_parameter(parameter_name = parameter_name, interval = interval, filename = filename)"
   ]
  },
  {
   "cell_type": "code",
   "execution_count": 4,
   "id": "196b96b2",
   "metadata": {},
   "outputs": [],
   "source": [
    "def generate_parameter_set(parameter_range_file = 'param_range_SA.txt',\n",
    "                           sample_file = 'septo_morris_input.txt',\n",
    "                           num_trajectories = 10,\n",
    "                           num_levels = 10):\n",
    "    \"\"\" Generate the file with samples for the analysis of Morris. \n",
    "    \"\"\"   \n",
    "    # Reset parameter range file\n",
    "    open(parameter_range_file, 'w').close()\n",
    "    generate_parameter_range_file(filename = parameter_range_file)\n",
    "    \n",
    "    # Generate samples\n",
    "    problem = read_param_file(parameter_range_file)\n",
    "    param_values = sample(problem, N = num_trajectories, num_levels = num_levels, grid_jump = 5)\n",
    "    \n",
    "    # For Method of Morris, save the parameter values in a file (they are needed in the analysis)\n",
    "    np.savetxt(sample_file, param_values, delimiter=' ')\n",
    "    \n",
    "    # Repeat samples for each value of qualitative parameters (avoid repetition of combination with default values)\n",
    "    full_params = []\n",
    "    defaults = OrderedDict([(k,v['default']) for k,v in qualitative_parameters.iteritems()])\n",
    "\n",
    "    for i_set, param_set in enumerate(param_values):\n",
    "        full_params += [np.insert(param_set, 0, defaults.values()).tolist()]\n",
    "        \n",
    "        for param, val in qualitative_parameters.iteritems():\n",
    "            for value in val['values']:\n",
    "                if value != val['default']:\n",
    "                    param_combination = [v for k,v in defaults.iteritems() if k!=param]\n",
    "                    param_combination.insert(defaults.keys().index(param), value)\n",
    "                    full_params += [np.insert(param_set, 0, param_combination).tolist()]\n",
    "    \n",
    "    # Add indices of sample\n",
    "    full_params = [np.insert(param_set, 0, i_sample).tolist() for i_sample, param_set in enumerate(full_params)]\n",
    "    \n",
    "    # Save full parameter values\n",
    "    np.savetxt(sample_file[:-4]+'_full'+sample_file[-4:], full_params, delimiter=' ')"
   ]
  },
  {
   "cell_type": "markdown",
   "id": "061f22cf",
   "metadata": {},
   "source": [
    "Here define:\n",
    "    - quantitative_parameters: {parameter_name:[min_value, max_value]}\n",
    "        Parameters sampled for analysis of Morris\n",
    "    - qualitative_parameters: {parameter_name:{'default':float, 'values':[floats]}}\n",
    "        Samples are repeated for each value of qualitative parameter (new analysis of Morris)"
   ]
  },
  {
   "cell_type": "code",
   "execution_count": 5,
   "id": "1221bc02",
   "metadata": {},
   "outputs": [],
   "source": [
    "quantitative_parameters = OrderedDict([('sporulating_fraction', [0.5e-4, 2e-4]),\n",
    "                                       ('degree_days_to_chlorosis', [120., 250.]),\n",
    "                                       ('degree_days_to_necrosis', [11., 100.]),\n",
    "                                       ('Smin', [1e-4, 0.99e-2]),\n",
    "                                       ('Smax', [1e-2, 1.]),\n",
    "                                       ('growth_rate', [0.5e-4, 0.5e-2]),\n",
    "                                       ('age_physio_switch_senescence', [0.01, 1.]),\n",
    "                                       ('density_dus_emitted', [1e3, 3e3]),\n",
    "                                       ('reduction_by_rain', [0., 1.]), \n",
    "                                       ('temp_min', [0., 10.])])\n",
    "\n",
    "#qualitative_parameters = OrderedDict([('year', {'default':2004., 'values':[1998., 2003., 2004.]}),\n",
    "#                                      ('variety', {'default':1, 'values':[1, 2, 3, 4]})])\n",
    "\n",
    "qualitative_parameters = OrderedDict([('year', {'default':2012, 'values':[2012]})])\n",
    "\n",
    "variety_code = {1:'Mercia', 2:'Rht3', 3:'Tremie12', 4:'Tremie13'}\n",
    "\n",
    "list_param_names = qualitative_parameters.keys() + quantitative_parameters.keys()\n",
    "\n",
    "generate_parameter_set(parameter_range_file = 'param_range_SA.txt',\n",
    "                       sample_file = 'septo_morris_input.txt',\n",
    "                       num_trajectories = 10,\n",
    "                       num_levels = 10)"
   ]
  },
  {
   "cell_type": "markdown",
   "id": "5ee8503e",
   "metadata": {},
   "source": [
    "## Run and save simulation"
   ]
  },
  {
   "cell_type": "markdown",
   "id": "1e72e474",
   "metadata": {},
   "source": [
    "/!\\ Wheat reconstructions must be generated prior to simulations of disease /!\\"
   ]
  },
  {
   "cell_type": "code",
   "execution_count": 6,
   "id": "70ae6c8e",
   "metadata": {},
   "outputs": [],
   "source": [
    "def wheat_path((year, variety, nplants, nsect)):\n",
    "    if variety.lower().startswith('tremie'):\n",
    "        variety = 'tremie'\n",
    "    return '../adel/'+variety.lower()+'_'+str(int(year))+'_'+str(nplants)+'pl_'+str(nsect)+'sect'"
   ]
  },
  {
   "cell_type": "code",
   "execution_count": 7,
   "id": "ca9a123b",
   "metadata": {},
   "outputs": [],
   "source": [
    "# Generate wheat reconstruction\n",
    "def make_canopies((yr, day, variety, nplants, nsect, wheat_path)):\n",
    "    make_canopy(start_date = str(int(yr-1))+\"-10-\"+str(int(day))+\" 12:00:00\", end_date = str(int(yr))+\"-08-01 00:00:00\",\n",
    "            variety = variety, nplants = nplants, nsect = nsect, disc_level = 5, dir = wheat_path)\n",
    "    \n",
    "def reconstruct_wheat(nb_plants = 6, nb_sects = 5):   \n",
    "    combinations = list(itertools.product(*[qualitative_parameters['year']['values'], variety_code.values(), [nb_plants], [nb_sects]]))\n",
    "    combinations = map(lambda x: x + (wheat_path(x),), combinations)\n",
    "    make_canopies(combinations)\n",
    "\n",
    "#reconstruct_wheat()"
   ]
  },
  {
   "cell_type": "code",
   "execution_count": 8,
   "id": "e583df94",
   "metadata": {},
   "outputs": [],
   "source": [
    "def param_values_to_dict(values):\n",
    "    keys = ['i_sample'] + list_param_names\n",
    "    return dict(zip(keys, values))"
   ]
  },
  {
   "cell_type": "code",
   "execution_count": 9,
   "id": "fcee0c5e",
   "metadata": {},
   "outputs": [],
   "source": [
    "def annual_loop(sample):\n",
    "    try:\n",
    "        # Get indice of simulation\n",
    "        i_sample = sample.pop('i_sample')\n",
    "\n",
    "        # Get year of simulation\n",
    "        if 'year' in sample:\n",
    "            year = int(sample.pop('year'))\n",
    "            if year == 2011:\n",
    "                start_date = \"2010-10-15\"\n",
    "                end_date = \"2011-06-20\"\n",
    "            elif year == 2012:\n",
    "                start_date = \"2011-10-21\"\n",
    "                end_date = \"2012-07-18\"\n",
    "                variety = 'Tremie12'\n",
    "            elif year == 2013:\n",
    "                start_date = \"2012-10-29\"\n",
    "                end_date = \"2013-08-01\"\n",
    "                variety = 'Tremie13'\n",
    "            else:\n",
    "                start_date = str(year-1)+\"-10-15\"\n",
    "                end_date = str(year)+\"-08-01\"\n",
    "        else:\n",
    "            year = 2005\n",
    "            start_date = str(year-1)+\"-10-15\"\n",
    "            end_date = str(year)+\"-08-01\"\n",
    "        start_date += \" 12:00:00\"\n",
    "        end_date += \" 00:00:00\"\n",
    "            \n",
    "        # Get variety\n",
    "        if 'variety' in sample:\n",
    "            variety = variety_code[sample.pop('variety')]\n",
    "        #else:\n",
    "         #   variety = 'Mercia'\n",
    "\n",
    "        # Get wheat path\n",
    "        nplants = 5\n",
    "        #nplants = 1\n",
    "        nsect = 7\n",
    "        w_path = wheat_path((year, variety, nplants, nsect))\n",
    "\n",
    "        # Run and save simulation\n",
    "        g, recorder = run_disease(start_date = start_date, \n",
    "                         end_date = end_date, \n",
    "                         variety = variety, nplants = nplants, nsect = nsect,\n",
    "                         dir = w_path, **sample)\n",
    "        stored_rec = './'+variety.lower()+'/recorder_'+str(int(i_sample))+'.pckl'\n",
    "        f_rec = open(stored_rec, 'w')\n",
    "        pickle.dump(recorder, f_rec)\n",
    "        f_rec.close()\n",
    "        del recorder\n",
    "        del g\n",
    "    except:\n",
    "        print 'evaluation failed'"
   ]
  },
  {
   "cell_type": "code",
   "execution_count": 11,
   "id": "7a7d59ab",
   "metadata": {},
   "outputs": [
    {
     "name": "stdout",
     "output_type": "stream",
     "text": [
      "Overwriting mp.py\n"
     ]
    }
   ],
   "source": [
    "%%file mp.py\n",
    "from multiprocessing import cpu_count\n",
    "from sensi_septo_morris import *\n",
    "filename = 'septo_morris_input_full.txt'\n",
    "nb_cpu = cpu_count()\n",
    "param_values = np.loadtxt(filename, delimiter=' ').tolist()\n",
    "samples = map(param_values_to_dict, param_values)\n",
    "\n",
    "# Run disease simulation\n",
    "if __name__ == '__main__':\n",
    "    pymap(annual_loop, samples, nb_cpu)"
   ]
  },
  {
   "cell_type": "code",
   "execution_count": null,
   "id": "7111b726",
   "metadata": {},
   "outputs": [],
   "source": [
    "%run mp"
   ]
  },
  {
   "cell_type": "markdown",
   "id": "f54bdfdb",
   "metadata": {},
   "source": [
    "/!\\ TODO : manage if interruption of simulations --> Start where it stopped"
   ]
  },
  {
   "cell_type": "markdown",
   "id": "89c88a7b",
   "metadata": {},
   "source": [
    "## Read results and make analysis of Morris"
   ]
  },
  {
   "cell_type": "code",
   "execution_count": null,
   "id": "769621ac",
   "metadata": {},
   "outputs": [],
   "source": [
    "def get_results_audpc(input_file = 'septo_morris_input_full.txt',\n",
    "                      qualitative_parameter = 'year',\n",
    "                      value = 2004):   \n",
    "    # Get i_sample numbers corresponding to qualitative_parameter==value in parameters set\n",
    "    df = pd.read_csv('septo_morris_input_full.txt', sep=' ', index_col=0, names=list_param_names)\n",
    "    df = df[df[qualitative_parameter]==value]\n",
    "    for k,v in qualitative_parameters.iteritems():\n",
    "        if k!=qualitative_parameter:\n",
    "            df = df[df[k]==v['default']]\n",
    "    i_samples = df.index\n",
    "        \n",
    "    # Get variety\n",
    "    if qualitative_parameter == 'variety':\n",
    "        variety = variety_code[value]\n",
    "    else:\n",
    "        variety = 'Mercia'\n",
    "        \n",
    "    # Get outputs of simulation for i_samples\n",
    "    audpcs = []\n",
    "    for i_sample in i_samples:\n",
    "        stored_rec = './'+variety.lower()+'/recorder_'+str(int(i_sample))+'.pckl'\n",
    "        recorder = get_recorder(stored_rec)\n",
    "        # Output variable: mean audpc on all plants and for leaves 1 to 3\n",
    "        mean_audpc_f1_to_f3 = mean_audpc_by_leaf(recorder, normalized=True)[['F%d' % lf for lf in range(1, 4)]].mean()\n",
    "        audpcs.append(mean_audpc_f1_to_f3)\n",
    "        del recorder\n",
    "        \n",
    "    # Save output\n",
    "    output_file = 'septo_morris_output_'+qualitative_parameter+'_'+str(value)+'.txt'\n",
    "    np.savetxt(output_file, audpcs, delimiter=' ')"
   ]
  },
  {
   "cell_type": "code",
   "execution_count": null,
   "id": "ad2be1ed",
   "metadata": {},
   "outputs": [],
   "source": [
    "def morris_analysis(parameter_range_file = 'param_range_SA.txt',\n",
    "                    input_file = 'septo_morris_input.txt', \n",
    "                    output_file = 'septo_morris_output_year_2004.txt'):\n",
    "    # Perform the sensitivity analysis using the model output\n",
    "    # Specify which column of the output file to analyze (zero-indexed)\n",
    "    Si = morris.analyze(parameter_range_file, input_file, output_file,\n",
    "                        column=0, conf_level=0.95, print_to_console=False)\n",
    "    # Returns a dictionary with keys 'mu', 'mu_star', 'sigma', and 'mu_star_conf'\n",
    "    # e.g. Si['mu_star'] contains the mu* value for each parameter, in the\n",
    "    # same order as the parameter file\n",
    "    return Si"
   ]
  },
  {
   "cell_type": "code",
   "execution_count": null,
   "id": "5bc6790a",
   "metadata": {},
   "outputs": [],
   "source": [
    "%pylab\n",
    "%matplotlib inline\n",
    "get_results_audpc()\n",
    "Si = morris_analysis()\n",
    "plot(Si['mu_star'], Si['sigma'], 'b*')"
   ]
  }
 ],
 "metadata": {
  "kernelspec": {
   "display_name": "Python 3 (ipykernel)",
   "language": "python",
   "name": "python3"
  },
  "language_info": {
   "codemirror_mode": {
    "name": "ipython",
    "version": 3
   },
   "file_extension": ".py",
   "mimetype": "text/x-python",
   "name": "python",
   "nbconvert_exporter": "python",
   "pygments_lexer": "ipython3",
   "version": "3.8.12"
  }
 },
 "nbformat": 4,
 "nbformat_minor": 1
}
