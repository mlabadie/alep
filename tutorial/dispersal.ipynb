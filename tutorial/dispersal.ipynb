{
 "cells": [
  {
   "cell_type": "markdown",
   "source": [
    "# Alep Tutorial\n",
    "\n",
    "## Dispersal\n",
    "\n",
    "Rational"
   ],
   "metadata": {}
  },
  {
   "cell_type": "code",
   "execution_count": 1,
   "source": [
    "# Python import\r\n",
    "import collections\r\n",
    "\r\n",
    "# Wheat simulation\r\n",
    "from alinea.adel.astk_interface import AdelWheat\r\n",
    "\r\n",
    "# Lesion \r\n",
    "from alinea.alep.fungus import Lesion, Fungus\r\n",
    "\r\n",
    "# Dispersal Models\r\n",
    "from alinea.alep.dispersal_emission import SimpleEmission\r\n",
    "from alinea.alep.dispersal_transport import SeptoriaRainDispersal, PowderyMildewWindDispersal, BrownRustDispersal\r\n",
    "\r\n",
    "# Generic algorithm to disperse DispersalUnit on MTG\r\n",
    "from alinea.alep.protocol import disperse\r\n",
    "\r\n",
    "# Ploting functions\r\n",
    "from alinea.alep.disease_outputs import plot3d_transparency\r\n",
    "\r\n",
    "# PlantGL geometric library\r\n",
    "import openalea.plantgl.all as pgl\r\n",
    "\r\n",
    "# MTG selection\r\n",
    "from alinea.alep.architecture import get_leaves\r\n"
   ],
   "outputs": [
    {
     "output_type": "error",
     "ename": "ModuleNotFoundError",
     "evalue": "No module named 'alinea.alep.dispersal_emission'",
     "traceback": [
      "\u001b[1;31m---------------------------------------------------------------------------\u001b[0m",
      "\u001b[1;31mModuleNotFoundError\u001b[0m                       Traceback (most recent call last)",
      "\u001b[1;32m<ipython-input-1-ce940da1a1bd>\u001b[0m in \u001b[0;36m<module>\u001b[1;34m\u001b[0m\n\u001b[0;32m      9\u001b[0m \u001b[1;33m\u001b[0m\u001b[0m\n\u001b[0;32m     10\u001b[0m \u001b[1;31m# Dispersal Models\u001b[0m\u001b[1;33m\u001b[0m\u001b[1;33m\u001b[0m\u001b[1;33m\u001b[0m\u001b[0m\n\u001b[1;32m---> 11\u001b[1;33m \u001b[1;32mfrom\u001b[0m \u001b[0malinea\u001b[0m\u001b[1;33m.\u001b[0m\u001b[0malep\u001b[0m\u001b[1;33m.\u001b[0m\u001b[0mdispersal_emission\u001b[0m \u001b[1;32mimport\u001b[0m \u001b[0mSimpleEmission\u001b[0m\u001b[1;33m\u001b[0m\u001b[1;33m\u001b[0m\u001b[0m\n\u001b[0m\u001b[0;32m     12\u001b[0m \u001b[1;32mfrom\u001b[0m \u001b[0malinea\u001b[0m\u001b[1;33m.\u001b[0m\u001b[0malep\u001b[0m\u001b[1;33m.\u001b[0m\u001b[0mdispersal_transport\u001b[0m \u001b[1;32mimport\u001b[0m \u001b[0mSeptoriaRainDispersal\u001b[0m\u001b[1;33m,\u001b[0m \u001b[0mPowderyMildewWindDispersal\u001b[0m\u001b[1;33m,\u001b[0m \u001b[0mBrownRustDispersal\u001b[0m\u001b[1;33m\u001b[0m\u001b[1;33m\u001b[0m\u001b[0m\n\u001b[0;32m     13\u001b[0m \u001b[1;33m\u001b[0m\u001b[0m\n",
      "\u001b[1;31mModuleNotFoundError\u001b[0m: No module named 'alinea.alep.dispersal_emission'"
     ]
    }
   ],
   "metadata": {}
  },
  {
   "cell_type": "code",
   "execution_count": null,
   "source": [
    "%gui qt"
   ],
   "outputs": [],
   "metadata": {}
  },
  {
   "cell_type": "markdown",
   "source": [
    "### Two generic functions"
   ],
   "metadata": {}
  },
  {
   "cell_type": "code",
   "execution_count": 3,
   "source": [
    "# utilities to place the source leaf\n",
    "def is_iterable(obj):\n",
    "    \"\"\" Test if object is iterable \"\"\"\n",
    "    return isinstance(obj, collections.Iterable)\n",
    "    \n",
    "def get_source_leaf_and_max_height(g, position='center', relative_height=2./3):\n",
    "    \"\"\" Returns the vertex identifier and its height (z ccord).\n",
    "    \n",
    "    :Algorithm:\n",
    "        Select all the leaves.\n",
    "        Compute the bounding box of each leaf and its center (centroid).\n",
    "        Compute the maximum height (z max) of all the centroids\n",
    "        Then, compute the distance (norm) ???\n",
    "    \"\"\"\n",
    "    tesselator = pgl.Tesselator()\n",
    "    bbc = pgl.BBoxComputer(tesselator)\n",
    "    leaves = get_leaves(g, label='LeafElement')\n",
    "    centroids = g.property('centroid')\n",
    "    geometries = g.property('geometry')\n",
    "    targets = list(leaf for leaf in leaves if leaf in geometries.iterkeys())\n",
    "    for vid in targets:\n",
    "        if is_iterable(geometries[vid]):\n",
    "            bbc.process(pgl.Scene(geometries[vid]))\n",
    "        else:\n",
    "            bbc.process(pgl.Scene([pgl.Shape(geometries[vid])]))\n",
    "        center = bbc.result.getCenter()\n",
    "        centroids[vid] = center\n",
    "    zmax = max(centroids.items(), key=lambda x:x[1][2])[1][2]\n",
    "    distances = {vid:pgl.norm(centroids[vid]-(0,0,relative_height*zmax)) for vid in centroids}\n",
    "    if position=='center':\n",
    "        return min(distances.items(), key=lambda x:x[1])[0], zmax\n",
    "    elif position=='border':\n",
    "        return max(distances.items(), key=lambda x:x[1])[0], zmax\n"
   ],
   "outputs": [],
   "metadata": {}
  },
  {
   "cell_type": "markdown",
   "source": [
    "## Create your own lesion"
   ],
   "metadata": {}
  },
  {
   "cell_type": "code",
   "execution_count": 4,
   "source": [
    "fungus_name = \"lesion_tutorial\"\n",
    "\n",
    "# Create our own emitting lesion for this example\n",
    "class LesionTutoDispersal(Lesion):\n",
    "    def __init__(self, mutable=False):\n",
    "        super(LesionTutoDispersal, self).__init__()\n",
    "        self.fungus_name = fungus_name\n",
    "\n",
    "    def emission(*args, **kwds):\n",
    "        return 10000\n"
   ],
   "outputs": [],
   "metadata": {}
  },
  {
   "cell_type": "markdown",
   "source": [
    "## Create a lesion instance used for the dispersal model"
   ],
   "metadata": {}
  },
  {
   "cell_type": "code",
   "execution_count": 5,
   "source": [
    "fungus = Fungus(Lesion=LesionTutoDispersal, parameters={\"name\":fungus_name})\n",
    "source_lesion = fungus.lesion()\n"
   ],
   "outputs": [],
   "metadata": {}
  },
  {
   "cell_type": "markdown",
   "source": [
    "## Create a wheat architectural model with geometry at a given development stage"
   ],
   "metadata": {}
  },
  {
   "cell_type": "code",
   "execution_count": 8,
   "source": [
    "# create wheat canopy \n",
    "adel= AdelWheat(nplants=100, nsect=7)\n",
    "g = adel.setup_canopy(1500)"
   ],
   "outputs": [],
   "metadata": {}
  },
  {
   "cell_type": "markdown",
   "source": [
    "# Plot the 3D plants"
   ],
   "metadata": {}
  },
  {
   "cell_type": "code",
   "execution_count": 9,
   "source": [
    "pgl.Viewer.display(adel.plot(g))"
   ],
   "outputs": [],
   "metadata": {}
  },
  {
   "cell_type": "markdown",
   "source": [
    "# Select some leaves to set the infectious status"
   ],
   "metadata": {}
  },
  {
   "cell_type": "code",
   "execution_count": 10,
   "source": [
    "leaf_ids = get_leaves(g, label='LeafElement')\n",
    "\n",
    "# Deterministic choice \n",
    "leaf_index = 1\n",
    "# Select randomly a leaf\n",
    "from random import randint\n",
    "leaf_index = randint(1, len(leaf_ids))-1\n",
    "\n",
    "source_leaf = leaf_ids[leaf_index]\n",
    "\n",
    "# Alternatively, pick a leaf based on its position in the canopy\n",
    "vid, hmax = get_source_leaf_and_max_height(g)\n",
    "source_leaf = g.node(vid)\n"
   ],
   "outputs": [],
   "metadata": {}
  },
  {
   "cell_type": "markdown",
   "source": [
    "# Inoculate the source leaf"
   ],
   "metadata": {}
  },
  {
   "cell_type": "code",
   "execution_count": 11,
   "source": [
    "# inoculate this leaf\n",
    "source_lesion.is_sporulating = True # Required for Popdrops usage\n",
    "source_leaf.lesions = [source_lesion]"
   ],
   "outputs": [],
   "metadata": {}
  },
  {
   "cell_type": "markdown",
   "source": [
    "# Setup the dispersal models"
   ],
   "metadata": {}
  },
  {
   "cell_type": "code",
   "execution_count": 12,
   "source": [
    "# Setup dispersal models + parameters for dispersion\n",
    "emitter = SimpleEmission()\n",
    "#rain 3d (slow)\n",
    "transporter = SeptoriaRainDispersal()\n",
    "# wind 3d (callonec model)\n",
    "#transporter = PowderyMildewWindDispersal(label='LeafElement')\n",
    "# wind 1D\n",
    "#transporter = BrownRustDispersal(domain_area=adel.domain_area)\n",
    "# missing : rian 1D (septo 3d dispersal model)\n"
   ],
   "outputs": [],
   "metadata": {}
  },
  {
   "cell_type": "markdown",
   "source": [
    "# Simulate using the generic algorithm"
   ],
   "metadata": {}
  },
  {
   "cell_type": "code",
   "execution_count": 13,
   "source": [
    "# Simulate one dispersal event\n",
    "g = disperse(g, emission_model=emitter, transport_model=transporter, fungus_name=fungus_name)\n",
    "\n"
   ],
   "outputs": [],
   "metadata": {}
  },
  {
   "cell_type": "markdown",
   "source": [
    "# Plot the results"
   ],
   "metadata": {}
  },
  {
   "cell_type": "code",
   "execution_count": 14,
   "source": [
    "# Visualize (currently only works for septoria)\n",
    "# rain/ wind\n",
    "transporter.plot_distri_3d(g)\n",
    "# wind 1D\n",
    "#transporter.plot_layers(g)\n"
   ],
   "outputs": [],
   "metadata": {}
  },
  {
   "cell_type": "code",
   "execution_count": null,
   "source": [],
   "outputs": [],
   "metadata": {}
  }
 ],
 "metadata": {
  "kernelspec": {
   "name": "python3",
   "display_name": "Python 3.8.10 64-bit ('openalea3': conda)"
  },
  "language_info": {
   "codemirror_mode": {
    "name": "ipython",
    "version": 3
   },
   "file_extension": ".py",
   "mimetype": "text/x-python",
   "name": "python",
   "nbconvert_exporter": "python",
   "pygments_lexer": "ipython3",
   "version": "3.8.10"
  },
  "interpreter": {
   "hash": "15760ed624cc1cdbeee8899cf2ab79828e6c6fae370f4f721d521e8137f9eafe"
  }
 },
 "nbformat": 4,
 "nbformat_minor": 1
}