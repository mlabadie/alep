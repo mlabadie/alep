{
 "cells": [
  {
   "cell_type": "markdown",
   "source": [
    "# Create a Simple Fungus"
   ],
   "metadata": {}
  },
  {
   "cell_type": "markdown",
   "source": [
    "A Fungus is defined by a Lesion and a Dispersal Unit (Garin et al 2014):\r\n",
    "\r\n",
    "* Lesion: display as symptoms on leaves and sporulate to produce new dispersal units\r\n",
    "* Dispersal Units: the dispersal units, which are dispersed at the canopy level and infect the leaves. One dispersal unit represents\r\n",
    "either one spore\r\n",
    "\r\n",
    "In this example we create a simple fungus with default values\r\n"
   ],
   "metadata": {}
  },
  {
   "cell_type": "code",
   "execution_count": 1,
   "source": [
    "from alinea.alep.fungus import Fungus, Lesion, DispersalUnit\r\n"
   ],
   "outputs": [],
   "metadata": {}
  },
  {
   "cell_type": "code",
   "execution_count": 2,
   "source": [
    "fungus= Fungus(Lesion=Lesion, DispersalUnit=DispersalUnit,parameters={\"name\":\"simplefungus\"})\r\n",
    "fungus"
   ],
   "outputs": [
    {
     "output_type": "execute_result",
     "data": {
      "text/plain": [
       "<alinea.alep.fungus.Fungus at 0x1dd299b79a0>"
      ]
     },
     "metadata": {},
     "execution_count": 2
    }
   ],
   "metadata": {}
  },
  {
   "cell_type": "markdown",
   "source": [
    "Once fungus is create you can create a lesion and emmit a dispersal unit according to the number of dispersal unit\r\n",
    "\r\n",
    "In this example we create a lesion from a fungus with and we emitted 3 dispersal units"
   ],
   "metadata": {}
  },
  {
   "cell_type": "code",
   "execution_count": 6,
   "source": [
    "lesions=fungus.lesion()\r\n",
    "lesions.emission(nb_DU=3)"
   ],
   "outputs": [
    {
     "output_type": "execute_result",
     "data": {
      "text/plain": [
       "<alinea.alep.fungus.DispersalUnit at 0x1dd299b7820>"
      ]
     },
     "metadata": {},
     "execution_count": 6
    }
   ],
   "metadata": {}
  },
  {
   "cell_type": "markdown",
   "source": [
    "# Example maladie septoria\r\n"
   ],
   "metadata": {}
  },
  {
   "cell_type": "code",
   "execution_count": 7,
   "source": [
    "from alinea.alep.models.fungus.septoria import SeptoriaDU,SeptoriaLesion, septoria_parameters"
   ],
   "outputs": [],
   "metadata": {}
  },
  {
   "cell_type": "code",
   "execution_count": 8,
   "source": [
    "septoria=Fungus(Lesion=SeptoriaLesion, DispersalUnit=SeptoriaDU, parameters=septoria_parameters)"
   ],
   "outputs": [],
   "metadata": {}
  },
  {
   "cell_type": "code",
   "execution_count": 9,
   "source": [
    "lesions=septoria.lesion()\r\n",
    "lesions"
   ],
   "outputs": [
    {
     "output_type": "execute_result",
     "data": {
      "text/plain": [
       "<alinea.alep.models.fungus.septoria.SeptoriaLesion at 0x1dd299b7fa0>"
      ]
     },
     "metadata": {},
     "execution_count": 9
    }
   ],
   "metadata": {}
  },
  {
   "cell_type": "markdown",
   "source": [
    "# Test"
   ],
   "metadata": {}
  },
  {
   "cell_type": "code",
   "execution_count": 45,
   "source": [
    "from alinea.adel.astk_interface import AdelWheat\r\n",
    "\r\n",
    "from alinea.alep.architecture import get_leaves\r\n",
    "from alinea.alep.dispersal import Emission\r\n",
    "from alinea.alep.models.dispersal.emission import RainEmission\r\n",
    "from alinea.alep.protocol import disperse"
   ],
   "outputs": [],
   "metadata": {}
  },
  {
   "cell_type": "code",
   "execution_count": 50,
   "source": [
    "adel=AdelWheat(nplants=1)\r\n",
    "g = adel.setup_canopy(age=1500)\r\n",
    "\r\n"
   ],
   "outputs": [],
   "metadata": {}
  },
  {
   "cell_type": "code",
   "execution_count": 51,
   "source": [
    "leaves= get_leaves(g)"
   ],
   "outputs": [],
   "metadata": {}
  },
  {
   "cell_type": "code",
   "execution_count": 52,
   "source": [
    "lesion = fungus.lesion()"
   ],
   "outputs": [],
   "metadata": {}
  },
  {
   "cell_type": "code",
   "execution_count": 53,
   "source": [
    "source_leaf= g.node(leaves[0])"
   ],
   "outputs": [],
   "metadata": {}
  },
  {
   "cell_type": "code",
   "execution_count": 54,
   "source": [
    "source_leaf.lesion= [lesion]"
   ],
   "outputs": [],
   "metadata": {}
  },
  {
   "cell_type": "code",
   "execution_count": 55,
   "source": [
    "source_leaf.lesion"
   ],
   "outputs": [
    {
     "output_type": "execute_result",
     "data": {
      "text/plain": [
       "[<alinea.alep.fungus.Lesion at 0x1dd3264d970>]"
      ]
     },
     "metadata": {},
     "execution_count": 55
    }
   ],
   "metadata": {}
  },
  {
   "cell_type": "code",
   "execution_count": 56,
   "source": [
    "emitter = Emission()\r\n",
    "transporter = RainEmission()"
   ],
   "outputs": [],
   "metadata": {}
  },
  {
   "cell_type": "code",
   "execution_count": 60,
   "source": [
    "fungus.name"
   ],
   "outputs": [
    {
     "output_type": "execute_result",
     "data": {
      "text/plain": [
       "'simplefungus'"
      ]
     },
     "metadata": {},
     "execution_count": 60
    }
   ],
   "metadata": {}
  },
  {
   "cell_type": "code",
   "execution_count": 61,
   "source": [
    "g = disperse(g, emission_model=emitter, transport_model=transporter,fungus_name=fungus.name)"
   ],
   "outputs": [
    {
     "output_type": "error",
     "ename": "NameError",
     "evalue": "name 'g' is not defined",
     "traceback": [
      "\u001b[1;31m---------------------------------------------------------------------------\u001b[0m",
      "\u001b[1;31mNameError\u001b[0m                                 Traceback (most recent call last)",
      "\u001b[1;32m<ipython-input-61-089faab3746e>\u001b[0m in \u001b[0;36m<module>\u001b[1;34m\u001b[0m\n\u001b[1;32m----> 1\u001b[1;33m \u001b[0mg\u001b[0m \u001b[1;33m=\u001b[0m \u001b[0mdisperse\u001b[0m\u001b[1;33m(\u001b[0m\u001b[0mg\u001b[0m\u001b[1;33m,\u001b[0m \u001b[0memission_model\u001b[0m\u001b[1;33m=\u001b[0m\u001b[0memitter\u001b[0m\u001b[1;33m,\u001b[0m \u001b[0mtransport_model\u001b[0m\u001b[1;33m=\u001b[0m\u001b[0mtransporter\u001b[0m\u001b[1;33m,\u001b[0m\u001b[0mfungus_name\u001b[0m\u001b[1;33m=\u001b[0m\u001b[0mfungus\u001b[0m\u001b[1;33m.\u001b[0m\u001b[0mname\u001b[0m\u001b[1;33m)\u001b[0m\u001b[1;33m\u001b[0m\u001b[1;33m\u001b[0m\u001b[0m\n\u001b[0m",
      "\u001b[1;32m~\\Documents\\GitHub\\openalea-incubator\\alep\\src\\alinea\\alep\\protocol.py\u001b[0m in \u001b[0;36mdisperse\u001b[1;34m(g, emission_model, transport_model, fungus_name, weather_data, label, **kwds)\u001b[0m\n\u001b[0;32m    163\u001b[0m     \u001b[1;31m# Emission of dispersal units\u001b[0m\u001b[1;33m\u001b[0m\u001b[1;33m\u001b[0m\u001b[1;33m\u001b[0m\u001b[0m\n\u001b[0;32m    164\u001b[0m     \u001b[1;32mif\u001b[0m \u001b[0mweather_data\u001b[0m \u001b[1;32mis\u001b[0m \u001b[1;32mNone\u001b[0m\u001b[1;33m:\u001b[0m\u001b[1;33m\u001b[0m\u001b[1;33m\u001b[0m\u001b[0m\n\u001b[1;32m--> 165\u001b[1;33m         \u001b[0mDU\u001b[0m \u001b[1;33m=\u001b[0m \u001b[0memission_model\u001b[0m\u001b[1;33m.\u001b[0m\u001b[0mget_dispersal_units\u001b[0m\u001b[1;33m(\u001b[0m\u001b[0mg\u001b[0m\u001b[1;33m,\u001b[0m \u001b[0mfungus_name\u001b[0m\u001b[1;33m=\u001b[0m\u001b[0mfungus_name\u001b[0m\u001b[1;33m,\u001b[0m \u001b[0mlabel\u001b[0m\u001b[1;33m=\u001b[0m\u001b[0mlabel\u001b[0m\u001b[1;33m,\u001b[0m \u001b[1;33m**\u001b[0m\u001b[0mkwds\u001b[0m\u001b[1;33m)\u001b[0m\u001b[1;33m\u001b[0m\u001b[1;33m\u001b[0m\u001b[0m\n\u001b[0m\u001b[0;32m    166\u001b[0m     \u001b[1;32melse\u001b[0m\u001b[1;33m:\u001b[0m\u001b[1;33m\u001b[0m\u001b[1;33m\u001b[0m\u001b[0m\n\u001b[0;32m    167\u001b[0m         \u001b[0mDU\u001b[0m \u001b[1;33m=\u001b[0m \u001b[0memission_model\u001b[0m\u001b[1;33m.\u001b[0m\u001b[0mget_dispersal_units\u001b[0m\u001b[1;33m(\u001b[0m\u001b[0mg\u001b[0m\u001b[1;33m,\u001b[0m \u001b[0mfungus_name\u001b[0m\u001b[1;33m=\u001b[0m\u001b[0mfungus_name\u001b[0m\u001b[1;33m,\u001b[0m \u001b[0mlabel\u001b[0m\u001b[1;33m=\u001b[0m\u001b[0mlabel\u001b[0m\u001b[1;33m,\u001b[0m \u001b[0mweather_data\u001b[0m\u001b[1;33m=\u001b[0m\u001b[0mweather_data\u001b[0m\u001b[1;33m,\u001b[0m \u001b[1;33m**\u001b[0m\u001b[0mkwds\u001b[0m\u001b[1;33m)\u001b[0m\u001b[1;33m\u001b[0m\u001b[1;33m\u001b[0m\u001b[0m\n",
      "\u001b[1;32m~\\Documents\\GitHub\\openalea-incubator\\alep\\src\\alinea\\alep\\dispersal.py\u001b[0m in \u001b[0;36mget_dispersal_units\u001b[1;34m(self, lesions, fungus_name, du_per_lesion, **kwds)\u001b[0m\n\u001b[0;32m     65\u001b[0m         \"\"\"\n\u001b[0;32m     66\u001b[0m \u001b[1;33m\u001b[0m\u001b[0m\n\u001b[1;32m---> 67\u001b[1;33m         \u001b[0msporulating_lesions\u001b[0m \u001b[1;33m=\u001b[0m \u001b[0mget_sporulating_lesions\u001b[0m\u001b[1;33m(\u001b[0m\u001b[0mlesions\u001b[0m\u001b[1;33m,\u001b[0m \u001b[0mfungus_name\u001b[0m\u001b[1;33m)\u001b[0m\u001b[1;33m\u001b[0m\u001b[1;33m\u001b[0m\u001b[0m\n\u001b[0m\u001b[0;32m     68\u001b[0m         \u001b[1;31m# eventualy compute here actual number of du_per_lesion\u001b[0m\u001b[1;33m\u001b[0m\u001b[1;33m\u001b[0m\u001b[1;33m\u001b[0m\u001b[0m\n\u001b[0;32m     69\u001b[0m         \u001b[0mDU\u001b[0m \u001b[1;33m=\u001b[0m \u001b[0mcreate_dus\u001b[0m\u001b[1;33m(\u001b[0m\u001b[0msporulating_lesions\u001b[0m\u001b[1;33m,\u001b[0m \u001b[0mdu_per_lesion\u001b[0m\u001b[1;33m,\u001b[0m \u001b[1;33m**\u001b[0m\u001b[0mkwds\u001b[0m\u001b[1;33m)\u001b[0m\u001b[1;33m\u001b[0m\u001b[1;33m\u001b[0m\u001b[0m\n",
      "\u001b[1;32m~\\Documents\\GitHub\\openalea-incubator\\alep\\src\\alinea\\alep\\dispersal.py\u001b[0m in \u001b[0;36mget_sporulating_lesions\u001b[1;34m(lesions, fungus_name)\u001b[0m\n\u001b[0;32m     10\u001b[0m     \u001b[1;32melse\u001b[0m\u001b[1;33m:\u001b[0m\u001b[1;33m\u001b[0m\u001b[1;33m\u001b[0m\u001b[0m\n\u001b[0;32m     11\u001b[0m         les = {k:[l for l in v if l.fungus.name is fungus_name and l.is_sporulating] \n\u001b[1;32m---> 12\u001b[1;33m                 for k, v in g.property('lesions').items()}\n\u001b[0m\u001b[0;32m     13\u001b[0m     \u001b[1;32mreturn\u001b[0m \u001b[0mles\u001b[0m\u001b[1;33m\u001b[0m\u001b[1;33m\u001b[0m\u001b[0m\n\u001b[0;32m     14\u001b[0m \u001b[1;33m\u001b[0m\u001b[0m\n",
      "\u001b[1;31mNameError\u001b[0m: name 'g' is not defined"
     ]
    }
   ],
   "metadata": {}
  }
 ],
 "metadata": {
  "orig_nbformat": 4,
  "language_info": {
   "name": "python",
   "version": "3.8.10",
   "mimetype": "text/x-python",
   "codemirror_mode": {
    "name": "ipython",
    "version": 3
   },
   "pygments_lexer": "ipython3",
   "nbconvert_exporter": "python",
   "file_extension": ".py"
  },
  "kernelspec": {
   "name": "python3",
   "display_name": "Python 3.8.10 64-bit ('openalea3': conda)"
  },
  "interpreter": {
   "hash": "15760ed624cc1cdbeee8899cf2ab79828e6c6fae370f4f721d521e8137f9eafe"
  }
 },
 "nbformat": 4,
 "nbformat_minor": 2
}