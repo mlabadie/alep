{
 "cells": [
  {
   "cell_type": "markdown",
   "source": [
    "# Create a Simple Fungus"
   ],
   "metadata": {}
  },
  {
   "cell_type": "markdown",
   "source": [
    "A Fungus is defined by a Lesion and a Dispersal Unit (Garin et al 2014):\r\n",
    "\r\n",
    "* Lesion: display as symptoms on leaves and sporulate to produce new dispersal units\r\n",
    "* Dispersal Units: the dispersal units, which are dispersed at the canopy level and infect the leaves. One dispersal unit represents\r\n",
    "either one spore\r\n",
    "\r\n",
    "In this example we create a simple fungus with default values\r\n"
   ],
   "metadata": {}
  },
  {
   "cell_type": "code",
   "execution_count": null,
   "source": [
    "from alinea.alep.fungus import Fungus, Lesion, DispersalUnit\r\n"
   ],
   "outputs": [],
   "metadata": {}
  },
  {
   "cell_type": "code",
   "execution_count": null,
   "source": [
    "fungus= Fungus(Lesion=Lesion, DispersalUnit=DispersalUnit,parameters={\"name\":\"simplefungus\"})\r\n",
    "fungus"
   ],
   "outputs": [],
   "metadata": {}
  },
  {
   "cell_type": "markdown",
   "source": [
    "Once fungus is create you can create a lesion and emmit a dispersal unit according to the number of dispersal unit\r\n",
    "\r\n",
    "In this example we create a lesion from a fungus with and we emitted 3 dispersal units"
   ],
   "metadata": {}
  },
  {
   "cell_type": "code",
   "execution_count": null,
   "source": [
    "lesions=fungus.lesion()\r\n",
    "lesions.emission(nb_DU=3)"
   ],
   "outputs": [],
   "metadata": {}
  },
  {
   "cell_type": "markdown",
   "source": [
    "# Create a lesion on one leaf"
   ],
   "metadata": {}
  },
  {
   "cell_type": "code",
   "execution_count": 1,
   "source": [
    "from alinea.alep.fungus import Fungus, Lesion, DispersalUnit"
   ],
   "outputs": [],
   "metadata": {}
  },
  {
   "cell_type": "markdown",
   "source": [
    "## 1. create a fungus"
   ],
   "metadata": {}
  },
  {
   "cell_type": "code",
   "execution_count": 2,
   "source": [
    "fungus = Fungus(Lesion=Lesion, DispersalUnit=DispersalUnit, length_unit=0.01, parameters={\"name\":\"myfungus\"})"
   ],
   "outputs": [],
   "metadata": {}
  },
  {
   "cell_type": "markdown",
   "source": [
    "## 2. Create a lesion"
   ],
   "metadata": {}
  },
  {
   "cell_type": "code",
   "execution_count": 3,
   "source": [
    "lesion = fungus.lesion()"
   ],
   "outputs": [],
   "metadata": {}
  },
  {
   "cell_type": "markdown",
   "source": [
    "## 3. Choose and add lesion on source_leaf"
   ],
   "metadata": {}
  },
  {
   "cell_type": "markdown",
   "source": [
    "To create a lesion on specific leaf, you need to choose which leaf care the lesion. In this example we choose to show two example, from a leaf, and from MTG. For this latter, we use AdelWheat"
   ],
   "metadata": {}
  },
  {
   "cell_type": "markdown",
   "source": [
    "### 3.1 Add lesion on one leaf"
   ],
   "metadata": {}
  },
  {
   "cell_type": "code",
   "execution_count": 4,
   "source": [
    "source_leaf={'vid':2, 'label':'LeafElement'} # creation of source leaf\r\n",
    "source_leaf['lesion']=[lesion] # add lesion to the leaf\r\n",
    "source_leaf"
   ],
   "outputs": [
    {
     "output_type": "execute_result",
     "data": {
      "text/plain": [
       "{'vid': 2,\n",
       " 'label': 'LeafElement',\n",
       " 'lesion': [<alinea.alep.fungus.Lesion at 0x17c64842850>]}"
      ]
     },
     "metadata": {},
     "execution_count": 4
    }
   ],
   "metadata": {}
  },
  {
   "cell_type": "markdown",
   "source": [
    "### 3.2 Add lesion on one leaf issue from MTG"
   ],
   "metadata": {}
  },
  {
   "cell_type": "markdown",
   "source": [
    "* Load MTG adelWheat"
   ],
   "metadata": {}
  },
  {
   "cell_type": "code",
   "execution_count": 5,
   "source": [
    "from alinea.adel.astk_interface import AdelWheat\r\n",
    "from alinea.alep.architecture import get_leaves\r\n",
    "# load mtg using adel\r\n",
    "adel = AdelWheat()\r\n",
    "g= adel.setup_canopy(age=1500)"
   ],
   "outputs": [],
   "metadata": {}
  },
  {
   "cell_type": "markdown",
   "source": [
    "* choose and select on leaf of source"
   ],
   "metadata": {}
  },
  {
   "cell_type": "code",
   "execution_count": 7,
   "source": [
    "# select one leaf on mtg\r\n",
    "leaves = get_leaves(g) # get index of leaves on MTG\r\n",
    "source_leaf = g.node(leaves[0]) # select the first leave of MTG\r\n",
    "g[leaves[0]]"
   ],
   "outputs": [
    {
     "output_type": "execute_result",
     "data": {
      "text/plain": [
       "{'edge_type': '<',\n",
       " 'label': 'LeafElement1',\n",
       " 'length': 17.50811005831413,\n",
       " 'senesced_length': 12.08164034505453,\n",
       " 'area': 17.2762084387215,\n",
       " 'is_green': False,\n",
       " 'green_length': 5.4264697132596,\n",
       " 'green_area': 6.325714072919144,\n",
       " 'senesced_area': 10.950494365802356,\n",
       " 'srb': 0.0,\n",
       " 'srt': 1.0,\n",
       " 'lrolled': 0,\n",
       " 'd_rolled': 0,\n",
       " 'width': 1.156799800753933,\n",
       " 'geometry': <openalea.plantgl.scenegraph._pglsg.TriangleSet at 0x17c6e8e31c0>,\n",
       " 'anchor_point': Vector3(-0.543363,0.58727,16.7179),\n",
       " 'vid': 84,\n",
       " 'index': '1',\n",
       " 'complex': 82,\n",
       " 'parent': 83,\n",
       " 'scale': 5}"
      ]
     },
     "metadata": {},
     "execution_count": 7
    }
   ],
   "metadata": {}
  },
  {
   "cell_type": "markdown",
   "source": [
    "* add lesion in source_leaves"
   ],
   "metadata": {}
  },
  {
   "cell_type": "code",
   "execution_count": 8,
   "source": [
    "source_leaf.lesion = [lesion]\r\n",
    "source_leaf.lesion\r\n",
    "source_leaf\r\n",
    "g[leaves[0]]"
   ],
   "outputs": [
    {
     "output_type": "execute_result",
     "data": {
      "text/plain": [
       "{'edge_type': '<',\n",
       " 'label': 'LeafElement1',\n",
       " 'length': 17.50811005831413,\n",
       " 'senesced_length': 12.08164034505453,\n",
       " 'area': 17.2762084387215,\n",
       " 'is_green': False,\n",
       " 'green_length': 5.4264697132596,\n",
       " 'green_area': 6.325714072919144,\n",
       " 'senesced_area': 10.950494365802356,\n",
       " 'srb': 0.0,\n",
       " 'srt': 1.0,\n",
       " 'lrolled': 0,\n",
       " 'd_rolled': 0,\n",
       " 'width': 1.156799800753933,\n",
       " 'geometry': <openalea.plantgl.scenegraph._pglsg.TriangleSet at 0x17c6e8e31c0>,\n",
       " 'anchor_point': Vector3(-0.543363,0.58727,16.7179),\n",
       " 'lesion': [<alinea.alep.fungus.Lesion at 0x17c64842850>],\n",
       " 'vid': 84,\n",
       " 'index': '1',\n",
       " 'complex': 82,\n",
       " 'parent': 83,\n",
       " 'scale': 5}"
      ]
     },
     "metadata": {},
     "execution_count": 8
    }
   ],
   "metadata": {}
  },
  {
   "cell_type": "markdown",
   "source": [
    "# Example maladie septoria\r\n"
   ],
   "metadata": {}
  },
  {
   "cell_type": "code",
   "execution_count": 9,
   "source": [
    "from alinea.alep.models.fungus.septoria import SeptoriaDU,SeptoriaLesion, septoria_parameters"
   ],
   "outputs": [],
   "metadata": {}
  },
  {
   "cell_type": "code",
   "execution_count": 10,
   "source": [
    "septoria=Fungus(Lesion=SeptoriaLesion, DispersalUnit=SeptoriaDU, parameters=septoria_parameters)"
   ],
   "outputs": [],
   "metadata": {}
  },
  {
   "cell_type": "code",
   "execution_count": 12,
   "source": [
    "lesions=septoria.lesion()"
   ],
   "outputs": [],
   "metadata": {}
  },
  {
   "cell_type": "code",
   "execution_count": null,
   "source": [],
   "outputs": [],
   "metadata": {}
  }
 ],
 "metadata": {
  "orig_nbformat": 4,
  "language_info": {
   "name": "python",
   "version": "3.8.10",
   "mimetype": "text/x-python",
   "codemirror_mode": {
    "name": "ipython",
    "version": 3
   },
   "pygments_lexer": "ipython3",
   "nbconvert_exporter": "python",
   "file_extension": ".py"
  },
  "kernelspec": {
   "name": "python3",
   "display_name": "Python 3.8.10 64-bit ('openalea3': conda)"
  },
  "interpreter": {
   "hash": "15760ed624cc1cdbeee8899cf2ab79828e6c6fae370f4f721d521e8137f9eafe"
  }
 },
 "nbformat": 4,
 "nbformat_minor": 2
}