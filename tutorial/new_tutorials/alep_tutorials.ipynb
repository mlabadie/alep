{
 "cells": [
  {
   "cell_type": "markdown",
   "source": [
    "# Create a Simple Fungus"
   ],
   "metadata": {}
  },
  {
   "cell_type": "markdown",
   "source": [
    "A Fungus is defined by a Lesion and a Dispersal Unit (Garin et al 2014):\r\n",
    "\r\n",
    "* Lesion: display as symptoms on leaves and sporulate to produce new dispersal units\r\n",
    "* Dispersal Units: the dispersal units, which are dispersed at the canopy level and infect the leaves. One dispersal unit represents\r\n",
    "either one spore\r\n",
    "\r\n",
    "In this example we create a simple fungus with default values\r\n"
   ],
   "metadata": {}
  },
  {
   "cell_type": "code",
   "execution_count": 29,
   "source": [
    "from alinea.alep.fungus import Fungus, Lesion, DispersalUnit\r\n"
   ],
   "outputs": [],
   "metadata": {}
  },
  {
   "cell_type": "code",
   "execution_count": 30,
   "source": [
    "fungus= Fungus(Lesion=Lesion, DispersalUnit=DispersalUnit,parameters={\"name\":\"simplefungus\"})\r\n",
    "fungus"
   ],
   "outputs": [
    {
     "output_type": "execute_result",
     "data": {
      "text/plain": [
       "<alinea.alep.fungus.Fungus at 0x1fdf2d6a4f0>"
      ]
     },
     "metadata": {},
     "execution_count": 30
    }
   ],
   "metadata": {}
  },
  {
   "cell_type": "markdown",
   "source": [
    "Once fungus is create you can create a lesion and emmit a dispersal unit according to the number of dispersal unit\r\n",
    "\r\n",
    "In this example we create a lesion from a fungus with and we emitted 3 dispersal units"
   ],
   "metadata": {}
  },
  {
   "cell_type": "code",
   "execution_count": 32,
   "source": [
    "lesion=fungus.lesion()\r\n",
    "lesion.emission(nb_du=3)"
   ],
   "outputs": [
    {
     "output_type": "execute_result",
     "data": {
      "text/plain": [
       "<alinea.alep.fungus.DispersalUnit at 0x1fdf2d6a790>"
      ]
     },
     "metadata": {},
     "execution_count": 32
    }
   ],
   "metadata": {}
  },
  {
   "cell_type": "markdown",
   "source": [
    "# Example maladie septoria\r\n"
   ],
   "metadata": {}
  },
  {
   "cell_type": "code",
   "execution_count": 17,
   "source": [
    "from alinea.alep.models.fungus.septoria import SeptoriaDU,SeptoriaLesion, septoria_parameters"
   ],
   "outputs": [],
   "metadata": {}
  },
  {
   "cell_type": "code",
   "execution_count": 37,
   "source": [
    "septoria=Fungus(Lesion=SeptoriaLesion, DispersalUnit=SeptoriaDU, parameters=septoria_parameters)"
   ],
   "outputs": [],
   "metadata": {}
  },
  {
   "cell_type": "code",
   "execution_count": 38,
   "source": [
    "lesions=septoria.lesion()\r\n",
    "lesions"
   ],
   "outputs": [],
   "metadata": {}
  },
  {
   "cell_type": "code",
   "execution_count": 40,
   "source": [],
   "outputs": [
    {
     "output_type": "execute_result",
     "data": {
      "text/plain": [
       "<alinea.alep.models.fungus.septoria.SeptoriaLesion at 0x1fdf07b51f0>"
      ]
     },
     "metadata": {},
     "execution_count": 40
    }
   ],
   "metadata": {}
  },
  {
   "cell_type": "code",
   "execution_count": null,
   "source": [],
   "outputs": [],
   "metadata": {}
  }
 ],
 "metadata": {
  "orig_nbformat": 4,
  "language_info": {
   "name": "python",
   "version": "3.8.10",
   "mimetype": "text/x-python",
   "codemirror_mode": {
    "name": "ipython",
    "version": 3
   },
   "pygments_lexer": "ipython3",
   "nbconvert_exporter": "python",
   "file_extension": ".py"
  },
  "kernelspec": {
   "name": "python3",
   "display_name": "Python 3.8.10 64-bit ('openalea3': conda)"
  },
  "interpreter": {
   "hash": "15760ed624cc1cdbeee8899cf2ab79828e6c6fae370f4f721d521e8137f9eafe"
  }
 },
 "nbformat": 4,
 "nbformat_minor": 2
}