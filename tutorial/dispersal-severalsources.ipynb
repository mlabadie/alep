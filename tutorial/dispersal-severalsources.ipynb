{
 "cells": [
  {
   "cell_type": "markdown",
   "source": [
    "# Alep Tutorial\r\n",
    "\r\n",
    "## Dispersal\r\n",
    "\r\n",
    "Rational"
   ],
   "metadata": {}
  },
  {
   "cell_type": "code",
   "execution_count": 1,
   "source": [
    "# Python import\r\n",
    "import collections\r\n",
    "import numpy as np\r\n",
    "\r\n",
    "# Wheat simulation\r\n",
    "from alinea.adel.astk_interface import AdelWheat\r\n",
    "\r\n",
    "# Lesion \r\n",
    "from alinea.alep.fungus import Lesion, Fungus\r\n",
    "\r\n",
    "# Dispersal Models\r\n",
    "from alinea.alep.dispersal_emission import SimpleEmission\r\n",
    "from alinea.alep.dispersal_transport import SeptoriaRainDispersal, PowderyMildewWindDispersal, BrownRustDispersal\r\n",
    "\r\n",
    "# Generic algorithm to disperse DispersalUnit on MTG\r\n",
    "from alinea.alep.protocol import disperse\r\n",
    "\r\n",
    "# Ploting functions\r\n",
    "from alinea.alep.disease_outputs import plot3d_transparency\r\n",
    "\r\n",
    "# PlantGL geometric library\r\n",
    "import openalea.plantgl.all as pgl\r\n",
    "\r\n",
    "# MTG selection\r\n",
    "from alinea.alep.architecture import get_leaves\r\n"
   ],
   "outputs": [],
   "metadata": {}
  },
  {
   "cell_type": "code",
   "execution_count": 2,
   "source": [
    "%gui qt"
   ],
   "outputs": [
    {
     "output_type": "stream",
     "name": "stderr",
     "text": [
      "ERROR: Cannot activate multiple GUI eventloops\n"
     ]
    }
   ],
   "metadata": {}
  },
  {
   "cell_type": "markdown",
   "source": [
    "### Two generic functions"
   ],
   "metadata": {}
  },
  {
   "cell_type": "code",
   "execution_count": 3,
   "source": [
    "# utilities to place the source leaf\r\n",
    "def is_iterable(obj):\r\n",
    "    \"\"\" Test if object is iterable \"\"\"\r\n",
    "    return isinstance(obj, collections.Iterable)\r\n",
    "    \r\n",
    "def get_source_leaf_and_max_height(g, position='center', relative_height=2./3):\r\n",
    "    \"\"\" Returns the vertex identifier and its height (z ccord).\r\n",
    "    \r\n",
    "    :Algorithm:\r\n",
    "        Select all the leaves.\r\n",
    "        Compute the bounding box of each leaf and its center (centroid).\r\n",
    "        Compute the maximum height (z max) of all the centroids\r\n",
    "        Then, compute the distance (norm) ???\r\n",
    "    \"\"\"\r\n",
    "    tesselator = pgl.Tesselator()\r\n",
    "    bbc = pgl.BBoxComputer(tesselator)\r\n",
    "    leaves = get_leaves(g, label='LeafElement')\r\n",
    "    centroids = g.property('centroid')\r\n",
    "    geometries = g.property('geometry')\r\n",
    "    targets = list(leaf for leaf in leaves if leaf in geometries.iterkeys())\r\n",
    "    for vid in targets:\r\n",
    "        if is_iterable(geometries[vid]):\r\n",
    "            bbc.process(pgl.Scene(geometries[vid]))\r\n",
    "        else:\r\n",
    "            bbc.process(pgl.Scene([pgl.Shape(geometries[vid])]))\r\n",
    "        center = bbc.result.getCenter()\r\n",
    "        centroids[vid] = center\r\n",
    "    zmax = max(centroids.items(), key=lambda x:x[1][2])[1][2]\r\n",
    "    distances = {vid:pgl.norm(centroids[vid]-(0,0,relative_height*zmax)) for vid in centroids}\r\n",
    "    if position=='center':\r\n",
    "        return min(distances.items(), key=lambda x:x[1])[0], zmax\r\n",
    "    elif position=='border':\r\n",
    "        return max(distances.items(), key=lambda x:x[1])[0], zmax\r\n"
   ],
   "outputs": [],
   "metadata": {}
  },
  {
   "cell_type": "markdown",
   "source": [
    "## Create your own lesion"
   ],
   "metadata": {}
  },
  {
   "cell_type": "code",
   "execution_count": 4,
   "source": [
    "fungus_name = \"lesion_tutorial\"\n",
    "\n",
    "# Create our own emitting lesion for this example\n",
    "class LesionTutoDispersal(Lesion):\n",
    "    def __init__(self, mutable=False):\n",
    "        super(LesionTutoDispersal, self).__init__()\n",
    "        self.fungus_name = fungus_name\n",
    "\n",
    "    def emission(*args, **kwds):\n",
    "        return 10000\n"
   ],
   "outputs": [],
   "metadata": {}
  },
  {
   "cell_type": "markdown",
   "source": [
    "## Create a lesion instance used for the dispersal model"
   ],
   "metadata": {}
  },
  {
   "cell_type": "code",
   "execution_count": 5,
   "source": [
    "fungus = Fungus(Lesion=LesionTutoDispersal, parameters={\"name\":fungus_name})\n",
    "#source_lesion = fungus.lesion()\n"
   ],
   "outputs": [],
   "metadata": {}
  },
  {
   "cell_type": "markdown",
   "source": [
    "## Create a wheat architectural model with geometry at a given development stage"
   ],
   "metadata": {}
  },
  {
   "cell_type": "code",
   "execution_count": 32,
   "source": [
    "# create wheat canopy \n",
    "adel= AdelWheat(nplants=100, nsect=7)\n",
    "g = adel.setup_canopy(1500)"
   ],
   "outputs": [],
   "metadata": {}
  },
  {
   "cell_type": "code",
   "execution_count": 33,
   "source": [
    "#g = adel.grow_dd??"
   ],
   "outputs": [],
   "metadata": {}
  },
  {
   "cell_type": "code",
   "execution_count": null,
   "source": [
    "g = adel.grow_dd"
   ],
   "outputs": [],
   "metadata": {}
  },
  {
   "cell_type": "markdown",
   "source": [
    "# Plot the 3D plants"
   ],
   "metadata": {}
  },
  {
   "cell_type": "code",
   "execution_count": 7,
   "source": [
    "pgl.Viewer.display(adel.plot(g))"
   ],
   "outputs": [],
   "metadata": {}
  },
  {
   "cell_type": "markdown",
   "source": [
    "# Select some leaves to set the infectious status"
   ],
   "metadata": {}
  },
  {
   "cell_type": "code",
   "execution_count": 8,
   "source": [
    "leaf_ids = get_leaves(g, label='LeafElement')\n",
    "\n",
    "arr = np.arange(len(leaf_ids))\n",
    "np.random.shuffle(arr)\n",
    "\n",
    "nb_sporulating_leaves = 25\n",
    "indices = arr[0:nb_sporulating_leaves].tolist()\n",
    "\n",
    "#for i in indices:\n",
    "    \n",
    "source_leaves = [leaf_ids[i] for i in indices]\n",
    "# Deterministic choice \n",
    "#leaf_index = 1\n",
    "# Select randomly a leaf\n",
    "#from random import randint\n",
    "#leaf_index = randint(1, len(leaf_ids))-1\n",
    "\n",
    "#source_leaf = leaf_ids[leaf_index]\n",
    "\n",
    "# Alternatively, pick a leaf based on its position in the canopy\n",
    "#vid, hmax = get_source_leaf_and_max_height(g)\n",
    "#source_leaf = g.node(vid)\n"
   ],
   "outputs": [],
   "metadata": {}
  },
  {
   "cell_type": "markdown",
   "source": [
    "# Select a set of leaves of a given plant and infest some of its leaves"
   ],
   "metadata": {}
  },
  {
   "cell_type": "code",
   "execution_count": 10,
   "source": [
    "plant_ids = g.vertices(scale=1)\n",
    "nb_plants = len(plant_ids)\n",
    "pid = plant_ids[nb_plants / 2] \n",
    "\n",
    "#Compute the centroid\n",
    "vid, hmax = get_source_leaf_and_max_height(g)\n",
    "print hmax\n",
    "max_scale = g.max_scale()\n",
    "centroids = g.property('centroid')\n",
    "leaves = [v for v in g.components_at_scale(pid, scale=max_scale) if 'Leaf' in g.label(v)]\n",
    "def select_leaves(v):\n",
    "    return centroids[v].z < hmax/3. if v in centroids else False\n",
    "source_leaves = [v for v in leaves if select_leaves(v)]\n",
    "source_leaves"
   ],
   "outputs": [
    {
     "output_type": "stream",
     "name": "stdout",
     "text": [
      "70.6290865529\n"
     ]
    },
    {
     "output_type": "execute_result",
     "data": {
      "text/plain": [
       "[9243, 9244, 9245, 9246, 9262, 9263, 9264, 9265]"
      ]
     },
     "metadata": {},
     "execution_count": 10
    }
   ],
   "metadata": {}
  },
  {
   "cell_type": "markdown",
   "source": [
    "# Inoculate the source leaves"
   ],
   "metadata": {}
  },
  {
   "cell_type": "code",
   "execution_count": 17,
   "source": [
    "# inoculate this leaf\n",
    "for i in source_leaves:\n",
    "    source_lesion = fungus.lesion()\n",
    "    source_lesion.is_sporulating = True # Required for Popdrops usage\n",
    "    source_leaf = g.node(i)\n",
    "    source_leaf.lesions = [source_lesion]"
   ],
   "outputs": [],
   "metadata": {}
  },
  {
   "cell_type": "markdown",
   "source": [
    "# Setup the dispersal models"
   ],
   "metadata": {}
  },
  {
   "cell_type": "code",
   "execution_count": 13,
   "source": [
    "# Setup dispersal models + parameters for dispersion\n",
    "emitter = SimpleEmission()\n",
    "#rain 3d (slow)\n",
    "transporter = SeptoriaRainDispersal()\n",
    "# wind 3d (callonec model)\n",
    "#transporter = PowderyMildewWindDispersal(label='LeafElement')\n",
    "# wind 1D\n",
    "#transporter = BrownRustDispersal(domain_area=adel.domain_area)\n",
    "# missing : rian 1D (septo 3d dispersal model)\n"
   ],
   "outputs": [],
   "metadata": {}
  },
  {
   "cell_type": "markdown",
   "source": [
    "# Simulate using the generic algorithm"
   ],
   "metadata": {}
  },
  {
   "cell_type": "code",
   "execution_count": 18,
   "source": [
    "# Simulate one dispersal event\n",
    "g = disperse(g, emission_model=emitter, transport_model=transporter, fungus_name=fungus_name)\n"
   ],
   "outputs": [],
   "metadata": {}
  },
  {
   "cell_type": "markdown",
   "source": [
    "# Plot the results"
   ],
   "metadata": {}
  },
  {
   "cell_type": "code",
   "execution_count": 15,
   "source": [
    "# Visualize (currently only works for septoria)\n",
    "# rain/ wind\n",
    "transporter.plot_distri_3d(g)\n",
    "# wind 1D\n",
    "#transporter.plot_layers(g)\n"
   ],
   "outputs": [],
   "metadata": {}
  },
  {
   "cell_type": "code",
   "execution_count": 31,
   "source": [],
   "outputs": [],
   "metadata": {}
  },
  {
   "cell_type": "code",
   "execution_count": 23,
   "source": [
    "gs=split(g)"
   ],
   "outputs": [],
   "metadata": {}
  },
  {
   "cell_type": "code",
   "execution_count": 25,
   "source": [
    "gs[1].display()"
   ],
   "outputs": [
    {
     "output_type": "stream",
     "name": "stdout",
     "text": [
      "MTG : nb_vertices=137, nb_scales=5\n",
      "/MS\t\t\t(id=1)\t\t\t\t\t\t\t\t\t\t\t\n",
      "^/metamer1\t\t\t(id=2)\t\t\t\t\t\t\t\t\t\t\t\n",
      "^/internode\t\t\t(id=3)\t\t\t\t\t\t\t\t\t\t\t\n",
      "^/HiddenElement\t\t\t(id=4)\t\t\t\t\t\t\t\t\t\t\t\n",
      "^<StemElement\t\t\t(id=5)\t\t\t\t\t\t\t\t\t\t\t\n",
      "\t+sheath\t\t\t(id=6)\t\t\t\t\t\t\t\t\t\t\n",
      "\t^/HiddenElement\t\t\t(id=7)\t\t\t\t\t\t\t\t\t\t\n",
      "\t^<StemElement\t\t\t(id=8)\t\t\t\t\t\t\t\t\t\t\n",
      "\t^<blade\t\t\t(id=9)\t\t\t\t\t\t\t\t\t\t\n",
      "\t^/HiddenElement\t\t\t(id=10)\t\t\t\t\t\t\t\t\t\t\n",
      "^<metamer2\t\t\t(id=11)\t\t\t\t\t\t\t\t\t\t\t\n",
      "^/internode\t\t\t(id=12)\t\t\t\t\t\t\t\t\t\t\t\n",
      "^/HiddenElement\t\t\t(id=13)\t\t\t\t\t\t\t\t\t\t\t\n",
      "^<StemElement\t\t\t(id=14)\t\t\t\t\t\t\t\t\t\t\t\n",
      "\t+sheath\t\t\t(id=15)\t\t\t\t\t\t\t\t\t\t\n",
      "\t^/HiddenElement\t\t\t(id=16)\t\t\t\t\t\t\t\t\t\t\n",
      "\t^<StemElement\t\t\t(id=17)\t\t\t\t\t\t\t\t\t\t\n",
      "\t^<blade\t\t\t(id=18)\t\t\t\t\t\t\t\t\t\t\n",
      "\t^/HiddenElement\t\t\t(id=19)\t\t\t\t\t\t\t\t\t\t\n",
      "^<metamer3\t\t\t(id=20)\t\t\t\t\t\t\t\t\t\t\t\n",
      "^/internode\t\t\t(id=21)\t\t\t\t\t\t\t\t\t\t\t\n",
      "^/HiddenElement\t\t\t(id=22)\t\t\t\t\t\t\t\t\t\t\t\n",
      "^<StemElement\t\t\t(id=23)\t\t\t\t\t\t\t\t\t\t\t\n",
      "\t+sheath\t\t\t(id=24)\t\t\t\t\t\t\t\t\t\t\n",
      "\t^/HiddenElement\t\t\t(id=25)\t\t\t\t\t\t\t\t\t\t\n",
      "\t^<StemElement\t\t\t(id=26)\t\t\t\t\t\t\t\t\t\t\n",
      "\t^<blade\t\t\t(id=27)\t\t\t\t\t\t\t\t\t\t\n",
      "\t^/HiddenElement\t\t\t(id=28)\t\t\t\t\t\t\t\t\t\t\n",
      "^<metamer4\t\t\t(id=29)\t\t\t\t\t\t\t\t\t\t\t\n",
      "^/internode\t\t\t(id=30)\t\t\t\t\t\t\t\t\t\t\t\n",
      "^/HiddenElement\t\t\t(id=31)\t\t\t\t\t\t\t\t\t\t\t\n",
      "^<StemElement\t\t\t(id=32)\t\t\t\t\t\t\t\t\t\t\t\n",
      "\t+sheath\t\t\t(id=33)\t\t\t\t\t\t\t\t\t\t\n",
      "\t^/HiddenElement\t\t\t(id=34)\t\t\t\t\t\t\t\t\t\t\n",
      "\t^<StemElement\t\t\t(id=35)\t\t\t\t\t\t\t\t\t\t\n",
      "\t^<blade\t\t\t(id=36)\t\t\t\t\t\t\t\t\t\t\n",
      "\t^/HiddenElement\t\t\t(id=37)\t\t\t\t\t\t\t\t\t\t\n",
      "^<metamer5\t\t\t(id=38)\t\t\t\t\t\t\t\t\t\t\t\n",
      "^/internode\t\t\t(id=39)\t\t\t\t\t\t\t\t\t\t\t\n",
      "^/HiddenElement\t\t\t(id=40)\t\t\t\t\t\t\t\t\t\t\t\n",
      "^<StemElement\t\t\t(id=41)\t\t\t\t\t\t\t\t\t\t\t\n",
      "\t+sheath\t\t\t(id=42)\t\t\t\t\t\t\t\t\t\t\n",
      "\t^/HiddenElement\t\t\t(id=43)\t\t\t\t\t\t\t\t\t\t\n",
      "\t^<StemElement\t\t\t(id=44)\t\t\t\t\t\t\t\t\t\t\n",
      "\t^<blade\t\t\t(id=45)\t\t\t\t\t\t\t\t\t\t\n",
      "\t^/HiddenElement\t\t\t(id=46)\t\t\t\t\t\t\t\t\t\t\n",
      "^<metamer6\t\t\t(id=47)\t\t\t\t\t\t\t\t\t\t\t\n",
      "^/internode\t\t\t(id=48)\t\t\t\t\t\t\t\t\t\t\t\n",
      "^/HiddenElement\t\t\t(id=49)\t\t\t\t\t\t\t\t\t\t\t\n",
      "^<StemElement\t\t\t(id=50)\t\t\t\t\t\t\t\t\t\t\t\n",
      "\t+sheath\t\t\t(id=51)\t\t\t\t\t\t\t\t\t\t\n",
      "\t^/HiddenElement\t\t\t(id=52)\t\t\t\t\t\t\t\t\t\t\n",
      "\t^<StemElement\t\t\t(id=53)\t\t\t\t\t\t\t\t\t\t\n",
      "\t^<blade\t\t\t(id=54)\t\t\t\t\t\t\t\t\t\t\n",
      "\t^/HiddenElement\t\t\t(id=55)\t\t\t\t\t\t\t\t\t\t\n",
      "^<metamer7\t\t\t(id=56)\t\t\t\t\t\t\t\t\t\t\t\n",
      "^/internode\t\t\t(id=57)\t\t\t\t\t\t\t\t\t\t\t\n",
      "^/HiddenElement\t\t\t(id=58)\t\t\t\t\t\t\t\t\t\t\t\n",
      "^<StemElement\t\t\t(id=59)\t\t\t\t\t\t\t\t\t\t\t\n",
      "\t+sheath\t\t\t(id=60)\t\t\t\t\t\t\t\t\t\t\n",
      "\t^/HiddenElement\t\t\t(id=61)\t\t\t\t\t\t\t\t\t\t\n",
      "\t^<StemElement\t\t\t(id=62)\t\t\t\t\t\t\t\t\t\t\n",
      "\t^<blade\t\t\t(id=63)\t\t\t\t\t\t\t\t\t\t\n",
      "\t^/HiddenElement\t\t\t(id=64)\t\t\t\t\t\t\t\t\t\t\n",
      "^<metamer8\t\t\t(id=65)\t\t\t\t\t\t\t\t\t\t\t\n",
      "^/internode\t\t\t(id=66)\t\t\t\t\t\t\t\t\t\t\t\n",
      "^/HiddenElement\t\t\t(id=67)\t\t\t\t\t\t\t\t\t\t\t\n",
      "^<StemElement\t\t\t(id=68)\t\t\t\t\t\t\t\t\t\t\t\n",
      "\t+sheath\t\t\t(id=69)\t\t\t\t\t\t\t\t\t\t\n",
      "\t^/HiddenElement\t\t\t(id=70)\t\t\t\t\t\t\t\t\t\t\n",
      "\t^<StemElement\t\t\t(id=71)\t\t\t\t\t\t\t\t\t\t\n",
      "\t^<blade\t\t\t(id=72)\t\t\t\t\t\t\t\t\t\t\n",
      "\t^/HiddenElement\t\t\t(id=73)\t\t\t\t\t\t\t\t\t\t\n",
      "\t^<LeafElement1\t\t\t(id=74)\t\t\t\t\t\t\t\t\t\t\n",
      "\t^<LeafElement2\t\t\t(id=75)\t\t\t\t\t\t\t\t\t\t\n",
      "\t^<LeafElement3\t\t\t(id=76)\t\t\t\t\t\t\t\t\t\t\n",
      "\t^<LeafElement4\t\t\t(id=77)\t\t\t\t\t\t\t\t\t\t\n",
      "\t^<LeafElement5\t\t\t(id=78)\t\t\t\t\t\t\t\t\t\t\n",
      "\t^<LeafElement6\t\t\t(id=79)\t\t\t\t\t\t\t\t\t\t\n",
      "\t^<LeafElement7\t\t\t(id=80)\t\t\t\t\t\t\t\t\t\t\n",
      "^<metamer9\t\t\t(id=81)\t\t\t\t\t\t\t\t\t\t\t\n",
      "^/internode\t\t\t(id=82)\t\t\t\t\t\t\t\t\t\t\t\n",
      "^/HiddenElement\t\t\t(id=83)\t\t\t\t\t\t\t\t\t\t\t\n",
      "^<StemElement\t\t\t(id=84)\t\t\t\t\t\t\t\t\t\t\t\n",
      "\t+sheath\t\t\t(id=85)\t\t\t\t\t\t\t\t\t\t\n",
      "\t^/HiddenElement\t\t\t(id=86)\t\t\t\t\t\t\t\t\t\t\n",
      "\t^<StemElement\t\t\t(id=87)\t\t\t\t\t\t\t\t\t\t\n",
      "\t^<blade\t\t\t(id=88)\t\t\t\t\t\t\t\t\t\t\n",
      "\t^/HiddenElement\t\t\t(id=89)\t\t\t\t\t\t\t\t\t\t\n",
      "\t^<LeafElement1\t\t\t(id=90)\t\t\t\t\t\t\t\t\t\t\n",
      "\t^<LeafElement2\t\t\t(id=91)\t\t\t\t\t\t\t\t\t\t\n",
      "\t^<LeafElement3\t\t\t(id=92)\t\t\t\t\t\t\t\t\t\t\n",
      "\t^<LeafElement4\t\t\t(id=93)\t\t\t\t\t\t\t\t\t\t\n",
      "\t^<LeafElement5\t\t\t(id=94)\t\t\t\t\t\t\t\t\t\t\n",
      "\t^<LeafElement6\t\t\t(id=95)\t\t\t\t\t\t\t\t\t\t\n",
      "\t^<LeafElement7\t\t\t(id=96)\t\t\t\t\t\t\t\t\t\t\n",
      "^<metamer10\t\t\t(id=97)\t\t\t\t\t\t\t\t\t\t\t\n",
      "^/internode\t\t\t(id=98)\t\t\t\t\t\t\t\t\t\t\t\n",
      "^/HiddenElement\t\t\t(id=99)\t\t\t\t\t\t\t\t\t\t\t\n",
      "^<StemElement\t\t\t(id=100)\t\t\t\t\t\t\t\t\t\t\t\n",
      "\t+sheath\t\t\t(id=101)\t\t\t\t\t\t\t\t\t\t\n",
      "\t^/HiddenElement\t\t\t(id=102)\t\t\t\t\t\t\t\t\t\t\n",
      "\t^<StemElement\t\t\t(id=103)\t\t\t\t\t\t\t\t\t\t\n",
      "\t^<blade\t\t\t(id=104)\t\t\t\t\t\t\t\t\t\t\n",
      "\t^/HiddenElement\t\t\t(id=105)\t\t\t\t\t\t\t\t\t\t\n",
      "\t^<LeafElement1\t\t\t(id=106)\t\t\t\t\t\t\t\t\t\t\n",
      "\t^<LeafElement2\t\t\t(id=107)\t\t\t\t\t\t\t\t\t\t\n",
      "\t^<LeafElement3\t\t\t(id=108)\t\t\t\t\t\t\t\t\t\t\n",
      "\t^<LeafElement4\t\t\t(id=109)\t\t\t\t\t\t\t\t\t\t\n",
      "\t^<LeafElement5\t\t\t(id=110)\t\t\t\t\t\t\t\t\t\t\n",
      "\t^<LeafElement6\t\t\t(id=111)\t\t\t\t\t\t\t\t\t\t\n",
      "\t^<LeafElement7\t\t\t(id=112)\t\t\t\t\t\t\t\t\t\t\n",
      "^<metamer11\t\t\t(id=113)\t\t\t\t\t\t\t\t\t\t\t\n",
      "^/internode\t\t\t(id=114)\t\t\t\t\t\t\t\t\t\t\t\n",
      "^/HiddenElement\t\t\t(id=115)\t\t\t\t\t\t\t\t\t\t\t\n",
      "^<StemElement\t\t\t(id=116)\t\t\t\t\t\t\t\t\t\t\t\n",
      "\t+sheath\t\t\t(id=117)\t\t\t\t\t\t\t\t\t\t\n",
      "\t^/HiddenElement\t\t\t(id=118)\t\t\t\t\t\t\t\t\t\t\n",
      "\t^<StemElement\t\t\t(id=119)\t\t\t\t\t\t\t\t\t\t\n",
      "\t^<blade\t\t\t(id=120)\t\t\t\t\t\t\t\t\t\t\n",
      "\t^/HiddenElement\t\t\t(id=121)\t\t\t\t\t\t\t\t\t\t\n",
      "\t^<LeafElement1\t\t\t(id=122)\t\t\t\t\t\t\t\t\t\t\n",
      "\t^<LeafElement2\t\t\t(id=123)\t\t\t\t\t\t\t\t\t\t\n",
      "\t^<LeafElement3\t\t\t(id=124)\t\t\t\t\t\t\t\t\t\t\n",
      "\t^<LeafElement4\t\t\t(id=125)\t\t\t\t\t\t\t\t\t\t\n",
      "\t^<LeafElement5\t\t\t(id=126)\t\t\t\t\t\t\t\t\t\t\n",
      "\t^<LeafElement6\t\t\t(id=127)\t\t\t\t\t\t\t\t\t\t\n",
      "\t^<LeafElement7\t\t\t(id=128)\t\t\t\t\t\t\t\t\t\t\n",
      "^<metamer12\t\t\t(id=129)\t\t\t\t\t\t\t\t\t\t\t\n",
      "^/peduncle\t\t\t(id=130)\t\t\t\t\t\t\t\t\t\t\t\n",
      "^/HiddenElement\t\t\t(id=131)\t\t\t\t\t\t\t\t\t\t\t\n",
      "^<StemElement\t\t\t(id=132)\t\t\t\t\t\t\t\t\t\t\t\n",
      "^<metamer13\t\t\t(id=133)\t\t\t\t\t\t\t\t\t\t\t\n",
      "^/ear\t\t\t(id=134)\t\t\t\t\t\t\t\t\t\t\t\n",
      "^/HiddenElement\t\t\t(id=135)\t\t\t\t\t\t\t\t\t\t\t\n",
      "^<StemElement\t\t\t(id=136)\t\t\t\t\t\t\t\t\t\t\t\n"
     ]
    }
   ],
   "metadata": {}
  },
  {
   "cell_type": "code",
   "execution_count": null,
   "source": [],
   "outputs": [],
   "metadata": {}
  }
 ],
 "metadata": {
  "kernelspec": {
   "name": "python3",
   "display_name": "Python 3.8.10 64-bit ('openalea3': conda)"
  },
  "language_info": {
   "codemirror_mode": {
    "name": "ipython",
    "version": 3
   },
   "file_extension": ".py",
   "mimetype": "text/x-python",
   "name": "python",
   "nbconvert_exporter": "python",
   "pygments_lexer": "ipython3",
   "version": "3.8.10"
  },
  "interpreter": {
   "hash": "15760ed624cc1cdbeee8899cf2ab79828e6c6fae370f4f721d521e8137f9eafe"
  }
 },
 "nbformat": 4,
 "nbformat_minor": 1
}